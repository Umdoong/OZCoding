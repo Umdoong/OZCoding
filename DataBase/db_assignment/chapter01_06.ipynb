{
 "cells": [
  {
   "cell_type": "markdown",
   "metadata": {},
   "source": [
    "[문제1]\n",
    "\n",
    "DBMS 특징이 아닌것을 골라주세요\n",
    "\n",
    "- 데이터 무경성\n",
    "- 데이터 보안성\n",
    "- 데이터 일관성\n",
    "- 데이터 의존성"
   ]
  },
  {
   "cell_type": "markdown",
   "metadata": {},
   "source": [
    "정답 : 데이터 의존성\n",
    "\n",
    "DBMS의 특징(ACID)은 크게 4가지로 구성되어 있습니다.  \n",
    "### Atomicity(원자성)  \n",
    "\n",
    "    All or Nothing, 주어진 작업을 모두 성공하거나 모두 실패할 뿐, 일부 성공이나 일부 실패는 허용하지 않는 성질  \n",
    "### Consistency(일관성)  \n",
    "\n",
    "    데이터 베이스가 일관된 상태를 유지하는 성질  \n",
    "### Isolation(격리성)  \n",
    "\n",
    "    동시에  수행되는 여러 트랜젝션이 서로 간섭하지 않도록 보장하는 성질  \n",
    "### Durability(지속성)  \n",
    "\n",
    "    트랜젝션이 성공적으로 완료된 후에 그 결과가 영구적으로 반영되는 성질\n"
   ]
  },
  {
   "cell_type": "markdown",
   "metadata": {},
   "source": [
    "[문제2]\n",
    "\n",
    "아래 설명에 해당하는 데이터 모델을 골라주세요\n",
    "\n",
    "```\n",
    "표 형태로 데이터를 저장하고 SQL을 사용하여 데이터를 조작합니다. \n",
    "가장 널리 사용되는 데이터 모델 중 하나이며 RDBMS에서 지원합니다.\n",
    "```\n",
    "\n",
    "- 관계형 데이터 모델\n",
    "- 객체 지향형 데이터 모델\n",
    "- 계층형 데이터 모델\n",
    "- 네트워크형 데이터 모델"
   ]
  },
  {
   "cell_type": "markdown",
   "metadata": {},
   "source": [
    "정답 : 관계형 데이터 모델\n",
    "\n",
    "계층형 데이터 모델\n",
    "\n",
    "    윈도우 파일 시스템의 디렉터리 구조와 같이 데이터를 트리 구조로 표현\n",
    "    상위 레코드와 하위 레코드 간의 부모-자식 관계가 정의되어 있습니다.\n",
    "    \n",
    "네트워크형 데이터 모델\n",
    "\n",
    "    계층형 데이터베이스의 단점을 보완하기 위해 자료간 link를 network형태로 자유롭게 연ㄴ결할 수 있도록 개선한 모델\n",
    "    복잡한 데이터 관계를 다룰 때 사용하지만 각 레코드가 여러 부모 레코드를 가질 수 있기에 복잡합니다\n",
    "    \n",
    "객체 지향형 데이터 모델\n",
    "\n",
    "    클래스와 객체의 개념을 기반으로 데이터를 관리합니다.\n"
   ]
  },
  {
   "cell_type": "markdown",
   "metadata": {},
   "source": [
    "[문제3]\n",
    "\n",
    "데이터베이스의 구조를 정의하는 것을 골라주세요\n",
    "\n",
    "- 인덱스\n",
    "- 트랜잭션\n",
    "- 스키마\n",
    "- SQL"
   ]
  },
  {
   "cell_type": "markdown",
   "metadata": {},
   "source": [
    "정답 : 스키마\n",
    "\n",
    "스키마\n",
    "\n",
    "    RDBMS에서 데이터의 구조와 구성을 정의하는 청사진입니다.\n",
    "\n",
    "Index\n",
    "\n",
    "    데이터베이스에서 데이터 검색 속도를 향상시키기 위한 자료구조입니다.\n",
    "트랜잭션\n",
    "\n",
    "    데이터베이스가 처리하는 작업의 단위를 나타냅니다.\n",
    "SQL\n",
    "\n",
    "    Structured Query Language의 약자로 RDBMS에서 데이터를 정의, 처리, 제어하는데 사용되는 표준화된 언어입니다."
   ]
  },
  {
   "cell_type": "markdown",
   "metadata": {},
   "source": [
    "[문제4]\n",
    "\n",
    "RDBMS의 대표적인 단점이 아닌것을 골라주세요\n",
    "\n",
    "- 실시간 데이터 처리의 어려움\n",
    "- 운영 비용이 비쌈\n",
    "- 테이블 join의 복잡성\n",
    "- 미리 만들어진 스키마 구조를 변경 또는 확장하는데 어려움\n",
    "- 대량의 데이터를 저장하는게 어려움"
   ]
  },
  {
   "cell_type": "markdown",
   "metadata": {},
   "source": [
    "정답 : 대량의 데이터를 저장하는게 어려움\n",
    "\n",
    "RDBMS는 hadoop과 같은 다른 데이터베이스보다 대량의 데이터를 처리하기 힘들 수 있지만  \n",
    "그렇다고 대량의 데이터를 저장하는 게 어려운 건 아니다"
   ]
  },
  {
   "cell_type": "markdown",
   "metadata": {},
   "source": [
    "[문제5]\n",
    "\n",
    "RDBMS의 구성 요소 중 고유한 값을 나타내는 것을 골라주세요\n",
    "\n",
    "- column\n",
    "- row\n",
    "- FK\n",
    "- PK"
   ]
  },
  {
   "cell_type": "markdown",
   "metadata": {},
   "source": [
    "정답 : PK\n",
    "\n",
    "Primary Key(기본 키)\n",
    "\n",
    "    테이블 내의 각 column을 고유하게 식별하는 row입니다.\n",
    "    PK 값은 유일해야 하며, 각 column마다 다른 값을 가져야 합니다.\n",
    "Foreign Key(외래 키)\n",
    "\n",
    "    다른 테이블의 PK를 참조하는 열입니다.\n",
    "    FK는 두 테이블 간의 관계를 설명하는 데 사용됩니다."
   ]
  },
  {
   "cell_type": "markdown",
   "metadata": {},
   "source": [
    "[문제6]\n",
    "\n",
    "대표적인 RDBMS가 아닌것을 골라주세요\n",
    "\n",
    "- SQLite\n",
    "- Oracle Database\n",
    "- PostgreSQL\n",
    "- Firebase"
   ]
  },
  {
   "cell_type": "markdown",
   "metadata": {},
   "source": "정답 : Firebase"
  },
  {
   "cell_type": "markdown",
   "metadata": {},
   "source": [
    "[문제7]\n",
    "\n",
    "물리적 스키마란 무엇을 의마하는지 골라주세요\n",
    "\n",
    "- 데이터베이스 논리적 구조\n",
    "- 데이터베이스 물리적 저장 방식\n",
    "- 데이터베이스 사용자 뷰\n",
    "- 데이터베이스의 엑세스 권한"
   ]
  },
  {
   "cell_type": "markdown",
   "metadata": {},
   "source": "정답 : 데이터베이스 물리적 저장 방식"
  },
  {
   "cell_type": "markdown",
   "metadata": {},
   "source": [
    "[문제8]\n",
    "\n",
    "SQL 언어에 해당하지 않는 것을 골라주세요\n",
    "\n",
    "- 데이터 처리 언어(DML)\n",
    "- 데이터 제어 언어(DCL)\n",
    "- 데이터 연결 언어(DCL)\n",
    "- 데이터 정의 언어(DDL)"
   ]
  },
  {
   "cell_type": "markdown",
   "metadata": {},
   "source": [
    "정답 : 데이터 연결 언어(DCL)\n",
    "\n",
    "SQL언어\n",
    "\n",
    "    데이터 정의 언어(DDL)\n",
    "    TCAD\n",
    "    데이터 처리 언어(DML)\n",
    "    SIUD\n",
    "    데이터 제어 언어(DCL)\n",
    "    RG"
   ]
  },
  {
   "cell_type": "markdown",
   "metadata": {},
   "source": [
    "[문제9]\n",
    "\n",
    "데이터 처리 언어(DML)의 설명으로 틀린것을 골라주세요\n",
    "\n",
    "- select : 데이터베이스에서 정보를 검색\n",
    "- insert : 새로운 데이터를 테이블에 삽입\n",
    "- count : 테이블의 데이터 개수 확인\n",
    "- delete : 테이블에서 데이터를 삭제"
   ]
  },
  {
   "cell_type": "markdown",
   "metadata": {},
   "source": "정답 : count"
  },
  {
   "cell_type": "markdown",
   "metadata": {},
   "source": [
    "[문제10]\n",
    "\n",
    "데이터 제어 언어(DCL)인 GRANT에 대한 설명으로 옳은 것을 골라주세요\n",
    "\n",
    "- 사용자에게 특정 작업을 수행할 권한을 부여한다.\n",
    "- 사용자로부터 특정 작업 수행 권항을 제거한다.\n",
    "- 다른 사용자에게 동일한 권한을 전달할때 사용한다.\n",
    "- 부여된 권한 중 일부를 제한할때 사용한다."
   ]
  },
  {
   "cell_type": "markdown",
   "metadata": {},
   "source": "정답 : 사용자에게 특정 작업을 수행할 권한을 부여한다."
  }
 ],
 "metadata": {
  "language_info": {
   "name": "python"
  }
 },
 "nbformat": 4,
 "nbformat_minor": 2
}
