{
 "cells": [
  {
   "cell_type": "markdown",
   "metadata": {},
   "source": [
    "[문제1]\n",
    "\n",
    "데이터 제어 언어(DCL)인 GRANT에 대한 설명으로 옳은 것을 골라주세요\n",
    "\n",
    "- 사용자에게 특정 작업을 수행할 권한을 부여한다.\n",
    "- 사용자로부터 특정 작업 수행 권항을 제거한다.\n",
    "- 다른 사용자에게 동일한 권한을 전달할때 사용한다.\n",
    "- 부여된 권한 중 일부를 제한할때 사용한다."
   ]
  },
  {
   "cell_type": "markdown",
   "metadata": {},
   "source": [
    "정답 : 사용자로부터 특정 작업을 수행할 권한을 부여한다.  \n",
    "\n",
    "DCL은 GRANT와 REVOKE가 있습니다.\n",
    "\n",
    "REVOKE\n",
    "\n",
    "    사용자로부터 특정 작업 수행 권한을 제거합니다."
   ]
  },
  {
   "cell_type": "markdown",
   "metadata": {},
   "source": [
    "[문제2]\n",
    "\n",
    "테이블을 생성하기 위해서 사용되는 sql문을 선택해주세요\n",
    "\n",
    "- CREATE TABLE\n",
    "- CREATE NEW TABLE\n",
    "- ADD TABLE\n",
    "- UPDATE TABLE"
   ]
  },
  {
   "cell_type": "markdown",
   "metadata": {},
   "source": [
    "정답 : CREATE TABLE\n",
    "\n",
    "CREATE는 DDL(Data Definition Language, 데이터 정의 언어)입니다.\n",
    "\n",
    "    CREATE : 데이터베이스 객체를 생성합니다.(CREATE TABLE, CREATE INDEX 등)\n",
    "    ALTER : 데이터베이스 객체를 수정합니다.(ALTER TABLE 등)\n",
    "    DROP : 데이터베이스 객체를 삭제합니다.(DROP TABLE 등)\n",
    "    TRUNCATE : 테이블의 모든 레코드를 삭제하지만 테이블을 유지합니다.\n",
    "\n"
   ]
  },
  {
   "cell_type": "markdown",
   "metadata": {},
   "source": [
    "[문제3]\n",
    "\n",
    "데이터베이스의 숫자형 데이터 타입이 아닌것을 선택해주세요\n",
    "\n",
    "- BIT\n",
    "- INT\n",
    "- CHAR\n",
    "- BIGINT"
   ]
  },
  {
   "cell_type": "markdown",
   "metadata": {},
   "source": [
    "정답 : CHAR\n",
    "\n",
    "CHAR는 문자열입니다.  \n",
    "BIT, INT, BIGINT는 유효 값의 범위가 다를 뿐 전부 숫자형 데이터 타입입니다."
   ]
  },
  {
   "cell_type": "markdown",
   "metadata": {},
   "source": [
    "[문제4]\n",
    "\n",
    "날짜와 시간을 같이 나타내는 데이터 타입을 선택해주세요\n",
    "\n",
    "- DATE\n",
    "- TIME\n",
    "- DATETIME"
   ]
  },
  {
   "cell_type": "markdown",
   "metadata": {},
   "source": [
    "정답 : DATETIME\n",
    "\n",
    "YEAR, DATE, TIME, DATETIME은 정해진 범위 안에서 절대적인 값을 나타냅니다.  \n",
    "생일이나 기념일과 같이 특정 사건이 발생한 정학한 시점을 기록할 때 사용합니다.\n",
    "\n",
    "<br>\n",
    "\n",
    "TIMESTAMP는 UTC(세계협정시)로 저장되며, 조회 시 서버의 시간대 설정에 따라 변환됩니다.(나라별 시간 가능)  \n",
    "INSERT나 UPDATE 연산 시 현재 시간으로 자동 갱신이 가능합니다.  \n",
    "레코드(저장된 Entity)의 생성 또는 수정 시간을 기록할 때 주로 사용합니다.  \n",
    "예를 들어, 게시물의 작성 시간이나 마지막 수정 시간 등"
   ]
  },
  {
   "cell_type": "markdown",
   "metadata": {},
   "source": [
    "[문제5]\n",
    "\n",
    "데이터베이스 내의 트랜잭션을 관리하는데 사용되는 언어를 선택해주세요\n",
    "\n",
    "- DCL\n",
    "- DML\n",
    "- TCL\n",
    "- DDL"
   ]
  },
  {
   "cell_type": "markdown",
   "metadata": {},
   "source": [
    "정답 : TCL(Transaction Control Language)\n",
    "\n",
    "TCL\n",
    "\n",
    "    COMMIT : 트랜잭션을 완료하고, 데이터베이스 변경사항을 영구적으로 저장\n",
    "    ROLLBACK : 트랜잭션을 취소하고, 마지막 COMMIT 이후의 모든 변경사항을 되돌림\n",
    "    SAVEPOINT : 트랜잭션 내 특정 지점을 마킹하여 필요 시 그 지점으로 되돌릴 수 있음"
   ]
  },
  {
   "cell_type": "markdown",
   "metadata": {},
   "source": [
    "[문제6]\n",
    "\n",
    "SQL 언어에 해당하지 않는 것을 골라주세요\n",
    "\n",
    "- 데이터 처리 언어(DML)\n",
    "- 데이터 제어 언어(DCL)\n",
    "- 데이터 연결 언어(DCL)\n",
    "- 데이터 정의 언어(DDL)"
   ]
  },
  {
   "cell_type": "markdown",
   "metadata": {},
   "source": [
    "정답 : 데이터 연결 언어(DCL)\n",
    "\n",
    "SQL은 크게 4가지로 분류됩니다.\n",
    "\n",
    "    DDL : 데이터베이스의 구조를 정의(definition)하는데 쓰이는 언어\n",
    "        CREATE - 새로운 테이블이나 데이터베이스 생성\n",
    "        ALTER - 기존 테이블이나 데이터베이스 구조 수정\n",
    "        DROP - 테이블이나 데이터베이스 삭제\n",
    "    \n",
    "    DML : 데이터베이스 내의 데이터를 조작(manipulation)하는데 쓰이는 언어\n",
    "        SELECT - 데이터베이스에서 데이터 조회\n",
    "        INSERT - 테이블에 새로운 데이터 추가\n",
    "        UPDATE - 테이블의 기존 데이터 수정\n",
    "        DELETE - 테이블에서 데이터 삭제\n",
    "        \n",
    "    DCL : 데이터베이스 사용자의 권한을 관리하고 데이터 접근을 제어(control)하는데 쓰이는 언어\n",
    "        GRANT - 사용자에게 특정 데이터에 대한 접근 권한 부여\n",
    "        REVOKE - 사용자의 특정 데이터 접근 권한 제거\n",
    "        \n",
    "    TCL : 데이터베이스 내의 트랜잭션(transaction)을 관리하는데 쓰이는 언어\n",
    "        COMMIT - 트랜잭션을 완료하고, 데이터베이스 변경사항을 영구적으로 저장\n",
    "        ROLLBACK - 트랜잭션을 취소하고, 마지막 COMMIT 이후의 모든 변경사항을 되돌림\n",
    "        SAVEPOINT - 트랜잭션 내 특정 지점을 마킹하여 필요 시 그 지점으로 되돌릴 수 있음"
   ]
  },
  {
   "cell_type": "markdown",
   "metadata": {},
   "source": [
    "[문제7]\n",
    "\n",
    "데이터 처리 언어(DML)의 설명으로 틀린것을 골라주세요\n",
    "\n",
    "- select : 데이터베이스에서 정보를 검색\n",
    "- insert : 새로운 데이터를 테이블에 삽입\n",
    "- count : 테이블의 데이터 개수 확인\n",
    "- delete : 테이블에서 데이터를 삭제"
   ]
  },
  {
   "cell_type": "markdown",
   "metadata": {},
   "source": [
    "정답 : count\n",
    "\n",
    "DML에는 SELECT, INSERT, UPDATE, DELETE가 있다."
   ]
  }
 ],
 "metadata": {
  "language_info": {
   "name": "python"
  }
 },
 "nbformat": 4,
 "nbformat_minor": 2
}
