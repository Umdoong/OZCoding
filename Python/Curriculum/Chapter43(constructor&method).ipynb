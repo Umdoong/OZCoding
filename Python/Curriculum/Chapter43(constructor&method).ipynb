{
 "cells": [
  {
   "cell_type": "markdown",
   "metadata": {},
   "source": [
    "안녕하세요 \n",
    "\n",
    "수강생 여러분 \n",
    "\n",
    "오늘도 저와 함께 달릴 준비 되셨나요?\n",
    "\n",
    "그럼 생성자와 메소드에 대한 강의를 시작하겠습니다."
   ]
  },
  {
   "cell_type": "markdown",
   "metadata": {},
   "source": [
    "앞서 클래스의 이름과 같음 함수를 생성자라고 설명드렸습니다."
   ]
  },
  {
   "cell_type": "code",
   "execution_count": null,
   "metadata": {},
   "outputs": [],
   "source": [
    "#클래스를 선언(만들다)합니다.\n",
    "class CreateOzStudent:\n",
    "    pass\n",
    "\n",
    "#이때 사용 CreateOzStudent() 함수를 생성자 함수라고 합니다.\n",
    "student = CreateOzStudent()\n",
    "\n",
    "oz_students = [\n",
    "    CreateOzStudent(\"백현우\",4 ,3 ,3 ,2),\n",
    "    CreateOzStudent(\"홍혜인\",4 ,5 ,2 ,4),\n",
    "    CreateOzStudent(\"윤은성\",3 ,4 ,4 ,1),\n",
    "    CreateOzStudent(\"홍수철\",2 ,3 ,1 ,5)\n",
    "]"
   ]
  },
  {
   "cell_type": "markdown",
   "metadata": {},
   "source": [
    "이렇게 생성자 함수를 이용해서 객체를 만들때 그냥 만드는게 아니라<br>\n",
    "객체에 적용시키고자 하는 기본 속성이나 어떤 처리를 할 수가 있습니다.\n",
    "\n",
    "바로, class에 만들 수 있는 ```__init__``` 함수를 이용해서 말이죠\n",
    "\n",
    "사용 구문은 아래와 같습니다.\n",
    "\n",
    "```\n",
    "class 클래스 이름:\n",
    "    def __init__(self, 추가적인 매개변수):\n",
    "```\n",
    "\n",
    "여기서 init를 이용한 내부 함수 생성 시 주의해야할 점이 있습니다.\n",
    "\n",
    "매개변수로 첫번째값은 self를 입력해야합니다.\n",
    " - self가 아니고 다른 변수명을 사용해도 되나 전세계 개발자가 공통으로 사용하고 있기 때문에 self를 권장합니다.\n",
    " - self로 왜 자기 자신을 호출하나요? 어려운 내용입니다만 설명을 해보겠습니다. 너무 어렵다면 지금 당장은 이해하지 않으셔도 됩니다.\n",
    " \n",
    " 클래스 안에 선언 함수를 메소드라고 보통 부릅니다.<br>\n",
    " (파이썬에서는 멤버 함수 또는 인스턴스 함수라고 부르는 경우가 많습니다)<br>\n",
    " 이 메소드를 사용하기 위해서는 클래스명 뒤에 .점을 붙여 사용할 수 있습니다.\n",
    "\n",
    " 앞서 배웠던 os 모듈의 들어있는 listdir() 처럼 말이죠"
   ]
  },
  {
   "cell_type": "code",
   "execution_count": 5,
   "metadata": {},
   "outputs": [
    {
     "data": {
      "text/plain": [
       "['Chapter46_강의자료.ipynb',\n",
       " 'Chapter47_강의자료.ipynb',\n",
       " 'Chapter45_강의자료.ipynb',\n",
       " 'Chapter42_강의자료.ipynb',\n",
       " 'Chapter43_강의자료.ipynb',\n",
       " 'Chapter44_강의자료.ipynb']"
      ]
     },
     "execution_count": 5,
     "metadata": {},
     "output_type": "execute_result"
    }
   ],
   "source": [
    "import os\n",
    "\n",
    "os.listdir()"
   ]
  },
  {
   "cell_type": "markdown",
   "metadata": {},
   "source": [
    "이때 os 모듈이 메모리 어딘가에서 실행될 겁니다. \n",
    "\n",
    "그 위치는 어떻게 찾을까요?<br>\n",
    "self가 자기 자신을 참조한다고 말했습니다. 참조라는건 결국 메모리 어딘가에 위치해 있는지 주소를 참조하는 겁니다.\n",
    "그래서 self를 이용해 자기자신의 위치를 참고하기 위해 사용되는 겁니다.\n",
    "\n",
    "그러면 self에 값은 누가 넣어주나요?<br>\n",
    "파이썬에서 클래스 내부 함수의 매개변수 가장 첫번째 값에 자동으로 채워줍니다.\n",
    "\n",
    "그래서 클래스.메소드()만으로 우리는 쉽게 기능을 사용할 수 있는겁니다.\n",
    "\n",
    "그럼 수강생의 정보를 생성하는 코드를 class로 선언해보겠습니다."
   ]
  },
  {
   "cell_type": "code",
   "metadata": {
    "ExecuteTime": {
     "end_time": "2024-10-23T02:40:04.425540Z",
     "start_time": "2024-10-23T02:40:04.415557Z"
    }
   },
   "source": [
    "# __ 은 언더바('_') 두개 입니다.\n",
    "class CreateOzStudents:\n",
    "    def __init__(self, name, python, database, django, AWS):#name, python 등은 식별자\n",
    "            self.name = name#self가 가지고 있는 속성과 기능에 접근하는 방법 self.식별자\n",
    "            self.python = python\n",
    "            self.database = database\n",
    "            self.django = django\n",
    "            self.AWS = AWS\n",
    "\n",
    "#데이터 입력\n",
    "oz_students = [\n",
    "    CreateOzStudents(\"백현우\",4 ,3 ,3 ,2),#CreateOzStudent() 생성자를 이용해 리스트 안에 데이터 생성\n",
    "    CreateOzStudents(\"홍혜인\",4 ,5 ,2 ,4),\n",
    "    CreateOzStudents(\"윤은성\",3 ,4 ,4 ,1),\n",
    "    CreateOzStudents(\"홍수철\",2 ,3 ,1 ,5)\n",
    "]\n",
    "\n",
    "#oz_students 인스턴스 속성에 접근하는 방법\n",
    "print(oz_students[0].name)\n",
    "print(oz_students[0].python)\n",
    "print(oz_students[0].database)\n",
    "print(oz_students[0].django)\n",
    "print(oz_students[0].AWS)"
   ],
   "outputs": [
    {
     "name": "stdout",
     "output_type": "stream",
     "text": [
      "백현우\n",
      "4\n",
      "3\n",
      "3\n",
      "2\n"
     ]
    }
   ],
   "execution_count": 5
  },
  {
   "cell_type": "markdown",
   "metadata": {},
   "source": [
    "생성자에 대한 설명은 여기까지 하고 지금부터 메소드에 대해 알아보겠습니다.\n",
    "\n",
    "위에서 언급했듯이 클래스가 가지고 있는 함수를 메소드라고 부릅니다. \n",
    "\n",
    "메소드를 만드는 방법은 생성자를 만드는 방법과 비슷합니다.\n",
    "\n",
    "앞서 언급된 내용과 동일하게 메소드 생성시에도 매개변수로 첫번째 self를 적어줘야 합니다.\n",
    "\n",
    "```\n",
    "class 클래스 이름:\n",
    "    def 메소드 이름(self, 추가적인 매개변수)\n",
    "        pass\n",
    "```\n",
    "\n",
    "위에서 작성한 코드에 총합과 평균을 구하는 기능을 클래스의 내부 함수로 만들어보겠습니다."
   ]
  },
  {
   "cell_type": "code",
   "execution_count": 22,
   "metadata": {},
   "outputs": [
    {
     "name": "stdout",
     "output_type": "stream",
     "text": [
      "이름\t총점\t평균\n",
      "백현우\t12\t3.0\n",
      "홍혜인\t15\t3.75\n",
      "윤은성\t12\t3.0\n",
      "홍수철\t11\t2.75\n"
     ]
    }
   ],
   "source": [
    "# __ 은 언더바('_') 두개 입니다.\n",
    "class CreateOzStudent:\n",
    "    def __init__(self, name, python, database, django, AWS):#name, python 등은 식별자\n",
    "        self.name = name#self가 가지고 있는 속성과 기능에 접근하는 방법 self.식별자\n",
    "        self.python = python\n",
    "        self.database = database\n",
    "        self.django = django\n",
    "        self.AWS = AWS\n",
    "\n",
    "    def get_sum(self):\n",
    "        return self.python + self.database + self.django + self.AWS\n",
    "    \n",
    "    def get_average(self):\n",
    "        return self.get_sum() / 4\n",
    "    \n",
    "    def to_string(self):\n",
    "        return f'{self.name}\\t{self.get_sum()}\\t{self.get_average()}'\n",
    "\n",
    "#데이터 입력\n",
    "oz_students = [\n",
    "    CreateOzStudent(\"백현우\",4 ,3 ,3 ,2),#CreateOzStudent() 생성자를 이용해 리스트 안에 데이터 생성\n",
    "    CreateOzStudent(\"홍혜인\",4 ,5 ,2 ,4),\n",
    "    CreateOzStudent(\"윤은성\",3 ,4 ,4 ,1),\n",
    "    CreateOzStudent(\"홍수철\",2 ,3 ,1 ,5)\n",
    "]\n",
    "\n",
    "print(\"이름\", \"총점\", \"평균\", sep=\"\\t\")\n",
    "\n",
    "for student in oz_students:\n",
    "    print(student.to_string())"
   ]
  },
  {
   "metadata": {
    "ExecuteTime": {
     "end_time": "2024-10-23T02:56:12.026508Z",
     "start_time": "2024-10-23T02:56:12.010389Z"
    }
   },
   "cell_type": "code",
   "source": [
    "class Test:\n",
    "    def sum(self, a, b): # self는 자기 자신의 객체(인스턴스)를 참조한다\n",
    "        return a + b\n",
    "    \n",
    "test = Test()\n",
    "print(test.sum(5, 5)) # 클래스를 인스턴스화 해서 test변수명으로 참조하면 메소드의 첫 인자에 인스턴스(self)가 자동으로 입력된다\n",
    "print(Test.sum(test, 5, 5)) # 클래스명으로 메소드를 호출할 때 첫 인자로 인스턴스를 넣어주면 예외가 발생하지 않는다.(위 코드가 결국 내부에서는 이렇게 실행 됨)\n",
    "print(Test.sum(5, 5)) # 클래스명으로 메소드를 호출하면 인스턴스가 없기 때문에 첫 인자에 자동으로 인스턴스가 입력되지 않아 예외가 발생한다."
   ],
   "outputs": [
    {
     "name": "stdout",
     "output_type": "stream",
     "text": [
      "10\n",
      "10\n"
     ]
    },
    {
     "ename": "TypeError",
     "evalue": "Test.sum() missing 1 required positional argument: 'b'",
     "output_type": "error",
     "traceback": [
      "\u001B[0;31m---------------------------------------------------------------------------\u001B[0m",
      "\u001B[0;31mTypeError\u001B[0m                                 Traceback (most recent call last)",
      "Cell \u001B[0;32mIn[9], line 8\u001B[0m\n\u001B[1;32m      6\u001B[0m \u001B[38;5;28mprint\u001B[39m(test\u001B[38;5;241m.\u001B[39msum(\u001B[38;5;241m5\u001B[39m, \u001B[38;5;241m5\u001B[39m)) \u001B[38;5;66;03m# 클래스를 인스턴스화 해서 test변수명으로 참조하면 메소드의 첫 인자에 인스턴스(self)가 자동으로 입력된다(내부 구조 Test.sum(test, 5, 5))\u001B[39;00m\n\u001B[1;32m      7\u001B[0m \u001B[38;5;28mprint\u001B[39m(Test\u001B[38;5;241m.\u001B[39msum(test, \u001B[38;5;241m5\u001B[39m, \u001B[38;5;241m5\u001B[39m)) \u001B[38;5;66;03m# 클래스명으로 메소드를 호출할 때 첫 인자로 인스턴스를 넣어주면 예외가 발생하지 않는다.\u001B[39;00m\n\u001B[0;32m----> 8\u001B[0m \u001B[38;5;28mprint\u001B[39m(\u001B[43mTest\u001B[49m\u001B[38;5;241;43m.\u001B[39;49m\u001B[43msum\u001B[49m\u001B[43m(\u001B[49m\u001B[38;5;241;43m5\u001B[39;49m\u001B[43m,\u001B[49m\u001B[43m \u001B[49m\u001B[38;5;241;43m5\u001B[39;49m\u001B[43m)\u001B[49m) \u001B[38;5;66;03m# 클래스명으로 메소드를 호출하면 인스턴스가 없기 때문에 첫 인자에 자동으로 인스턴스가 입력되지 않아 예외가 발생한다.\u001B[39;00m\n",
      "\u001B[0;31mTypeError\u001B[0m: Test.sum() missing 1 required positional argument: 'b'"
     ]
    }
   ],
   "execution_count": 9
  },
  {
   "cell_type": "markdown",
   "metadata": {},
   "source": [
    "앞서 리스트, 딕셔너리, 함수를 이용해 만들었던 수강생 객체를 클래스 방식으로 변경해보았습니다.\n",
    "\n",
    "클래스를 이용했을뿐 두 코드의 결과는 동일합니다.\n",
    "\n",
    "이해도를 높이고 싶으시면 두 코드를 비교해 어떤 코드가 어떤 역할을 하는지를 분석하고 왜 클래스로 구성하게 되었는지에 대해 생각해보시면 도움이 되실겁니다.\n",
    "\n",
    "오늘의 강의는 여기까지 입니다. \n",
    "\n",
    "수강생 여러분 강의 듣느냐 수고많으셨습니다.\n",
    "\n",
    "그럼 저는 다음 강의에서 여러분을 기다리고 있겠습니다.\n"
   ]
  },
  {
   "cell_type": "markdown",
   "metadata": {},
   "source": []
  }
 ],
 "metadata": {
  "kernelspec": {
   "display_name": "Python 3",
   "language": "python",
   "name": "python3"
  },
  "language_info": {
   "codemirror_mode": {
    "name": "ipython",
    "version": 3
   },
   "file_extension": ".py",
   "mimetype": "text/x-python",
   "name": "python",
   "nbconvert_exporter": "python",
   "pygments_lexer": "ipython3",
   "version": "3.11.7"
  }
 },
 "nbformat": 4,
 "nbformat_minor": 2
}
