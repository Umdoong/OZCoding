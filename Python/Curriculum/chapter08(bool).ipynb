{
 "cells": [
  {
   "cell_type": "code",
   "id": "initial_id",
   "metadata": {
    "collapsed": true,
    "ExecuteTime": {
     "end_time": "2024-10-15T02:33:52.319333Z",
     "start_time": "2024-10-15T02:33:52.314669Z"
    }
   },
   "source": [
    "# bool의 쇼타임 시작됩니다.\n",
    "# 주의할 점 True true / False false 서로 다르다\n",
    "# 부등호\n",
    "\n",
    "print(3>1)\n",
    "print(3==1)\n",
    "print(3==3)\n",
    "print(20!=5)\n",
    "print(20!=20)"
   ],
   "outputs": [
    {
     "name": "stdout",
     "output_type": "stream",
     "text": [
      "True\n",
      "False\n",
      "True\n",
      "True\n",
      "False\n"
     ]
    }
   ],
   "execution_count": 2
  },
  {
   "metadata": {
    "ExecuteTime": {
     "end_time": "2024-10-15T02:38:12.218081Z",
     "start_time": "2024-10-15T02:38:12.213891Z"
    }
   },
   "cell_type": "code",
   "source": [
    "# 문자열 비교\n",
    "print(\"python\" == \"Python\")\n",
    "print(\"Python\" == \"Python\")\n",
    "print(\"Python\" != \"python\")"
   ],
   "id": "e4239be65bcde66a",
   "outputs": [
    {
     "name": "stdout",
     "output_type": "stream",
     "text": [
      "False\n",
      "True\n",
      "True\n"
     ]
    }
   ],
   "execution_count": 4
  },
  {
   "metadata": {},
   "cell_type": "code",
   "outputs": [],
   "execution_count": null,
   "source": [
    "print(5 >= 5)\n",
    "print(5 < 4)"
   ],
   "id": "986d7abbed48ee24"
  },
  {
   "metadata": {
    "ExecuteTime": {
     "end_time": "2024-10-15T02:40:49.679075Z",
     "start_time": "2024-10-15T02:40:49.672526Z"
    }
   },
   "cell_type": "code",
   "source": [
    "# 중요\n",
    "# ==, is\n",
    "\n",
    "print(3 is 3)\n",
    "print(3 == 3)\n",
    "print()\n",
    "print(3.0 is 3)\n",
    "print(3.0 == 3)\n",
    "print()\n",
    "#PID 확인\n",
    "print(id(3.0))\n",
    "print(id(3))\n",
    "\n",
    "# is는 타입도 구분한다!!"
   ],
   "id": "7dc9b38806df2344",
   "outputs": [
    {
     "name": "stdout",
     "output_type": "stream",
     "text": [
      "True\n",
      "True\n",
      "\n",
      "False\n",
      "True\n",
      "\n",
      "4607112816\n",
      "4572424232\n"
     ]
    },
    {
     "name": "stderr",
     "output_type": "stream",
     "text": [
      "<>:4: SyntaxWarning: \"is\" with 'int' literal. Did you mean \"==\"?\n",
      "<>:7: SyntaxWarning: \"is\" with 'float' literal. Did you mean \"==\"?\n",
      "<>:4: SyntaxWarning: \"is\" with 'int' literal. Did you mean \"==\"?\n",
      "<>:7: SyntaxWarning: \"is\" with 'float' literal. Did you mean \"==\"?\n",
      "/var/folders/0g/xh1h9gwx3kd7gjsmgnx6zt_80000gn/T/ipykernel_2053/3985441351.py:4: SyntaxWarning: \"is\" with 'int' literal. Did you mean \"==\"?\n",
      "  print(3 is 3)\n",
      "/var/folders/0g/xh1h9gwx3kd7gjsmgnx6zt_80000gn/T/ipykernel_2053/3985441351.py:7: SyntaxWarning: \"is\" with 'float' literal. Did you mean \"==\"?\n",
      "  print(3.0 is 3)\n"
     ]
    }
   ],
   "execution_count": 8
  },
  {
   "metadata": {},
   "cell_type": "markdown",
   "source": "#### 값 비교에는 is를 쓰면 안되는데 그 이유를 찾아서 기술 블로그에 작성해보세요!!!",
   "id": "4b6050294ccda3c7"
  },
  {
   "metadata": {
    "ExecuteTime": {
     "end_time": "2024-10-15T02:45:23.552479Z",
     "start_time": "2024-10-15T02:45:23.546526Z"
    }
   },
   "cell_type": "code",
   "source": [
    "# 본격적인 논리연산자\n",
    "# True : 1 / False : 0\n",
    "# and는 값이 동일하면 True\n",
    "print(True and True) # 1 * 1 = 1\n",
    "print(True and False) # 1 * 0 = 0\n",
    "print(False and True) # 0 * 1 = 0\n",
    "print(False and False) # 0 * 0 = 0"
   ],
   "id": "89870ae41b0c88b7",
   "outputs": [
    {
     "name": "stdout",
     "output_type": "stream",
     "text": [
      "True\n",
      "False\n",
      "False\n",
      "False\n"
     ]
    }
   ],
   "execution_count": 12
  },
  {
   "metadata": {
    "ExecuteTime": {
     "end_time": "2024-10-15T02:47:23.912224Z",
     "start_time": "2024-10-15T02:47:23.906496Z"
    }
   },
   "cell_type": "code",
   "source": [
    "# 본격적인 논리연산자\n",
    "# True : 1 / False : 0\n",
    "# or는 둘 중 하나만 True면 True를 반환 \n",
    "print(True or True) # 1 + 1 = 1\n",
    "print(True or False) # 1 + 0 = 1\n",
    "print(False or True) # 0 + 1 = 1\n",
    "print(False or False) # 0 + 0 = 0"
   ],
   "id": "e61efec0b8e4deb7",
   "outputs": [
    {
     "name": "stdout",
     "output_type": "stream",
     "text": [
      "True\n",
      "True\n",
      "True\n",
      "False\n"
     ]
    }
   ],
   "execution_count": 14
  },
  {
   "metadata": {
    "ExecuteTime": {
     "end_time": "2024-10-15T02:49:36.973958Z",
     "start_time": "2024-10-15T02:49:36.969526Z"
    }
   },
   "cell_type": "code",
   "source": [
    "# not\n",
    "\n",
    "print(not True)\n",
    "\n",
    "print(not False)"
   ],
   "id": "5ecb8cf7419135b3",
   "outputs": [
    {
     "name": "stdout",
     "output_type": "stream",
     "text": [
      "False\n",
      "True\n"
     ]
    }
   ],
   "execution_count": 16
  },
  {
   "metadata": {
    "ExecuteTime": {
     "end_time": "2024-10-15T02:51:12.271974Z",
     "start_time": "2024-10-15T02:51:12.267524Z"
    }
   },
   "cell_type": "code",
   "source": [
    "# 점점 복잡해지는 조건들!!!\n",
    "\n",
    "print(10 == 12 or 6 != 2)\n",
    "print(2 > 5 and 7 == 7)\n",
    "print(not 14 <= 15)\n",
    "print(not 7 is 7.0)"
   ],
   "id": "49dc6a52dd7e3ce7",
   "outputs": [
    {
     "name": "stdout",
     "output_type": "stream",
     "text": [
      "True\n",
      "False\n",
      "False\n",
      "True\n"
     ]
    },
    {
     "name": "stderr",
     "output_type": "stream",
     "text": [
      "<>:6: SyntaxWarning: \"is not\" with 'int' literal. Did you mean \"!=\"?\n",
      "<>:6: SyntaxWarning: \"is not\" with 'int' literal. Did you mean \"!=\"?\n",
      "/var/folders/0g/xh1h9gwx3kd7gjsmgnx6zt_80000gn/T/ipykernel_2053/2537446789.py:6: SyntaxWarning: \"is not\" with 'int' literal. Did you mean \"!=\"?\n",
      "  print(not 7 is 7.0)\n"
     ]
    }
   ],
   "execution_count": 17
  },
  {
   "metadata": {
    "ExecuteTime": {
     "end_time": "2024-10-15T02:59:29.613337Z",
     "start_time": "2024-10-15T02:59:29.605381Z"
    }
   },
   "cell_type": "code",
   "source": [
    "# 문자열은 True야??\n",
    "\n",
    "print(bool(\"진짜?\"))"
   ],
   "id": "8f5959db0038caef",
   "outputs": [
    {
     "name": "stdout",
     "output_type": "stream",
     "text": [
      "True\n"
     ]
    }
   ],
   "execution_count": 18
  },
  {
   "metadata": {
    "ExecuteTime": {
     "end_time": "2024-10-15T03:03:15.014979Z",
     "start_time": "2024-10-15T03:03:15.009675Z"
    }
   },
   "cell_type": "code",
   "source": [
    "# 굉장히 중요한 내용\n",
    "# 단락 평가\n",
    "\n",
    "print(False and True)\n",
    "print(False and \"힘들어요 흑흑\") # 0 * 1 = 0\n",
    "#앞에가 False and면 뒤에 뭐가 나와도 False니까 and 까지만 본다 <--단락평가\n",
    "\n",
    "print(True and False)\n",
    "print(True and 1)\n",
    "#True and면 뒤에 뭐가 나오냐에 따라 결과가 달라지니까 끝까지 본다 <--단락평가"
   ],
   "id": "997a1ecce0d8b0dd",
   "outputs": [
    {
     "name": "stdout",
     "output_type": "stream",
     "text": [
      "False\n",
      "False\n",
      "False\n",
      "1\n"
     ]
    }
   ],
   "execution_count": 26
  }
 ],
 "metadata": {
  "kernelspec": {
   "display_name": "Python 3",
   "language": "python",
   "name": "python3"
  },
  "language_info": {
   "codemirror_mode": {
    "name": "ipython",
    "version": 2
   },
   "file_extension": ".py",
   "mimetype": "text/x-python",
   "name": "python",
   "nbconvert_exporter": "python",
   "pygments_lexer": "ipython2",
   "version": "2.7.6"
  }
 },
 "nbformat": 4,
 "nbformat_minor": 5
}
