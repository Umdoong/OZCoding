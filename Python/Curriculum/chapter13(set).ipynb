{
 "cells": [
  {
   "metadata": {},
   "cell_type": "markdown",
   "source": [
    "* set\n",
    "  * set은 수학의 집합을 의미\n",
    "  * 딕셔너리와 같이 순서가 없음\n",
    "  * 값의 중복을 허락하지 않습니다. 아주 중요!!\n",
    "  * set 생성 방법도 중괄호"
   ],
   "id": "fbd43cc233e097c8"
  },
  {
   "metadata": {
    "ExecuteTime": {
     "end_time": "2024-10-16T06:02:37.105674Z",
     "start_time": "2024-10-16T06:02:37.099251Z"
    }
   },
   "cell_type": "code",
   "source": [
    "veg = {\"당근\", \"배추\", \"대파\", \"양파\"}\n",
    "print(type(veg))\n",
    "print(veg)\n",
    "\n",
    "# 순서가 없고, 출력하면 요소의 순서가 다르게 나옴\n",
    "\n",
    "# 세트를 만드는 다양한 방법\n",
    "Set = set(\"123\")\n",
    "print(Set)\n",
    "Set2 = {}\n",
    "print(Set2)"
   ],
   "id": "ce4f6402d6f59a51",
   "outputs": [
    {
     "name": "stdout",
     "output_type": "stream",
     "text": [
      "<class 'set'>\n",
      "{'대파', '배추', '당근', '양파'}\n",
      "{'2', '3', '1'}\n",
      "{}\n"
     ]
    }
   ],
   "execution_count": 78
  },
  {
   "metadata": {
    "ExecuteTime": {
     "end_time": "2024-10-16T05:57:07.176064Z",
     "start_time": "2024-10-16T05:57:07.171776Z"
    }
   },
   "cell_type": "code",
   "source": [
    "# 중복 안됨\n",
    "\n",
    "apple_list = list(\"apple\")\n",
    "apple_tuple = tuple(\"apple\")\n",
    "apple_set = set(\"apple\")\n",
    "\n",
    "print(apple_list)\n",
    "print(apple_tuple)\n",
    "print(apple_set) #중복 안됨"
   ],
   "id": "6b3f1c842e126661",
   "outputs": [
    {
     "name": "stdout",
     "output_type": "stream",
     "text": [
      "['a', 'p', 'p', 'l', 'e']\n",
      "('a', 'p', 'p', 'l', 'e')\n",
      "{'l', 'a', 'e', 'p'}\n"
     ]
    }
   ],
   "execution_count": 54
  },
  {
   "metadata": {
    "ExecuteTime": {
     "end_time": "2024-10-16T06:04:40.496720Z",
     "start_time": "2024-10-16T06:04:40.480405Z"
    }
   },
   "cell_type": "code",
   "source": [
    "# set() 자료형의 데이터 추가, 삭제, 변경\n",
    "veg = {\"당근\", \"배추\", \"대파\", \"양파\"}\n",
    "\n",
    "# 추가\n",
    "veg.add(\"토마토\")\n",
    "print(veg)\n",
    "\n",
    "veg.update(\"깻잎\")\n",
    "print(veg)\n",
    "\n",
    "#삭제\n",
    "veg.remove(\"깻\") # 지울 게 없으면 에러\n",
    "print(veg)\n",
    "\n",
    "veg.discard(\"대파\") # 지울 게 없어도 에러 안뜸\n",
    "print(veg)\n",
    "\n",
    "veg.pop() # 랜덤으로 하나 뽑아서 반환함 맨 위에 veg가 없으면 하나씩 뽑히다가 인덱스가 1개만 남게 됨\n",
    "print(veg)"
   ],
   "id": "6160f73855be6c50",
   "outputs": [
    {
     "name": "stdout",
     "output_type": "stream",
     "text": [
      "{'대파', '당근', '양파', '토마토', '배추'}\n",
      "{'대파', '당근', '양파', '토마토', '배추', '잎', '깻'}\n",
      "{'대파', '당근', '양파', '토마토', '배추', '잎'}\n",
      "{'당근', '양파', '토마토', '배추', '잎'}\n",
      "{'양파', '토마토', '배추', '잎'}\n"
     ]
    }
   ],
   "execution_count": 104
  },
  {
   "metadata": {
    "ExecuteTime": {
     "end_time": "2024-10-16T06:03:52.998248Z",
     "start_time": "2024-10-16T06:03:52.985888Z"
    }
   },
   "cell_type": "code",
   "source": [
    "veg = {\"당근\", \"배추\", \"대파\", \"양파\"}\n",
    "re_veg = veg.pop()\n",
    "print(f'{re_veg}는 반환된 채소입니다.')"
   ],
   "id": "d8227de13d20388b",
   "outputs": [
    {
     "name": "stdout",
     "output_type": "stream",
     "text": [
      "대파는 반환된 채소입니다.\n"
     ]
    }
   ],
   "execution_count": 95
  },
  {
   "metadata": {
    "ExecuteTime": {
     "end_time": "2024-10-19T14:15:38.695864Z",
     "start_time": "2024-10-19T14:15:38.690111Z"
    }
   },
   "cell_type": "code",
   "source": [
    "# set = 집합, 합집합, 교집합, 차집합 기타 등등\n",
    "# 대표적으로 합집합, 교집합, 차집합\n",
    "\n",
    "veg1 = {\"당근\", \"양파\", \"오이\", \"배추\"}\n",
    "veg2 = {\"대파\", \"양파\", \"오이\", \"가지\"}\n",
    "\n",
    "#합집합(union) - 합친 후 중복되는 요소를 제외하고 보여줌\n",
    "print(veg1 | veg2)\n",
    "print(set.union(veg1, veg2))\n",
    "print()\n",
    "#교집합(intersection) - 합친 후 중복되는 요소만 보여줌\n",
    "print(veg1 & veg2)\n",
    "print(set.intersection(veg1, veg2))\n",
    "print()\n",
    "#차집합(difference) - 합친 후 중복되지 않은 첫 인자의 요소만 보여줌\n",
    "print(veg1 - veg2)\n",
    "print(set.difference(veg1, veg2))\n",
    "print(veg2 - veg1)\n",
    "print(set.difference(veg2, veg1))\n",
    "print()\n",
    "#대칭차집합(symmetric_difference) - 합친 후 중복되는 요소만 제외하고 모든 요소를 보여줌\n",
    "print(veg1 ^ veg2)\n",
    "print(set.symmetric_difference(veg1, veg2))"
   ],
   "id": "f9a054f9f1327729",
   "outputs": [
    {
     "name": "stdout",
     "output_type": "stream",
     "text": [
      "{'양파', '당근', '배추', '오이', '대파', '가지'}\n",
      "{'양파', '당근', '배추', '오이', '대파', '가지'}\n",
      "\n",
      "{'양파', '오이'}\n",
      "{'양파', '오이'}\n",
      "\n",
      "{'당근', '배추'}\n",
      "{'당근', '배추'}\n",
      "{'대파', '가지'}\n",
      "{'대파', '가지'}\n",
      "\n",
      "{'당근', '배추', '대파', '가지'}\n",
      "{'당근', '배추', '대파', '가지'}\n"
     ]
    }
   ],
   "execution_count": 8
  }
 ],
 "metadata": {
  "kernelspec": {
   "display_name": "Python 3",
   "language": "python",
   "name": "python3"
  },
  "language_info": {
   "codemirror_mode": {
    "name": "ipython",
    "version": 2
   },
   "file_extension": ".py",
   "mimetype": "text/x-python",
   "name": "python",
   "nbconvert_exporter": "python",
   "pygments_lexer": "ipython2",
   "version": "2.7.6"
  }
 },
 "nbformat": 4,
 "nbformat_minor": 5
}
