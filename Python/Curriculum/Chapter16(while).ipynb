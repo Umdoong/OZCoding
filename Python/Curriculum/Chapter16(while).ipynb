{
 "cells": [
  {
   "cell_type": "markdown",
   "metadata": {
    "id": "egYs0-qRyivm"
   },
   "source": [
    "### while문 목차\n",
    "1. while문 만들어보기\n",
    "2. while문 코드의 흐름 보기\n",
    "3. while문 조건식 증감 감소\n",
    "4. while문을 조심스럽게 사용해야하는 이유\n",
    "5. while문이 for보다 강점인 부분\n",
    "6. continue, break\n",
    "7. while문에도 else가 있어요~!!\n",
    "8. 붕어빵 인터네셔널은 내가 살린다 나도 이제 개발자\n",
    "9. 예제로 while문 익혀보기"
   ]
  },
  {
   "cell_type": "code",
   "metadata": {
    "colab": {
     "base_uri": "https://localhost:8080/"
    },
    "executionInfo": {
     "elapsed": 4,
     "status": "ok",
     "timestamp": 1702296923165,
     "user": {
      "displayName": "양성훈",
      "userId": "00292789611186659621"
     },
     "user_tz": -540
    },
    "id": "8Ad-2eWpzEuH",
    "outputId": "91f4e101-c34d-46e6-844b-ad1bade78818",
    "ExecuteTime": {
     "end_time": "2024-10-17T02:51:38.700211Z",
     "start_time": "2024-10-17T02:51:38.692992Z"
    }
   },
   "source": [
    "#1.while문 만들어보기\n",
    "\n",
    "i = 0\n",
    "while i < 10:\n",
    "    print('점점 성장하는 나')\n",
    "    i += 1"
   ],
   "outputs": [
    {
     "name": "stdout",
     "output_type": "stream",
     "text": [
      "점점 성장하는 나\n",
      "점점 성장하는 나\n",
      "점점 성장하는 나\n",
      "점점 성장하는 나\n",
      "점점 성장하는 나\n",
      "점점 성장하는 나\n",
      "점점 성장하는 나\n",
      "점점 성장하는 나\n",
      "점점 성장하는 나\n",
      "점점 성장하는 나\n"
     ]
    }
   ],
   "execution_count": 1
  },
  {
   "cell_type": "markdown",
   "metadata": {
    "id": "jTyY6lDczgGe"
   },
   "source": [
    "## 1. while 구조\n",
    "동물 = [\"코끼리\", \"사자\", \"곰\"]  \n",
    "i = 0`초기식`  \n",
    "while < 10 :` while 조건식 `  \n",
    "    print(동물)`반복할 코드`  \n",
    "    print(\"보러 갈래요?\")`반복할 코드`  \n",
    "    i += 1`변환식`"
   ]
  },
  {
   "cell_type": "markdown",
   "metadata": {
    "id": "30i5LIYK0CMR"
   },
   "source": [
    "## 2.while 흐름\n",
    "\n",
    "초기식 - > 조건식 - > 반복할 코드 및 변환식  \n",
    "조건식이 False 시 break\n"
   ]
  },
  {
   "cell_type": "code",
   "metadata": {
    "colab": {
     "base_uri": "https://localhost:8080/"
    },
    "executionInfo": {
     "elapsed": 416,
     "status": "ok",
     "timestamp": 1702297265572,
     "user": {
      "displayName": "양성훈",
      "userId": "00292789611186659621"
     },
     "user_tz": -540
    },
    "id": "akxRG79UzadN",
    "outputId": "bd6295b5-6a02-40f2-c848-fa7d7f457c74",
    "ExecuteTime": {
     "end_time": "2024-10-17T02:59:16.751501Z",
     "start_time": "2024-10-17T02:59:16.746310Z"
    }
   },
   "source": [
    "# 3.while문 조건식 증감, 감소\n",
    "\n",
    "# 기본적인 증가 유형\n",
    "\n",
    "i = 0\n",
    "while i < 10:\n",
    "    print('이정도로 성장할줄이야',i)\n",
    "    i+=1\n",
    "print()\n",
    "\n",
    "# 기본적인 감소 유형\n",
    "i = 10\n",
    "while i > 0:\n",
    "    print('이정도로 성장할줄이야',i)\n",
    "    i-=1"
   ],
   "outputs": [
    {
     "name": "stdout",
     "output_type": "stream",
     "text": [
      "이정도로 성장할줄이야 0\n",
      "이정도로 성장할줄이야 1\n",
      "이정도로 성장할줄이야 2\n",
      "이정도로 성장할줄이야 3\n",
      "이정도로 성장할줄이야 4\n",
      "이정도로 성장할줄이야 5\n",
      "이정도로 성장할줄이야 6\n",
      "이정도로 성장할줄이야 7\n",
      "이정도로 성장할줄이야 8\n",
      "이정도로 성장할줄이야 9\n",
      "\n",
      "이정도로 성장할줄이야 10\n",
      "이정도로 성장할줄이야 9\n",
      "이정도로 성장할줄이야 8\n",
      "이정도로 성장할줄이야 7\n",
      "이정도로 성장할줄이야 6\n",
      "이정도로 성장할줄이야 5\n",
      "이정도로 성장할줄이야 4\n",
      "이정도로 성장할줄이야 3\n",
      "이정도로 성장할줄이야 2\n",
      "이정도로 성장할줄이야 1\n"
     ]
    }
   ],
   "execution_count": 3
  },
  {
   "cell_type": "code",
   "execution_count": null,
   "metadata": {
    "id": "7r4zY4Cd0YWD"
   },
   "outputs": [],
   "source": [
    "# 4.while문을 조심스럽게 사용해야하는 이유\n",
    "# 조건이 잘못 설정되면 무한 루프에 빠져 과도한 리소스 소모\n",
    "# 하지만 잘 사용하면 for문 보다 효율적이다\n",
    "\n",
    "# while True:\n",
    "#     print(1)\n",
    "\n",
    "# while True:\n",
    "#     print(\"돈 복사\")\n",
    "\n",
    "while True:\n",
    "    print(\"내가 산 주식 폭등\")"
   ]
  },
  {
   "cell_type": "code",
   "execution_count": 27,
   "metadata": {
    "colab": {
     "base_uri": "https://localhost:8080/"
    },
    "executionInfo": {
     "elapsed": 4,
     "status": "ok",
     "timestamp": 1702297659727,
     "user": {
      "displayName": "양성훈",
      "userId": "00292789611186659621"
     },
     "user_tz": -540
    },
    "id": "i4hThlZS1BWK",
    "outputId": "5c24427b-35ad-47de-d6a1-bb0d0ba45ee5"
   },
   "outputs": [
    {
     "name": "stdout",
     "output_type": "stream",
     "text": [
      "3\n",
      "1\n",
      "6\n",
      "6\n",
      "1\n",
      "2\n",
      "1\n",
      "6\n",
      "1\n",
      "2\n",
      "4\n"
     ]
    }
   ],
   "source": [
    "#5.while문이 for보다 강점인 부분?\n",
    "# 무수히 많이 실행되어야 할때\n",
    "\n",
    "import random\n",
    "\n",
    "#random.randint(1,6)\n",
    "\n",
    "i = 0\n",
    "while i != 4: # 4가 나올 때까지 반복\n",
    "    i = random.randint(1,6)\n",
    "    print(i)"
   ]
  },
  {
   "cell_type": "code",
   "metadata": {
    "colab": {
     "base_uri": "https://localhost:8080/"
    },
    "executionInfo": {
     "elapsed": 404,
     "status": "ok",
     "timestamp": 1702297907563,
     "user": {
      "displayName": "양성훈",
      "userId": "00292789611186659621"
     },
     "user_tz": -540
    },
    "id": "gjPKh79Z1xnY",
    "outputId": "7ee880b2-6452-45f8-c2ef-8086c05a578e",
    "ExecuteTime": {
     "end_time": "2024-10-17T04:22:23.015105Z",
     "start_time": "2024-10-17T04:22:22.997475Z"
    }
   },
   "source": [
    "#6 while 문에도 else가 있어요\n",
    "\n",
    "양파 = 10\n",
    "while 양파 > 0:\n",
    "    print(\"양파\", 양파, \"개 남았습니다.\")\n",
    "    # print(f'양파 {양파}개 남았습니다.')\n",
    "    # if 양파 ==0:\n",
    "    #     break\n",
    "    양파 -=1\n",
    "else:\n",
    "    print(\"양파 다 팔렸습니다.\")"
   ],
   "outputs": [
    {
     "name": "stdout",
     "output_type": "stream",
     "text": [
      "양파 10 개 남았습니다.\n",
      "양파 9 개 남았습니다.\n",
      "양파 8 개 남았습니다.\n",
      "양파 7 개 남았습니다.\n",
      "양파 6 개 남았습니다.\n",
      "양파 5 개 남았습니다.\n",
      "양파 4 개 남았습니다.\n",
      "양파 3 개 남았습니다.\n",
      "양파 2 개 남았습니다.\n",
      "양파 1 개 남았습니다.\n",
      "양파 다 팔렸습니다.\n"
     ]
    }
   ],
   "execution_count": 13
  },
  {
   "cell_type": "code",
   "metadata": {
    "id": "SBtd6AWI3N2L",
    "ExecuteTime": {
     "end_time": "2024-10-17T04:23:34.627238Z",
     "start_time": "2024-10-17T04:23:34.609957Z"
    }
   },
   "source": [
    "#7.반복문에 흐름을 제어하는 continue와 break\n",
    "\n",
    "i = 0\n",
    "while True:\n",
    "    print(i)\n",
    "    i+=1\n",
    "    if i == 10:\n",
    "        break\n",
    "print()\n",
    "for i in range(100):\n",
    "    print(i)\n",
    "    if i == 10:\n",
    "        break"
   ],
   "outputs": [
    {
     "name": "stdout",
     "output_type": "stream",
     "text": [
      "0\n",
      "1\n",
      "2\n",
      "3\n",
      "4\n",
      "5\n",
      "6\n",
      "7\n",
      "8\n",
      "9\n",
      "\n",
      "0\n",
      "1\n",
      "2\n",
      "3\n",
      "4\n",
      "5\n",
      "6\n",
      "7\n",
      "8\n",
      "9\n",
      "10\n"
     ]
    }
   ],
   "execution_count": 16
  },
  {
   "cell_type": "code",
   "metadata": {
    "colab": {
     "base_uri": "https://localhost:8080/"
    },
    "executionInfo": {
     "elapsed": 3,
     "status": "ok",
     "timestamp": 1702298398970,
     "user": {
      "displayName": "양성훈",
      "userId": "00292789611186659621"
     },
     "user_tz": -540
    },
    "id": "ZAnRh7gZ4CUl",
    "outputId": "ddb6fdf7-a32d-4e3d-b4b6-2f9b21d9a1a6",
    "ExecuteTime": {
     "end_time": "2024-10-17T04:24:16.293796Z",
     "start_time": "2024-10-17T04:24:16.288232Z"
    }
   },
   "source": [
    "i = 0\n",
    "while i < 10:\n",
    "    i+=1\n",
    "    if i % 2 == 0:\n",
    "        continue\n",
    "    print(i)\n",
    "print()\n",
    "for i in range(10):\n",
    "    if i % 2 == 0:\n",
    "        continue\n",
    "    print(i)"
   ],
   "outputs": [
    {
     "name": "stdout",
     "output_type": "stream",
     "text": [
      "1\n",
      "3\n",
      "5\n",
      "7\n",
      "9\n",
      "\n",
      "1\n",
      "3\n",
      "5\n",
      "7\n",
      "9\n"
     ]
    }
   ],
   "execution_count": 17
  },
  {
   "cell_type": "code",
   "metadata": {
    "id": "as9hvD3W5HH5",
    "ExecuteTime": {
     "end_time": "2024-10-17T06:11:36.095820Z",
     "start_time": "2024-10-17T06:11:27.861004Z"
    }
   },
   "source": [
    "#8.붕어빵 인터네셔널은 내가 살린다 나도 이제 개발자\n",
    "#for문을 이용해 리팩토링을 해주세요. input().......\n",
    "\n",
    "# 메뉴별 가격 key:value로 정리\n",
    "price = {\n",
    "    \"팥\": 2000,\n",
    "    \"슈크림\": 2500,\n",
    "    \"잡채\": 3000\n",
    "}\n",
    "# 메뉴 주문 받기\n",
    "menus = input(\"메뉴판(팥, 슈크림, 잡채), 여러 개 시킬 때 쉼표로 구분해주세요\\n*중복된 값을 넣을 경우 가장 마지막에 넣은 값으로 계산됩니다\").split(',')\n",
    "# 개수 주문 받기\n",
    "order = input(\"몇 개 주문하실 건가요? 고르신 메뉴 순서에 맞춰 메뉴와 같은 양식으로 입력해주세요\").split(',')\n",
    "\n",
    "# zip으로 병렬처리해서 dict 생성, order를 정수로 변환(나중에 가격을 정할 때 곱해야 되는데 str타입이면 안됨)\n",
    "order_dict = dict(zip(menus, map(int, order)))\n",
    "\n",
    "# 최종적인 계산을 위해 필요한 변수들\n",
    "total_list = []\n",
    "total_order = 0\n",
    "total_price = 0\n",
    "\n",
    "# zip으로 병렬처리한 내용 item으로 for문에 넣어서 변수에 값 넣어주기\n",
    "for For_menus, For_order in order_dict.items():\n",
    "    if For_menus in price: # price의 key(중요) 중에 For_menus가 있으면 True(value는 안됨), 메뉴판에 있는 메뉴인지 확인\n",
    "        total_list.append(f'{For_menus} 붕어빵 {For_order}개') # 최종 리스트에 메뉴와 개수를 할당.\n",
    "        total_order += For_order # 최종 개수를 계산\n",
    "        total_price += price[For_menus] * For_order # 최종 가격을 구하기 위해 For_menus(주문한 메뉴)의 가격을 주문한 개수와 곱해서 할당.\n",
    "    elif For_menus not in price:\n",
    "        print(f'{For_menus}는 메뉴에 없습니다.') # 없는 메뉴를 주문하면 출력할 문자열\n",
    "        \n",
    "#리스트를 문자열로 변환, 리스트 그대로 출력해도 괜찮지만 [리스트1, 리스트2, 리스트3] 형태라 이쁘지 않다.\n",
    "total_str = ', '.join(total_list)\n",
    "\n",
    "# 리펙토링이란 같은 결과물을 내야 하는 것이라고 가르쳐 주셔서 같은 결과물을 내기 위한 최종 출력물\n",
    "print(f'{total_str} 총 {total_order}개로 결제 금액은 {total_price}원 입니다.')\n"
   ],
   "outputs": [
    {
     "name": "stdout",
     "output_type": "stream",
     "text": [
      "팥 붕어빵 3개 총 3개로 결제 금액은 6000원 입니다.\n"
     ]
    }
   ],
   "execution_count": 74
  },
  {
   "cell_type": "code",
   "execution_count": 45,
   "metadata": {
    "colab": {
     "base_uri": "https://localhost:8080/"
    },
    "executionInfo": {
     "elapsed": 572,
     "status": "ok",
     "timestamp": 1702298758526,
     "user": {
      "displayName": "양성훈",
      "userId": "00292789611186659621"
     },
     "user_tz": -540
    },
    "id": "R1uTx9L45Ynj",
    "outputId": "9d90d71c-5d8e-4cfa-b68f-c0594e6e75b2"
   },
   "outputs": [
    {
     "name": "stdout",
     "output_type": "stream",
     "text": [
      "16\n"
     ]
    }
   ],
   "source": [
    "#9.예제로 while문 익혀보기\n",
    "\n",
    "#콜라츠하는 사람은 주어진 수가 1이 될때까지 다음 작업을 반복하면, 모든 수를 1로 만들 수 있다고 추측했다\n",
    "#작업\n",
    "#1-1. 입력된 수가 짝수라면 2로 나눈다.\n",
    "#1-2. 입력된 수가 홀수라면 3을 곱하고 1을 더한다.\n",
    "#3.위 결과로 나온 수에 같은 작업을 1이 될 때까지 반복한다\n",
    "#예를 들어, 입력된 수가 6이라면, 6->3->10->5->16->8->4->2->1\n",
    "\n",
    "# num변수에 있는 수를 1로 만드는데 몇번이나 작업을 반복해야하는지 출력한다.\n",
    "\n",
    "\n",
    "num = 7\n",
    "\n",
    "\n",
    "\n",
    "\n",
    "\n",
    "\n",
    "\n",
    "\n",
    "\n"
   ]
  },
  {
   "metadata": {},
   "cell_type": "code",
   "outputs": [],
   "execution_count": null,
   "source": [
    "num = 7\n",
    "\n",
    "정답 = 0\n",
    "\n",
    "while num != 1:\n",
    "    if num % 2 == 0:\n",
    "        num = num/2\n",
    "    else:\n",
    "        num= num*3 +1\n",
    "    정답 += 1\n",
    "\n",
    "print(정답)"
   ]
  }
 ],
 "metadata": {
  "colab": {
   "authorship_tag": "ABX9TyNuh7Df6YUyLaU5a/RWfdUb",
   "provenance": []
  },
  "kernelspec": {
   "display_name": "Python 3 (ipykernel)",
   "name": "python3",
   "language": "python"
  },
  "language_info": {
   "name": "python"
  }
 },
 "nbformat": 4,
 "nbformat_minor": 0
}
