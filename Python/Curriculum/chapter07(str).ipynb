{
 "cells": [
  {
   "cell_type": "code",
   "id": "initial_id",
   "metadata": {
    "collapsed": true,
    "ExecuteTime": {
     "end_time": "2024-10-15T02:10:45.131857Z",
     "start_time": "2024-10-15T02:10:45.120253Z"
    }
   },
   "source": [
    "이름 = \"김오즈\"\n",
    "나이 = 30\n",
    "키 =180.3\n",
    "소속 =\"s매직 서울 북부\""
   ],
   "outputs": [],
   "execution_count": 3
  },
  {
   "metadata": {
    "ExecuteTime": {
     "end_time": "2024-10-15T02:10:41.525066Z",
     "start_time": "2024-10-15T02:10:41.494995Z"
    }
   },
   "cell_type": "code",
   "source": [
    "print(type(이름))\n",
    "print(type(나이))\n",
    "print(type(키))\n",
    "print(type(소속))"
   ],
   "id": "b18dc1b1d2b01c83",
   "outputs": [
    {
     "ename": "NameError",
     "evalue": "name '이름' is not defined",
     "output_type": "error",
     "traceback": [
      "\u001B[0;31m---------------------------------------------------------------------------\u001B[0m",
      "\u001B[0;31mNameError\u001B[0m                                 Traceback (most recent call last)",
      "Cell \u001B[0;32mIn[2], line 1\u001B[0m\n\u001B[0;32m----> 1\u001B[0m \u001B[38;5;28mprint\u001B[39m(\u001B[38;5;28mtype\u001B[39m(\u001B[43m이름\u001B[49m))\n\u001B[1;32m      2\u001B[0m \u001B[38;5;28mprint\u001B[39m(\u001B[38;5;28mtype\u001B[39m(나이))\n\u001B[1;32m      3\u001B[0m \u001B[38;5;28mprint\u001B[39m(\u001B[38;5;28mtype\u001B[39m(키))\n",
      "\u001B[0;31mNameError\u001B[0m: name '이름' is not defined"
     ]
    }
   ],
   "execution_count": 2
  },
  {
   "metadata": {
    "ExecuteTime": {
     "end_time": "2024-10-15T02:06:42.594863Z",
     "start_time": "2024-10-15T02:06:42.587582Z"
    }
   },
   "cell_type": "code",
   "source": [
    "print(float(5))\n",
    "print(int(5.0))\n",
    "print(type(\"5\"))"
   ],
   "id": "694d7b2dfae5170c",
   "outputs": [
    {
     "name": "stdout",
     "output_type": "stream",
     "text": [
      "5.0\n",
      "5\n",
      "<class 'str'>\n"
     ]
    }
   ],
   "execution_count": 6
  },
  {
   "metadata": {},
   "cell_type": "markdown",
   "source": [
    "str : 문자열  \n",
    "특징 : 시퀀스 자료형  \n",
    "시퀀스란? 요소들이 연속적으로 이어진 자료형  \n",
    "값 하나하나를 요소라고 합니다."
   ],
   "id": "5f7be3a6c1d19a2e"
  },
  {
   "metadata": {
    "ExecuteTime": {
     "end_time": "2024-10-15T02:10:59.311303Z",
     "start_time": "2024-10-15T02:10:59.302918Z"
    }
   },
   "cell_type": "code",
   "source": [
    "# 0 인덱스\n",
    "print(소속)\n",
    "print(소속[0])\n",
    "print(소속[1])\n",
    "print(소속[2])\n",
    "print(소속[3])"
   ],
   "id": "95d4658b760761fa",
   "outputs": [
    {
     "name": "stdout",
     "output_type": "stream",
     "text": [
      "s매직 서울 북부\n",
      "s\n",
      "매\n",
      "직\n",
      " \n"
     ]
    }
   ],
   "execution_count": 5
  },
  {
   "metadata": {
    "ExecuteTime": {
     "end_time": "2024-10-15T02:12:33.685459Z",
     "start_time": "2024-10-15T02:12:33.680406Z"
    }
   },
   "cell_type": "code",
   "source": [
    "print(\"매\" in 소속)\n",
    "print(\"3\" in 소속)"
   ],
   "id": "6a19da2a7a8e8337",
   "outputs": [
    {
     "name": "stdout",
     "output_type": "stream",
     "text": [
      "True\n",
      "False\n"
     ]
    }
   ],
   "execution_count": 7
  },
  {
   "metadata": {
    "ExecuteTime": {
     "end_time": "2024-10-15T02:13:34.008558Z",
     "start_time": "2024-10-15T02:13:34.001507Z"
    }
   },
   "cell_type": "code",
   "source": [
    "# 문자열 즉 시퀀스끼리 합치기\n",
    "\n",
    "print(\"13\" + \"금요일\")"
   ],
   "id": "73d81cf43a1d3efc",
   "outputs": [
    {
     "name": "stdout",
     "output_type": "stream",
     "text": [
      "13금요일\n"
     ]
    }
   ],
   "execution_count": 8
  },
  {
   "metadata": {
    "ExecuteTime": {
     "end_time": "2024-10-15T02:15:21.289687Z",
     "start_time": "2024-10-15T02:15:21.280155Z"
    }
   },
   "cell_type": "code",
   "source": [
    "# 복사가 가능합니다\n",
    "\n",
    "옛날게임 = \"바니바니 당근당근\"\n",
    "print(옛날게임 * 20)\n",
    "\n",
    "len(옛날게임)"
   ],
   "id": "8501b0f6ff388814",
   "outputs": [
    {
     "name": "stdout",
     "output_type": "stream",
     "text": [
      "바니바니 당근당근바니바니 당근당근바니바니 당근당근바니바니 당근당근바니바니 당근당근바니바니 당근당근바니바니 당근당근바니바니 당근당근바니바니 당근당근바니바니 당근당근바니바니 당근당근바니바니 당근당근바니바니 당근당근바니바니 당근당근바니바니 당근당근바니바니 당근당근바니바니 당근당근바니바니 당근당근바니바니 당근당근바니바니 당근당근\n"
     ]
    },
    {
     "data": {
      "text/plain": [
       "9"
      ]
     },
     "execution_count": 10,
     "metadata": {},
     "output_type": "execute_result"
    }
   ],
   "execution_count": 10
  },
  {
   "metadata": {
    "ExecuteTime": {
     "end_time": "2024-10-15T02:16:24.017824Z",
     "start_time": "2024-10-15T02:16:24.014265Z"
    }
   },
   "cell_type": "code",
   "source": [
    "퀴즈 = \"차 4대가 고장나면? 카포에라\"\n",
    "print(퀴즈[12:16])\n",
    "#16 바로 앞까지 자른다. 자르고 싶은 값에 1을 더해도 된다"
   ],
   "id": "23185e6729a95b9d",
   "outputs": [
    {
     "name": "stdout",
     "output_type": "stream",
     "text": [
      "카포에라\n"
     ]
    }
   ],
   "execution_count": 11
  },
  {
   "metadata": {
    "ExecuteTime": {
     "end_time": "2024-10-15T02:17:55.041393Z",
     "start_time": "2024-10-15T02:17:55.037692Z"
    }
   },
   "cell_type": "code",
   "source": [
    "print(퀴즈[15])\n",
    "print(퀴즈[-1])"
   ],
   "id": "1fc0998cc3678231",
   "outputs": [
    {
     "name": "stdout",
     "output_type": "stream",
     "text": [
      "라\n",
      "라\n"
     ]
    }
   ],
   "execution_count": 13
  },
  {
   "metadata": {
    "ExecuteTime": {
     "end_time": "2024-10-15T02:21:35.819213Z",
     "start_time": "2024-10-15T02:21:35.813114Z"
    }
   },
   "cell_type": "code",
   "source": [
    "생년월일 = \"2000.12.25\"\n",
    "\n",
    "#2000 12 25\n",
    "\n",
    "년 = 생년월일[0:4]\n",
    "월 = 생년월일[5:7]\n",
    "일 = 생년월일[8:11]\n",
    "\n",
    "print(f'{년} {월} {일}')"
   ],
   "id": "e11972139b832555",
   "outputs": [
    {
     "name": "stdout",
     "output_type": "stream",
     "text": [
      "2000 12 25\n"
     ]
    }
   ],
   "execution_count": 17
  },
  {
   "metadata": {
    "ExecuteTime": {
     "end_time": "2024-10-17T05:58:55.434295Z",
     "start_time": "2024-10-17T05:58:55.430405Z"
    }
   },
   "cell_type": "code",
   "source": [
    "숫자 = \"123532462345345\"\n",
    "\n",
    "#전체 출력\n",
    "print(숫자[::])\n",
    "\n",
    "#전체 출력\n",
    "print(숫자[::-1])\n",
    "\n",
    "#첫번째 인덱스 기준으로 2칸씩 띄어쓰기 출력하기\n",
    "print(숫자[::2])\n",
    "\n",
    "#첫번째 인덱스 기준으로 2칸씩 띄어쓰기 출력하기\n",
    "print(숫자[4:1:-1])\n",
    "print(숫자[4:1]) # 아무것도 출력 안됨"
   ],
   "id": "9024434570ccc28d",
   "outputs": [
    {
     "name": "stdout",
     "output_type": "stream",
     "text": [
      "123532462345345\n",
      "543543264235321\n",
      "13342435\n",
      "353\n",
      "\n"
     ]
    }
   ],
   "execution_count": 4
  },
  {
   "metadata": {
    "ExecuteTime": {
     "end_time": "2024-10-15T02:27:27.106037Z",
     "start_time": "2024-10-15T02:27:27.102139Z"
    }
   },
   "cell_type": "code",
   "source": [
    "퀴즈 = \"스님이 공중에 뜬다를 4글자로 말하면? 어중이떠중이\"\n",
    "print(퀴즈[21:])"
   ],
   "id": "d6f15a9876e1a91f",
   "outputs": [
    {
     "name": "stdout",
     "output_type": "stream",
     "text": [
      " 어중이떠중이\n"
     ]
    }
   ],
   "execution_count": 38
  },
  {
   "metadata": {
    "ExecuteTime": {
     "end_time": "2024-10-15T02:28:16.973570Z",
     "start_time": "2024-10-15T02:28:16.968319Z"
    }
   },
   "cell_type": "code",
   "source": [
    "과일 = \"apple\"\n",
    "print(과일.count(\"p\"))"
   ],
   "id": "f082fd1a6d2ec70b",
   "outputs": [
    {
     "name": "stdout",
     "output_type": "stream",
     "text": [
      "2\n"
     ]
    }
   ],
   "execution_count": 40
  },
  {
   "metadata": {
    "ExecuteTime": {
     "end_time": "2024-10-15T02:28:48.434807Z",
     "start_time": "2024-10-15T02:28:48.429991Z"
    }
   },
   "cell_type": "code",
   "source": [
    "print(과일[2])\n",
    "print(과일.index(\"p\"))"
   ],
   "id": "6de111a88d2a9031",
   "outputs": [
    {
     "name": "stdout",
     "output_type": "stream",
     "text": [
      "p\n",
      "1\n"
     ]
    }
   ],
   "execution_count": 41
  },
  {
   "metadata": {
    "ExecuteTime": {
     "end_time": "2024-10-15T02:29:37.216037Z",
     "start_time": "2024-10-15T02:29:37.212813Z"
    }
   },
   "cell_type": "code",
   "source": "라라랜드 = \"사람들은 다른 사람들의 열정에 끌리게 되어있어 자신이 잊은 걸 상기시켜 주니까\"\n",
   "id": "e89c324c0eecc32a",
   "outputs": [],
   "execution_count": 42
  }
 ],
 "metadata": {
  "kernelspec": {
   "display_name": "Python 3",
   "language": "python",
   "name": "python3"
  },
  "language_info": {
   "codemirror_mode": {
    "name": "ipython",
    "version": 2
   },
   "file_extension": ".py",
   "mimetype": "text/x-python",
   "name": "python",
   "nbconvert_exporter": "python",
   "pygments_lexer": "ipython2",
   "version": "2.7.6"
  }
 },
 "nbformat": 4,
 "nbformat_minor": 5
}
