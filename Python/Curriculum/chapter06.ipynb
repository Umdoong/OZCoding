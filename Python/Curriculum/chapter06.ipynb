{
 "cells": [
  {
   "metadata": {},
   "cell_type": "markdown",
   "source": [
    "1. int(integer) : 정수\n",
    "2. float(float) : 실수\n",
    "3. str(string) : 문자\n",
    "4. bool(bool, boolean) : true or false(1 or 0)\n",
    "<br>\n",
    "\n",
    "5. list\n",
    "6. tuple\n",
    "7. dict\n",
    "8. set"
   ],
   "id": "de2e90390175ef68"
  },
  {
   "metadata": {
    "ExecuteTime": {
     "end_time": "2024-10-15T01:46:57.931045Z",
     "start_time": "2024-10-15T01:46:57.927982Z"
    }
   },
   "cell_type": "code",
   "source": [
    "# 정수 : 1, 2, 3, -1, -2, -3\n",
    "# 실수 : 1.0, 1.1, 1.2\n",
    "\n",
    "print(9.0 + 2)\n",
    "#실수랑 정수를 더하면 실수가 나온다"
   ],
   "id": "654b0aa68feced6b",
   "outputs": [
    {
     "name": "stdout",
     "output_type": "stream",
     "text": [
      "11.0\n"
     ]
    }
   ],
   "execution_count": 2
  },
  {
   "metadata": {
    "ExecuteTime": {
     "end_time": "2024-10-15T01:49:38.500350Z",
     "start_time": "2024-10-15T01:49:38.485028Z"
    }
   },
   "cell_type": "code",
   "source": [
    "# box_num에 숫자만 넣자는 약속을 했어요 근데 누군가 한글 표기법으로 숫자를 넣었습니다.\n",
    "\n",
    "box_num = \"하나\" # 바보\n",
    "box_num += 1 # 정상\n",
    "\n",
    "#프린트하면 오류남"
   ],
   "id": "685cfa6b192882cb",
   "outputs": [
    {
     "ename": "TypeError",
     "evalue": "can only concatenate str (not \"int\") to str",
     "output_type": "error",
     "traceback": [
      "\u001B[0;31m---------------------------------------------------------------------------\u001B[0m",
      "\u001B[0;31mTypeError\u001B[0m                                 Traceback (most recent call last)",
      "Cell \u001B[0;32mIn[7], line 4\u001B[0m\n\u001B[1;32m      1\u001B[0m \u001B[38;5;66;03m# box_num에 숫자만 넣자는 약속을 했어요 근데 누군가 한글 표기법으로 숫자를 넣었습니다.\u001B[39;00m\n\u001B[1;32m      3\u001B[0m box_num \u001B[38;5;241m=\u001B[39m \u001B[38;5;124m\"\u001B[39m\u001B[38;5;124m하나\u001B[39m\u001B[38;5;124m\"\u001B[39m \u001B[38;5;66;03m# 바보\u001B[39;00m\n\u001B[0;32m----> 4\u001B[0m \u001B[43mbox_num\u001B[49m\u001B[43m \u001B[49m\u001B[38;5;241;43m+\u001B[39;49m\u001B[38;5;241;43m=\u001B[39;49m\u001B[43m \u001B[49m\u001B[38;5;241;43m1\u001B[39;49m \u001B[38;5;66;03m# 정상\u001B[39;00m\n\u001B[1;32m      6\u001B[0m \u001B[38;5;66;03m#프린트하면 오류남\u001B[39;00m\n",
      "\u001B[0;31mTypeError\u001B[0m: can only concatenate str (not \"int\") to str"
     ]
    }
   ],
   "execution_count": 7
  },
  {
   "metadata": {
    "ExecuteTime": {
     "end_time": "2024-10-15T01:50:29.064911Z",
     "start_time": "2024-10-15T01:50:29.061904Z"
    }
   },
   "cell_type": "code",
   "source": [
    "print(type(box_num))\n",
    "print(type(1))\n",
    "print(type(1.2))"
   ],
   "id": "862b07ca5805ddaa",
   "outputs": [
    {
     "name": "stdout",
     "output_type": "stream",
     "text": [
      "<class 'str'>\n",
      "<class 'int'>\n",
      "<class 'float'>\n"
     ]
    }
   ],
   "execution_count": 10
  },
  {
   "metadata": {},
   "cell_type": "code",
   "outputs": [],
   "execution_count": null,
   "source": [
    "# float의 범위가 int보다 크기 때문에 float으로 출력된\n",
    "4 / 2"
   ],
   "id": "1d44b53b0e1ac2e3"
  },
  {
   "metadata": {},
   "cell_type": "markdown",
   "source": [
    "### 형변환 : 형태를 변환한다\n",
    "\n",
    "int, float  \n",
    "int -> float  \n",
    "ex) 5 -> 5.0 float(5)"
   ],
   "id": "571f51bac147063f"
  },
  {
   "metadata": {
    "ExecuteTime": {
     "end_time": "2024-10-15T01:53:48.843942Z",
     "start_time": "2024-10-15T01:53:48.841018Z"
    }
   },
   "cell_type": "code",
   "source": [
    "print(float(5))\n",
    "print(int(5.0))"
   ],
   "id": "997cbff69a12aab9",
   "outputs": [
    {
     "name": "stdout",
     "output_type": "stream",
     "text": [
      "5.0\n",
      "5\n"
     ]
    }
   ],
   "execution_count": 12
  },
  {
   "metadata": {
    "ExecuteTime": {
     "end_time": "2024-10-15T01:54:54.753438Z",
     "start_time": "2024-10-15T01:54:54.750380Z"
    }
   },
   "cell_type": "code",
   "source": [
    "나이 = 10\n",
    "print(type(나이))\n",
    "print(dir(나이))"
   ],
   "id": "63867953cc660325",
   "outputs": [
    {
     "name": "stdout",
     "output_type": "stream",
     "text": [
      "<class 'int'>\n",
      "['__abs__', '__add__', '__and__', '__bool__', '__ceil__', '__class__', '__delattr__', '__dir__', '__divmod__', '__doc__', '__eq__', '__float__', '__floor__', '__floordiv__', '__format__', '__ge__', '__getattribute__', '__getnewargs__', '__getstate__', '__gt__', '__hash__', '__index__', '__init__', '__init_subclass__', '__int__', '__invert__', '__le__', '__lshift__', '__lt__', '__mod__', '__mul__', '__ne__', '__neg__', '__new__', '__or__', '__pos__', '__pow__', '__radd__', '__rand__', '__rdivmod__', '__reduce__', '__reduce_ex__', '__repr__', '__rfloordiv__', '__rlshift__', '__rmod__', '__rmul__', '__ror__', '__round__', '__rpow__', '__rrshift__', '__rshift__', '__rsub__', '__rtruediv__', '__rxor__', '__setattr__', '__sizeof__', '__str__', '__sub__', '__subclasshook__', '__truediv__', '__trunc__', '__xor__', 'as_integer_ratio', 'bit_count', 'bit_length', 'conjugate', 'denominator', 'from_bytes', 'imag', 'is_integer', 'numerator', 'real', 'to_bytes']\n"
     ]
    }
   ],
   "execution_count": 13
  },
  {
   "metadata": {
    "ExecuteTime": {
     "end_time": "2024-10-15T01:56:31.658992Z",
     "start_time": "2024-10-15T01:56:31.655964Z"
    }
   },
   "cell_type": "code",
   "source": [
    "print(나이.bit_length())\n",
    "print(bin(나이))"
   ],
   "id": "5b091c2d33369c23",
   "outputs": [
    {
     "name": "stdout",
     "output_type": "stream",
     "text": [
      "4\n",
      "0b1010\n"
     ]
    }
   ],
   "execution_count": 15
  },
  {
   "metadata": {},
   "cell_type": "markdown",
   "source": "## 메소드 / 내장함수 / 함수 개념 공부할 것",
   "id": "d8c4622e11be66c3"
  }
 ],
 "metadata": {
  "kernelspec": {
   "display_name": "Python 3",
   "language": "python",
   "name": "python3"
  },
  "language_info": {
   "codemirror_mode": {
    "name": "ipython",
    "version": 2
   },
   "file_extension": ".py",
   "mimetype": "text/x-python",
   "name": "python",
   "nbconvert_exporter": "python",
   "pygments_lexer": "ipython2",
   "version": "2.7.6"
  }
 },
 "nbformat": 4,
 "nbformat_minor": 5
}
