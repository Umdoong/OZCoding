{
 "nbformat": 4,
 "nbformat_minor": 0,
 "metadata": {
  "colab": {
   "provenance": [],
   "authorship_tag": "ABX9TyOZy7LTKN08WAW6tPQoj7Ob"
  },
  "kernelspec": {
   "name": "python3",
   "display_name": "Python 3 (ipykernel)",
   "language": "python"
  },
  "language_info": {
   "name": "python"
  }
 },
 "cells": [
  {
   "cell_type": "markdown",
   "source": [
    "##사칙연산\n",
    "더하기 : +\n",
    "\n",
    "빼기 : -\n",
    "\n",
    "곱하기 : *\n",
    "\n",
    "거듭제곱 : **\n",
    "\n",
    "나누기 :\n",
    "* / : 우리가 알고 있는 나누기와 동일한 기능(예 5/2 = 2.5)\n",
    "* // : 몫을 반환(예 5/2 = 2)\n",
    "* % : 나머지를 반환(예 5/2 = 1)\n"
   ],
   "metadata": {
    "id": "eWW473GWwi0Q"
   }
  },
  {
   "cell_type": "code",
   "source": [
    "# 더하기\n",
    "print( 3 + 2 )"
   ],
   "metadata": {
    "colab": {
     "base_uri": "https://localhost:8080/"
    },
    "id": "Ql1ZhccOxrvf",
    "executionInfo": {
     "status": "ok",
     "timestamp": 1728871615217,
     "user_tz": -540,
     "elapsed": 484,
     "user": {
      "displayName": "엄살둥이",
      "userId": "05652890156480138654"
     }
    },
    "outputId": "00a9eb7c-c0a5-4052-d5e7-9738627e9b97",
    "ExecuteTime": {
     "end_time": "2024-10-15T01:59:30.506759Z",
     "start_time": "2024-10-15T01:59:30.502312Z"
    }
   },
   "outputs": [
    {
     "name": "stdout",
     "output_type": "stream",
     "text": [
      "5\n"
     ]
    }
   ],
   "execution_count": 1
  },
  {
   "cell_type": "code",
   "source": [
    "# 빼기\n",
    "print( 3 - 1 )"
   ],
   "metadata": {
    "colab": {
     "base_uri": "https://localhost:8080/"
    },
    "id": "R42gXeImx0Zz",
    "executionInfo": {
     "status": "ok",
     "timestamp": 1728871625767,
     "user_tz": -540,
     "elapsed": 584,
     "user": {
      "displayName": "엄살둥이",
      "userId": "05652890156480138654"
     }
    },
    "outputId": "5912d7b7-27bf-4fa7-bfa9-3ccb7ecb106e"
   },
   "execution_count": 5,
   "outputs": [
    {
     "output_type": "stream",
     "name": "stdout",
     "text": [
      "2\n"
     ]
    }
   ]
  },
  {
   "cell_type": "code",
   "source": [
    "# 곱하기\n",
    "print( 3 * 2 )"
   ],
   "metadata": {
    "colab": {
     "base_uri": "https://localhost:8080/"
    },
    "id": "_iFKr5f7x29E",
    "executionInfo": {
     "status": "ok",
     "timestamp": 1728871666289,
     "user_tz": -540,
     "elapsed": 474,
     "user": {
      "displayName": "엄살둥이",
      "userId": "05652890156480138654"
     }
    },
    "outputId": "e5fe426d-b3a9-4475-e965-2b7e1e911c3e"
   },
   "execution_count": 6,
   "outputs": [
    {
     "output_type": "stream",
     "name": "stdout",
     "text": [
      "6\n"
     ]
    }
   ]
  },
  {
   "cell_type": "code",
   "source": [
    "# 거듭제곱\n",
    "print( 3 ** 2 )"
   ],
   "metadata": {
    "colab": {
     "base_uri": "https://localhost:8080/"
    },
    "id": "_ltW86A4yA4O",
    "executionInfo": {
     "status": "ok",
     "timestamp": 1728871682298,
     "user_tz": -540,
     "elapsed": 504,
     "user": {
      "displayName": "엄살둥이",
      "userId": "05652890156480138654"
     }
    },
    "outputId": "72e30e08-d4cb-4cf9-e17b-f93ec3676b04"
   },
   "execution_count": 7,
   "outputs": [
    {
     "output_type": "stream",
     "name": "stdout",
     "text": [
      "9\n"
     ]
    }
   ]
  },
  {
   "cell_type": "code",
   "source": [
    "# 나누기\n",
    "\n",
    "# /\n",
    "print ( 7 / 2 )\n",
    "\n",
    "# //\n",
    "print ( 7 // 2 )\n",
    "\n",
    "# %\n",
    "print ( 7 % 2 )"
   ],
   "metadata": {
    "colab": {
     "base_uri": "https://localhost:8080/"
    },
    "id": "wZ98HvwgyExq",
    "executionInfo": {
     "status": "ok",
     "timestamp": 1728871767356,
     "user_tz": -540,
     "elapsed": 459,
     "user": {
      "displayName": "엄살둥이",
      "userId": "05652890156480138654"
     }
    },
    "outputId": "a6003967-498c-490f-c571-677b006a7051"
   },
   "execution_count": 9,
   "outputs": [
    {
     "output_type": "stream",
     "name": "stdout",
     "text": [
      "3.5\n",
      "3\n",
      "1\n"
     ]
    }
   ]
  },
  {
   "cell_type": "markdown",
   "source": [
    "내장합수 : divmod\n",
    "\n",
    "> 내장함수 : 자주 사용하는 기능을 미리 만들어 놓은 것을 내장함수라고 한다.\n",
    "\n",
    "**divmod** : 목과 나머지를 동시에 구해줌 (예 divmod(x, y) => (몫, 나머지))"
   ],
   "metadata": {
    "id": "BxxeXCCVydG9"
   }
  },
  {
   "cell_type": "code",
   "source": [
    "print(divmod(3, 2))\n",
    "print(divmod(7, 4))\n",
    "print(divmod(13, 2))\n",
    "print(divmod(19, 4))\n",
    "print(divmod(15, 5))\n",
    "\n",
    "print(\"(\",7 // 4,\",\",7 % 4,\")\")"
   ],
   "metadata": {
    "colab": {
     "base_uri": "https://localhost:8080/"
    },
    "id": "3La3BbjsyZjn",
    "executionInfo": {
     "status": "ok",
     "timestamp": 1728872182067,
     "user_tz": -540,
     "elapsed": 458,
     "user": {
      "displayName": "엄살둥이",
      "userId": "05652890156480138654"
     }
    },
    "outputId": "ec3d3627-f217-4c01-dd0c-b9f265534532"
   },
   "execution_count": 18,
   "outputs": [
    {
     "output_type": "stream",
     "name": "stdout",
     "text": [
      "(1, 1)\n",
      "(1, 3)\n",
      "(6, 1)\n",
      "(4, 3)\n",
      "(3, 0)\n",
      "( 1 , 3 )\n"
     ]
    }
   ]
  },
  {
   "cell_type": "markdown",
   "source": [
    "###괄호\n",
    "\n",
    "수학에서 사용되는 괄호와 동일한 기능\n",
    "\n",
    "() : 괄호 안에 있는 것을 먼저 계산\n",
    "\n",
    "사칙연산 순서 : 괄호 > 곱셈 > 나눗셈 > 덧셈,뺄셈"
   ],
   "metadata": {
    "id": "90ZIe4Do0AeN"
   }
  },
  {
   "cell_type": "code",
   "source": [
    "print( 3 + 2 * 4 )"
   ],
   "metadata": {
    "colab": {
     "base_uri": "https://localhost:8080/"
    },
    "id": "veUj89Eyz-zK",
    "executionInfo": {
     "status": "ok",
     "timestamp": 1728872311150,
     "user_tz": -540,
     "elapsed": 488,
     "user": {
      "displayName": "엄살둥이",
      "userId": "05652890156480138654"
     }
    },
    "outputId": "5b12ed36-5a92-42f4-8e66-4bc281550843"
   },
   "execution_count": 21,
   "outputs": [
    {
     "output_type": "stream",
     "name": "stdout",
     "text": [
      "11\n"
     ]
    }
   ]
  },
  {
   "cell_type": "code",
   "source": [
    "print( ( 3 + 2 ) * 4 )"
   ],
   "metadata": {
    "colab": {
     "base_uri": "https://localhost:8080/"
    },
    "id": "G8XCq4P90U6p",
    "executionInfo": {
     "status": "ok",
     "timestamp": 1728872306767,
     "user_tz": -540,
     "elapsed": 500,
     "user": {
      "displayName": "엄살둥이",
      "userId": "05652890156480138654"
     }
    },
    "outputId": "c342bf7d-5ef9-4e35-e836-46eded773995"
   },
   "execution_count": 20,
   "outputs": [
    {
     "output_type": "stream",
     "name": "stdout",
     "text": [
      "20\n"
     ]
    }
   ]
  }
 ]
}
