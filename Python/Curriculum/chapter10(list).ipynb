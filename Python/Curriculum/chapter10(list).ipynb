{
 "cells": [
  {
   "cell_type": "code",
   "execution_count": null,
   "id": "initial_id",
   "metadata": {
    "collapsed": true
   },
   "outputs": [],
   "source": [
    ""
   ]
  },
  {
   "metadata": {},
   "cell_type": "markdown",
   "source": [
    "### list\n",
    "\n",
    "* list란? 원소들이 연속적으로 저장되는 형태의 자료형을 말합니다.\n",
    "* 시퀀스 자료형!!\n",
    "    * str(정복), list(정복 예정), tuple, dict, set\n",
    "* 만드는 방법은 쉬워 대괄호로 묶어주고 그 안에 값들은 ,로 구분합니다."
   ],
   "id": "4fdf356b47a2207c"
  },
  {
   "metadata": {
    "ExecuteTime": {
     "end_time": "2024-10-16T02:03:40.443132Z",
     "start_time": "2024-10-16T02:03:40.439304Z"
    }
   },
   "cell_type": "code",
   "source": [
    "from os.path import split\n",
    "\n",
    "# 첫 리스트 두근두근\n",
    "\n",
    "# 리스트 = []\n",
    "# print(리스트)\n",
    "\n",
    "List = [23, \"이게 리스트다\", True, False]\n",
    "print(List)"
   ],
   "id": "703c4ee833a8c96a",
   "outputs": [
    {
     "name": "stdout",
     "output_type": "stream",
     "text": [
      "[23, '이게 리스트다', True, False]\n"
     ]
    }
   ],
   "execution_count": 2
  },
  {
   "metadata": {
    "ExecuteTime": {
     "end_time": "2024-10-16T02:08:22.723060Z",
     "start_time": "2024-10-16T02:08:22.704019Z"
    }
   },
   "cell_type": "code",
   "outputs": [
    {
     "name": "stdout",
     "output_type": "stream",
     "text": [
      "['이', '렇', '게', '만', '듭', '니', '다']\n",
      "[]\n",
      "range(0, 10)\n",
      "[0, 1, 2, 3, 4, 5, 6, 7, 8, 9, 10, 11, 12, 13, 14, 15, 16, 17, 18, 19]\n"
     ]
    }
   ],
   "execution_count": 6,
   "source": [
    "# 리스트 다시 한 번 선언해 보자\n",
    "\n",
    "List = [\"이\", \"렇\", \"게\", \"만\", \"듭\", \"니\", \"다\"]\n",
    "print(List)\n",
    "List2 = list() #int(), float()처럼 형변환 가능\n",
    "print(List2)\n",
    "\n",
    "# range? 범위 안에서 연속된 숫자를 생산하는 기능이 있습니다.\n",
    "print(range(0, 10)) # 이렇게 보이지만 편의를 위해 사용\n",
    "\n",
    "# list(range(시작, 끝))\n",
    "\n",
    "ListMagic = list(range(0, 20))\n",
    "print(ListMagic)"
   ],
   "id": "ad384dec83b35263"
  },
  {
   "metadata": {
    "ExecuteTime": {
     "end_time": "2024-10-16T02:10:23.083358Z",
     "start_time": "2024-10-16T02:10:23.079322Z"
    }
   },
   "cell_type": "code",
   "source": [
    "# list(range(start, end, step))\n",
    "ListMagic2 = list(range(0, 20, 2))\n",
    "print(ListMagic2)\n",
    "\n",
    "ListMagic3 = list(range(20, 0, -1))\n",
    "print(ListMagic3)\n",
    "\n",
    "ListMagic4 = list(range(20, 0))\n",
    "print(ListMagic4)"
   ],
   "id": "2079fef67c661579",
   "outputs": [
    {
     "name": "stdout",
     "output_type": "stream",
     "text": [
      "[0, 2, 4, 6, 8, 10, 12, 14, 16, 18]\n",
      "[20, 19, 18, 17, 16, 15, 14, 13, 12, 11, 10, 9, 8, 7, 6, 5, 4, 3, 2, 1]\n",
      "[]\n"
     ]
    }
   ],
   "execution_count": 7
  },
  {
   "metadata": {
    "ExecuteTime": {
     "end_time": "2024-10-16T02:13:41.590550Z",
     "start_time": "2024-10-16T02:13:41.577199Z"
    }
   },
   "cell_type": "code",
   "source": [
    "# 아직이다\n",
    "# list를 이용해 변수에 값 넣기\n",
    "\n",
    "a, b, c = [\"들\", \"어\", \"가!\"]\n",
    "print(a, b, c)\n",
    "\n",
    "d, e, f = [1, 2, 3]\n",
    "print(d, e, f)\n",
    "\n",
    "wallet = [10000, 5000, 1000]\n",
    "money1, money2, money3 = wallet\n",
    "\n",
    "print(f'{money1}원 2장, {money2}원 3장, {money3}원 1장')"
   ],
   "id": "425c6c4736afb21c",
   "outputs": [
    {
     "name": "stdout",
     "output_type": "stream",
     "text": [
      "들 어 가!\n",
      "1 2 3\n",
      "10000원 2장, 5000원 3장, 1000원 1장\n"
     ]
    }
   ],
   "execution_count": 12
  },
  {
   "metadata": {
    "ExecuteTime": {
     "end_time": "2024-10-17T09:55:44.229414Z",
     "start_time": "2024-10-17T09:55:41.962873Z"
    }
   },
   "cell_type": "code",
   "source": [
    "# 리스트 패킹, 리스트 언패#\n",
    "input().split(',')"
   ],
   "id": "25c32f81908e4caf",
   "outputs": [
    {
     "data": {
      "text/plain": [
       "['12']"
      ]
     },
     "execution_count": 1,
     "metadata": {},
     "output_type": "execute_result"
    }
   ],
   "execution_count": 1
  },
  {
   "metadata": {
    "ExecuteTime": {
     "end_time": "2024-10-16T04:13:40.243518Z",
     "start_time": "2024-10-16T04:13:40.236647Z"
    }
   },
   "cell_type": "code",
   "source": [
    " # 슬라이싱\n",
    " lotto = [3, 5, 15, 33, 41, 44]\n",
    " \n",
    " # 로또 변수에 있는 리스트의 인덱스 1번부터 2번까지의 값을 출력해줘\n",
    " print(lotto[1:3])\n",
    " \n",
    " # 로또 변수의 마지막 위치 출력해줘\n",
    " print(lotto[-1:])\n",
    " \n",
    " # 반대로 출력\n",
    " print(lotto[::-1])\n",
    " \n",
    " # 로또 리스트 안에 33이 있는지 확인\n",
    " print(33 in lotto)\n",
    " \n",
    " # 로또 리스트를 로또2 리스트와 합쳐보세요\n",
    " lotto2 = [2, 12, 15, 24, 33, 39]\n",
    " print(sorted(lotto + lotto2))\n",
    " # sort는 원본값을 직접 수정 / sorted는 원본 값은 그대로이고 정렬 값을 반환\n",
    " \n",
    " # range를 이용해서 1부터 10사이에 짝수만 들어있는 짝수(변수명) 리스트를 만들어주세요\n",
    " even = list(range(2, 11, 2))\n",
    " print(even)\n",
    " \n",
    " # 짝수 리스트에 들어있는 값을 2배 늘리고 다시 짝수 변수에 담아줘\n",
    " even2 = []\n",
    " for i in even:\n",
    "     even2.append(i*2)\n",
    " print(even2)\n",
    " \n",
    " # 짝수 리스트에 들어있는 요소의 개수를 구해주세요\n",
    " print(len(even))\n",
    " \n",
    " # 짝수 리스트의 3번째 인덱스를 출력해주세요\n",
    " print(even[3])\n",
    " \n",
    " # len() 함수를 이용해 인덱스 마지막 값을 출력해주세요\n",
    " print(even[len(even)-1])"
   ],
   "id": "91d3b9fbfbc5d0c2",
   "outputs": [
    {
     "name": "stdout",
     "output_type": "stream",
     "text": [
      "[5, 15]\n",
      "[44]\n",
      "[44, 41, 33, 15, 5, 3]\n",
      "True\n",
      "[2, 3, 5, 12, 15, 15, 24, 33, 33, 39, 41, 44]\n",
      "[2, 4, 6, 8, 10]\n",
      "[4, 8, 12, 16, 20]\n",
      "5\n",
      "8\n",
      "10\n"
     ]
    }
   ],
   "execution_count": 54
  },
  {
   "metadata": {
    "ExecuteTime": {
     "end_time": "2024-10-16T04:18:39.435750Z",
     "start_time": "2024-10-16T04:18:39.412066Z"
    }
   },
   "cell_type": "code",
   "source": [
    "# list 값 넣고, 바꾸고, 지우고\n",
    "\n",
    "mzfood = [\"숙주\", \"분모자\", \"마라\", \"소세지\", \"소고기\", \"옥수수면\"]\n",
    "\n",
    "# 값을 넣는 방법 2가지 : append(): 마지막 요소에 값을 넣어, insert() : 원하는 곳에 값을 넣어\n",
    "mzfood.append(\"고수\")\n",
    "print(mzfood)\n",
    "\n",
    "mzfood.insert(0, '탕후루')\n",
    "print(mzfood)\n",
    "\n",
    "#값 지우기\n",
    "del mzfood[-1]\n",
    "print(mzfood)\n",
    "\n",
    "del mzfood[0]\n",
    "print(mzfood)\n",
    "\n",
    "#값 바꾸고\n",
    "mzfood[-2] = \"양고기\"\n",
    "print(mzfood)\n",
    "\n",
    "# 문자열 시퀀스 아닙니까 그러면 이거 다 됩니까\n",
    "\n",
    "hi = \"반가워\"\n",
    "hi[-1] = \"부\"\n",
    "#안됩니다."
   ],
   "id": "caa973c4f3534d80",
   "outputs": [
    {
     "name": "stdout",
     "output_type": "stream",
     "text": [
      "['숙주', '분모자', '마라', '소세지', '소고기', '옥수수면', '고수']\n",
      "['탕후루', '숙주', '분모자', '마라', '소세지', '소고기', '옥수수면', '고수']\n",
      "['탕후루', '숙주', '분모자', '마라', '소세지', '소고기', '옥수수면']\n",
      "['숙주', '분모자', '마라', '소세지', '소고기', '옥수수면']\n",
      "['숙주', '분모자', '마라', '소세지', '양고기', '옥수수면']\n"
     ]
    },
    {
     "ename": "TypeError",
     "evalue": "'str' object does not support item assignment",
     "output_type": "error",
     "traceback": [
      "\u001B[0;31m---------------------------------------------------------------------------\u001B[0m",
      "\u001B[0;31mTypeError\u001B[0m                                 Traceback (most recent call last)",
      "Cell \u001B[0;32mIn[62], line 26\u001B[0m\n\u001B[1;32m     23\u001B[0m \u001B[38;5;66;03m# 문자열 시퀀스 아닙니까 그러면 이거 다 됩니까\u001B[39;00m\n\u001B[1;32m     25\u001B[0m hi \u001B[38;5;241m=\u001B[39m \u001B[38;5;124m\"\u001B[39m\u001B[38;5;124m반가워\u001B[39m\u001B[38;5;124m\"\u001B[39m\n\u001B[0;32m---> 26\u001B[0m \u001B[43mhi\u001B[49m\u001B[43m[\u001B[49m\u001B[38;5;241;43m-\u001B[39;49m\u001B[38;5;241;43m1\u001B[39;49m\u001B[43m]\u001B[49m \u001B[38;5;241m=\u001B[39m \u001B[38;5;124m\"\u001B[39m\u001B[38;5;124m부\u001B[39m\u001B[38;5;124m\"\u001B[39m\n",
      "\u001B[0;31mTypeError\u001B[0m: 'str' object does not support item assignment"
     ]
    }
   ],
   "execution_count": 62
  },
  {
   "metadata": {
    "ExecuteTime": {
     "end_time": "2024-10-16T04:19:17.876980Z",
     "start_time": "2024-10-16T04:19:17.871708Z"
    }
   },
   "cell_type": "code",
   "source": "print(dir(list))",
   "id": "58da777231dc0e7e",
   "outputs": [
    {
     "name": "stdout",
     "output_type": "stream",
     "text": [
      "['__add__', '__class__', '__class_getitem__', '__contains__', '__delattr__', '__delitem__', '__dir__', '__doc__', '__eq__', '__format__', '__ge__', '__getattribute__', '__getitem__', '__getstate__', '__gt__', '__hash__', '__iadd__', '__imul__', '__init__', '__init_subclass__', '__iter__', '__le__', '__len__', '__lt__', '__mul__', '__ne__', '__new__', '__reduce__', '__reduce_ex__', '__repr__', '__reversed__', '__rmul__', '__setattr__', '__setitem__', '__sizeof__', '__str__', '__subclasshook__', 'append', 'clear', 'copy', 'count', 'extend', 'index', 'insert', 'pop', 'remove', 'reverse', 'sort']\n"
     ]
    }
   ],
   "execution_count": 63
  },
  {
   "metadata": {
    "ExecuteTime": {
     "end_time": "2024-10-16T04:22:05.643104Z",
     "start_time": "2024-10-16T04:22:05.637862Z"
    }
   },
   "cell_type": "code",
   "source": [
    "print(mzfood)\n",
    "\n",
    "# 거꾸로\n",
    "mzfood.reverse()\n",
    "print(mzfood)\n",
    "# 오름차순\n",
    "mzfood.sort()\n",
    "print(mzfood)\n",
    "\n",
    "print(mzfood.reverse()) # 왜 None이 나올까? / 메서드의 성격 때문"
   ],
   "id": "4dd8b3f30fc236cb",
   "outputs": [
    {
     "name": "stdout",
     "output_type": "stream",
     "text": [
      "['마라', '분모자', '소세지', '숙주', '양고기', '옥수수면']\n",
      "['옥수수면', '양고기', '숙주', '소세지', '분모자', '마라']\n",
      "['마라', '분모자', '소세지', '숙주', '양고기', '옥수수면']\n",
      "None\n"
     ]
    }
   ],
   "execution_count": 67
  },
  {
   "metadata": {
    "ExecuteTime": {
     "end_time": "2024-10-16T04:25:48.893594Z",
     "start_time": "2024-10-16T04:25:48.888365Z"
    }
   },
   "cell_type": "code",
   "source": [
    "# 2차원 리스트에 대해서 공부 필수\n",
    "\n",
    "onion = [[2,0], [3,1]]\n",
    "print(onion)\n",
    "print(onion[1][0])\n",
    "print(onion[1][1])\n",
    "\n",
    "onion.append([4,1])\n",
    "print(onion)\n",
    "\n",
    "onion[0].append(3)\n",
    "print(onion)"
   ],
   "id": "5e012098283defcb",
   "outputs": [
    {
     "name": "stdout",
     "output_type": "stream",
     "text": [
      "[[2, 0], [3, 1]]\n",
      "3\n",
      "1\n",
      "[[2, 0], [3, 1], [4, 1]]\n",
      "[[2, 0, 3], [3, 1], [4, 1]]\n"
     ]
    }
   ],
   "execution_count": 73
  }
 ],
 "metadata": {
  "kernelspec": {
   "display_name": "Python 3",
   "language": "python",
   "name": "python3"
  },
  "language_info": {
   "codemirror_mode": {
    "name": "ipython",
    "version": 2
   },
   "file_extension": ".py",
   "mimetype": "text/x-python",
   "name": "python",
   "nbconvert_exporter": "python",
   "pygments_lexer": "ipython2",
   "version": "2.7.6"
  }
 },
 "nbformat": 4,
 "nbformat_minor": 5
}
