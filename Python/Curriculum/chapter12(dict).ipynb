{
 "cells": [
  {
   "metadata": {},
   "cell_type": "markdown",
   "source": [
    "* list, tuple, str, range(범위 안에 연속된 데이터를 만드는 시퀀스) 공통적인 특징이 있어요 데이터의 연관성이 없습니다.\n",
    "* dict는 여러 개의 값이 일렬로 정렬되면서도 값끼리 연관성이 존재합니다.\n",
    "  (예시 : 게임 캐릭터 힘:30, 지능:20, 체력:40, 민첩:90)\n",
    "* dict 생성 방법은 중괄호"
   ],
   "id": "8d6a11ff52bea2d"
  },
  {
   "metadata": {
    "collapsed": true,
    "ExecuteTime": {
     "end_time": "2024-10-16T05:17:56.004126Z",
     "start_time": "2024-10-16T05:17:55.998081Z"
    }
   },
   "cell_type": "code",
   "source": [
    "# list[], tuple(), dict{}\n",
    "\n",
    "man = {\"힘\" : 30, \"지능\" : 20, \"체력\" : 40, \"민첩\" : 90}\n",
    "print(man)\n",
    "\n",
    "#{key : value}\n",
    "#{key1 : value1, key2 : value2}\n",
    "\n",
    "#시쿼스 데이터는 인덱싱을 이용해 데이터를 찾았다\n",
    "# print(man[1])     딕셔너리는 순서가 없기 때문에 인덱싱이 불가능합니다.\n",
    "print(man[\"힘\"])\n",
    "print(f'남자는 힘이 {man[\"힘\"]}입니다.')"
   ],
   "id": "initial_id",
   "outputs": [
    {
     "name": "stdout",
     "output_type": "stream",
     "text": [
      "{'힘': 30, '지능': 20, '체력': 40, '민첩': 90}\n",
      "30\n",
      "남자는 힘이 30입니다.\n"
     ]
    }
   ],
   "execution_count": 3
  },
  {
   "metadata": {
    "ExecuteTime": {
     "end_time": "2024-10-16T05:21:02.245299Z",
     "start_time": "2024-10-16T05:21:02.239190Z"
    }
   },
   "cell_type": "code",
   "source": [
    "# dict 만드는 다양한 방법\n",
    "\n",
    "# 빈 dict 만들기\n",
    "Dict = {}\n",
    "print(Dict)\n",
    "\n",
    "Dict2 = dict()\n",
    "print(Dict2)\n",
    "\n",
    "#값을 넣어 만드는 방법\n",
    "#dict()로 생성 시 값 넣는 기호 \"\", : 주의해주세요\n",
    "Dict3 = dict(힘=30, 지능=1, 체력=40, 민첩=90)\n",
    "print(Dict3)\n",
    "\n",
    "#zip() : 병렬처리를 도와줍니다. (공부해보자)\n",
    "Dict4 = dict(zip([\"힘\", \"지능\", \"체력\", \"민첩\"], [30,20,40,90]))\n",
    "print(Dict4)"
   ],
   "id": "5fc86ac6968c8d14",
   "outputs": [
    {
     "name": "stdout",
     "output_type": "stream",
     "text": [
      "{}\n",
      "{}\n",
      "{'힘': 30, '지능': 1, '체력': 40, '민첩': 90}\n",
      "{'힘': 30, '지능': 20, '체력': 40, '민첩': 90}\n"
     ]
    }
   ],
   "execution_count": 6
  },
  {
   "metadata": {
    "ExecuteTime": {
     "end_time": "2024-10-16T05:28:30.285771Z",
     "start_time": "2024-10-16T05:28:30.281002Z"
    }
   },
   "cell_type": "code",
   "source": [
    "# value의 중복은 허락되는데, key의 중복은 허락하지 않습니다.\n",
    "man = {\"힘\" : 30, \"지능\" : 20, \"체력\" : 40, \"민첩\" : 90, \"힘\" : 50, \"지구력\" : 90}\n",
    "print(man) # key가 중복될 경우 가장 뒤에 있는 key에 맞춰서 value가 바뀐다\n",
    "\n",
    "print(\"체력\" in man)"
   ],
   "id": "21404e9640f76b48",
   "outputs": [
    {
     "name": "stdout",
     "output_type": "stream",
     "text": [
      "{'힘': 50, '지능': 20, '체력': 40, '민첩': 90, '지구력': 90}\n",
      "True\n"
     ]
    }
   ],
   "execution_count": 24
  },
  {
   "metadata": {
    "ExecuteTime": {
     "end_time": "2024-10-16T05:26:59.486779Z",
     "start_time": "2024-10-16T05:26:59.481646Z"
    }
   },
   "cell_type": "code",
   "source": [
    "# dict 다양한 메소드\n",
    "\n",
    "print(man.keys())\n",
    "print(man.values())\n",
    "print(man.items())\n",
    "print(type(man.items()))\n",
    "print(list(man.items()))\n",
    "print(tuple(man.items()))"
   ],
   "id": "22f7b459d2694e6c",
   "outputs": [
    {
     "name": "stdout",
     "output_type": "stream",
     "text": [
      "dict_keys(['힘', '지능', '체력', '민첩', '지구력'])\n",
      "dict_values([50, 20, 40, 90, 90])\n",
      "dict_items([('힘', 50), ('지능', 20), ('체력', 40), ('민첩', 90), ('지구력', 90)])\n",
      "<class 'dict_items'>\n",
      "[('힘', 50), ('지능', 20), ('체력', 40), ('민첩', 90), ('지구력', 90)]\n",
      "(('힘', 50), ('지능', 20), ('체력', 40), ('민첩', 90), ('지구력', 90))\n"
     ]
    }
   ],
   "execution_count": 19
  },
  {
   "metadata": {
    "ExecuteTime": {
     "end_time": "2024-10-16T05:30:09.331396Z",
     "start_time": "2024-10-16T05:30:09.326998Z"
    }
   },
   "cell_type": "code",
   "source": [
    "# dict 값 추가 삭제 변경\n",
    "\n",
    "print(man)\n",
    "\n",
    "man.update({\"손재주\" : 44, \"매력\" : 55})\n",
    "print(man)\n",
    "\n",
    "# del man[\"지구력\"]\n",
    "# print(man)\n",
    "\n",
    "man[\"지능\"] = 100\n",
    "print(man)\n",
    "\n"
   ],
   "id": "22866e45418d28aa",
   "outputs": [
    {
     "name": "stdout",
     "output_type": "stream",
     "text": [
      "{'힘': 50, '지능': 100, '체력': 40, '민첩': 90}\n",
      "{'힘': 50, '지능': 100, '체력': 40, '민첩': 90}\n",
      "{'힘': 50, '지능': 100, '체력': 40, '민첩': 90, '손재주': 44, '매력': 55}\n"
     ]
    }
   ],
   "execution_count": 28
  },
  {
   "metadata": {
    "ExecuteTime": {
     "end_time": "2024-10-16T05:31:59.997078Z",
     "start_time": "2024-10-16T05:31:59.993087Z"
    }
   },
   "cell_type": "code",
   "source": [
    "codi = {\n",
    "    \"모자\" : {\n",
    "        \"캡\" : \"발렌시아\",\n",
    "        \"비니\" : \"셀린느\"\n",
    "    },\n",
    "    \"상의\" : {\n",
    "        \"후드티\" : \"칼하트\",\n",
    "        \"맨투맨\" : \"슈프림\"\n",
    "    }\n",
    "}\n",
    "# 쉼표 주의할 것\n",
    "\n",
    "print(codi)\n",
    "print(codi[\"모자\"])\n",
    "print(codi[\"모자\"][\"캡\"])"
   ],
   "id": "3944cb9d4e4d18bb",
   "outputs": [
    {
     "name": "stdout",
     "output_type": "stream",
     "text": [
      "{'모자': {'캡': '발렌시아', '비니': '셀린느'}, '상의': {'후드티': '칼하트', '맨투맨': '슈프림'}}\n",
      "{'캡': '발렌시아', '비니': '셀린느'}\n",
      "발렌시아\n"
     ]
    }
   ],
   "execution_count": 30
  },
  {
   "metadata": {},
   "cell_type": "markdown",
   "source": "## 해시, 해시맵, 해시테이블 자료구조 공부할 것!!!",
   "id": "9fbdbf76d3b659d1"
  },
  {
   "metadata": {
    "ExecuteTime": {
     "end_time": "2024-10-16T05:42:03.706966Z",
     "start_time": "2024-10-16T05:42:01.136546Z"
    }
   },
   "cell_type": "code",
   "source": [
    "# dict 이력서를 작성했어요. 열정있어요\n",
    "# 레거시 코드가 있었어요.. 세상에\n",
    "# 급하다고 리팩토링 해달래요\n",
    "\n",
    "order_num = map(int, input(f'붕어빵 맛의 개수를 중간에 공백을 넣어 순서대로 입력해주세요 안살꺼면 0입력(메뉴 : 팥, 슈크림, 잡채)').split(' '))\n",
    "\n",
    "price = {\"팥\" : 2000, \"슈크림\" : 2500, \"잡채\" : 3000}\n",
    "# dict는 순서가 없기 때문에 인덱싱으로 접근이 불가능합니다.\n",
    "\n",
    "order_num = list(order_num)\n",
    "total_order_num = sum(order_num)\n",
    "total = 0\n",
    "\n",
    "total += price[\"팥\"] * order_num[0]\n",
    "total += price[\"슈크림\"] * order_num[1]\n",
    "total += price[\"잡채\"] * order_num[2]\n",
    "\n",
    "print(f'주문이 완료되었습니다. 팥{order_num[0]}개, 슈크림{order_num[1]}개, 잡채{order_num[2]}개 총 {total_order_num}개 결제 금액은 {total}원 입니다.')"
   ],
   "id": "1c676b88ced7f0a7",
   "outputs": [
    {
     "name": "stdout",
     "output_type": "stream",
     "text": [
      "주문이 완료되었습니다. 팥3개, 슈크림3개, 잡채3개 총 9개 결제 금액은 22500원 입니다.\n"
     ]
    }
   ],
   "execution_count": 37
  }
 ],
 "metadata": {
  "kernelspec": {
   "display_name": "Python 3",
   "language": "python",
   "name": "python3"
  },
  "language_info": {
   "codemirror_mode": {
    "name": "ipython",
    "version": 2
   },
   "file_extension": ".py",
   "mimetype": "text/x-python",
   "name": "python",
   "nbconvert_exporter": "python",
   "pygments_lexer": "ipython2",
   "version": "2.7.6"
  }
 },
 "nbformat": 4,
 "nbformat_minor": 5
}
