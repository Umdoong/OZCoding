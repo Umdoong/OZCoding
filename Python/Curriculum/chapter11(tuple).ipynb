{
 "cells": [
  {
   "metadata": {},
   "cell_type": "markdown",
   "source": [
    "### tuple\n",
    "* 리스트처럼 요소를 일렬로 저장하지만 안에 저장된 요소를 변경, 추가, 삭제할 수 없다.\n",
    "* 값을 추가, 삭제, 변경할 수 없기 때문에 사용하지 못하는 메소드가 많다.\n",
    "* 튜플의 생성 방법은 튜플 = 값, 값 or 튜플 = (값, 값)\n",
    "* 튜플은 소괄호 입니다."
   ],
   "id": "f8cb1d4b2d8ce7d3"
  },
  {
   "metadata": {
    "ExecuteTime": {
     "end_time": "2024-10-16T04:54:07.798462Z",
     "start_time": "2024-10-16T04:54:07.793572Z"
    }
   },
   "cell_type": "code",
   "source": [
    "# 리스트 [],  튜플 ()\n",
    "Tuple = (1, \"이\", 3.0) #패킹\n",
    "print(type(Tuple))\n",
    "print(Tuple)\n",
    "\n",
    "List = [1, \"이\", 3.0]\n",
    "print(type(List))\n",
    "print(List)\n",
    "\n",
    "Tuple2 = 1, \"이\", 3.0 #언패킹 튜플만 가능\n",
    "print(type(Tuple2))\n",
    "print(Tuple2)\n",
    "\n",
    "#하나의 값만 들어있는 튜플만 만들고 싶다면?\n",
    "TupleSolo = (1, ) # 쉼표를 빼면 int가 됨\n",
    "print(type(TupleSolo))\n",
    "print(TupleSolo)"
   ],
   "id": "f3aa7f4dcb1e88ef",
   "outputs": [
    {
     "name": "stdout",
     "output_type": "stream",
     "text": [
      "<class 'tuple'>\n",
      "(1, '이', 3.0)\n",
      "<class 'list'>\n",
      "[1, '이', 3.0]\n",
      "<class 'tuple'>\n",
      "(1, '이', 3.0)\n",
      "<class 'tuple'>\n",
      "(1,)\n"
     ]
    }
   ],
   "execution_count": 40
  },
  {
   "metadata": {
    "ExecuteTime": {
     "end_time": "2024-10-16T04:54:10.211198Z",
     "start_time": "2024-10-16T04:54:10.205914Z"
    }
   },
   "cell_type": "code",
   "source": [
    "# 값 추가, 삭제, 변경 불가\n",
    "\n",
    "print(Tuple)\n",
    "print(dir(Tuple))\n",
    "print(dir(List)) # 리스트에 비해 기능이 적다\n",
    "print()\n",
    "\n",
    "ListingOfTuple = list(Tuple)\n",
    "print(type(ListingOfTuple))\n",
    "print()\n",
    "\n",
    "# Tuple.append(\"두리안\")\n",
    "# del Tuple[0]\n",
    "# Tuple[1] = \"오리\"\n",
    "# 삽입, 삭제, 변경이 안된다.\n",
    "print(Tuple)"
   ],
   "id": "5e3a54af8344f1c9",
   "outputs": [
    {
     "name": "stdout",
     "output_type": "stream",
     "text": [
      "(1, '이', 3.0)\n",
      "['__add__', '__class__', '__class_getitem__', '__contains__', '__delattr__', '__dir__', '__doc__', '__eq__', '__format__', '__ge__', '__getattribute__', '__getitem__', '__getnewargs__', '__getstate__', '__gt__', '__hash__', '__init__', '__init_subclass__', '__iter__', '__le__', '__len__', '__lt__', '__mul__', '__ne__', '__new__', '__reduce__', '__reduce_ex__', '__repr__', '__rmul__', '__setattr__', '__sizeof__', '__str__', '__subclasshook__', 'count', 'index']\n",
      "['__add__', '__class__', '__class_getitem__', '__contains__', '__delattr__', '__delitem__', '__dir__', '__doc__', '__eq__', '__format__', '__ge__', '__getattribute__', '__getitem__', '__getstate__', '__gt__', '__hash__', '__iadd__', '__imul__', '__init__', '__init_subclass__', '__iter__', '__le__', '__len__', '__lt__', '__mul__', '__ne__', '__new__', '__reduce__', '__reduce_ex__', '__repr__', '__reversed__', '__rmul__', '__setattr__', '__setitem__', '__sizeof__', '__str__', '__subclasshook__', 'append', 'clear', 'copy', 'count', 'extend', 'index', 'insert', 'pop', 'remove', 'reverse', 'sort']\n",
      "\n",
      "<class 'list'>\n",
      "\n",
      "(1, '이', 3.0)\n"
     ]
    }
   ],
   "execution_count": 41
  },
  {
   "metadata": {
    "ExecuteTime": {
     "end_time": "2024-10-16T04:56:05.619673Z",
     "start_time": "2024-10-16T04:56:05.615714Z"
    }
   },
   "cell_type": "code",
   "source": [
    "# 번외\n",
    "Student = \"중꺾그마\"\n",
    "\n",
    "Student_list = list(Student)\n",
    "Student_tuple = tuple(Student)\n",
    "\n",
    "print(Student_list)\n",
    "print(Student_tuple)\n",
    "\n",
    "Student_list[1] = \"뿌\"\n",
    "print(Student_list)\n",
    "\n",
    "#join함수 공부 알고 있으면 코테 2티어 상승\n",
    "\n",
    "std = \"\".join(Student_list)\n",
    "print(std)"
   ],
   "id": "36eb829733834139",
   "outputs": [
    {
     "name": "stdout",
     "output_type": "stream",
     "text": [
      "['중', '꺾', '그', '마']\n",
      "('중', '꺾', '그', '마')\n",
      "['중', '뿌', '그', '마']\n",
      "중뿌그마\n"
     ]
    }
   ],
   "execution_count": 45
  },
  {
   "metadata": {
    "ExecuteTime": {
     "end_time": "2024-10-16T05:01:05.512077Z",
     "start_time": "2024-10-16T05:01:05.508051Z"
    }
   },
   "cell_type": "code",
   "source": [
    "# 리스트와 튜플의 공통점\n",
    "print(Tuple)\n",
    "#길이를 구할 수 있다\n",
    "len(Tuple)\n",
    "#사칙연산이 가능하다\n",
    "print(Tuple * 3)\n",
    "#인덱싱이 가능하다\n",
    "print(Tuple[2])\n",
    "print()\n",
    "#인덱스 카운트 슬라이싱\n",
    "print(Tuple.index(3.0))\n",
    "print(Tuple.count(1))\n",
    "print(Tuple[1:3])"
   ],
   "id": "aad0f732e2f35755",
   "outputs": [
    {
     "name": "stdout",
     "output_type": "stream",
     "text": [
      "(1, '이', 3.0)\n",
      "(1, '이', 3.0, 1, '이', 3.0, 1, '이', 3.0)\n",
      "3.0\n",
      "\n",
      "2\n",
      "1\n",
      "('이', 3.0)\n"
     ]
    }
   ],
   "execution_count": 51
  },
  {
   "metadata": {},
   "cell_type": "markdown",
   "source": [
    "## 튜플은 왜 쓸까?\n",
    "\n",
    "1.3GO(삽입, 삭제, 변경)이 불가하기 때문입니다.\n",
    "    \n",
    "    여러명이 코딩하는 경우 변경되면 안되는 변수를 건드리는 경우가 많다.\n",
    "    또는 값이 변경되면 안되는 중요한 데이터를 넣어서 보안적으로 관리하기 좋다.\n",
    "    (은행계좌, 비밀번호 등)\n",
    "    \n",
    "2.list는 tuple보다 무겁다\n",
    "\n",
    "    단지 기능이 많아서 무거운 걸까요?\n",
    "    파이썬은 c로 만들어졌습니다.\n",
    "    파이썬은 동적배열을 지원합니다.\n",
    "    - lsit = [1,2,3,4]] 생성해서 4개의 값을 모두 넣었습니다.\n",
    "    - 문제는 그 다음 값을 추가할 때 이미 공간이 다 찼기 때문에\n",
    "      추가 할당을 진행합니다.\n",
    "      추가 할당 시 메모리 크기는 4, 8, 16, 25.... 더블링을 해줍니다. ( 더블링인데 16 다음이 25가 되는 이유 구글링 해볼 것, 동적배열)\n",
    "\n",
    "3.list는 가변, tuple은 불변이다\n",
    "\n",
    "    값이 고정 되어야 하거나 크기가 작을 경우 튜플을 권장합니다."
   ],
   "id": "d20b65c1e140f58e"
  },
  {
   "metadata": {},
   "cell_type": "markdown",
   "source": [
    "* 가변객체와 불변객체(우리 이미 다 써봄... 공부하다가 놀랄 수 있음)\n",
    "* 파이썬 리스트와 동적배열\n",
    "* 그림 그려가면서 해보면 좋음\n",
    "* 이왕 이렇게 된 거 자료구조 책을 한 번 사보는 것도 좋다 ( 파이썬 클린 코드 )"
   ],
   "id": "3e9f05d5b991b592"
  }
 ],
 "metadata": {
  "kernelspec": {
   "display_name": "Python 3",
   "language": "python",
   "name": "python3"
  },
  "language_info": {
   "codemirror_mode": {
    "name": "ipython",
    "version": 2
   },
   "file_extension": ".py",
   "mimetype": "text/x-python",
   "name": "python",
   "nbconvert_exporter": "python",
   "pygments_lexer": "ipython2",
   "version": "2.7.6"
  }
 },
 "nbformat": 4,
 "nbformat_minor": 5
}
