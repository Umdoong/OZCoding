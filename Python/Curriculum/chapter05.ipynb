{
 "nbformat": 4,
 "nbformat_minor": 0,
 "metadata": {
  "colab": {
   "provenance": [],
   "authorship_tag": "ABX9TyNNGiHWIdTBLaDrkZhMMRDA"
  },
  "kernelspec": {
   "name": "python3",
   "display_name": "Python 3 (ipykernel)",
   "language": "python"
  },
  "language_info": {
   "name": "python"
  }
 },
 "cells": [
  {
   "cell_type": "code",
   "metadata": {
    "colab": {
     "base_uri": "https://localhost:8080/"
    },
    "id": "AwPSIR3k01A3",
    "executionInfo": {
     "status": "ok",
     "timestamp": 1728872692123,
     "user_tz": -540,
     "elapsed": 398,
     "user": {
      "displayName": "엄살둥이",
      "userId": "05652890156480138654"
     }
    },
    "outputId": "6e13b3ca-88e8-4bb2-b854-8a47d2ac0e63",
    "ExecuteTime": {
     "end_time": "2024-10-14T05:22:03.280134Z",
     "start_time": "2024-10-14T05:22:03.250170Z"
    }
   },
   "source": [
    "# 아아 : 5000원 / 아샷추 : 6500원\n",
    "# 아아 2잔 / 아샷추 3잔\n",
    "\n",
    "print(5000 * 2 + 6500 * 3)"
   ],
   "outputs": [
    {
     "name": "stdout",
     "output_type": "stream",
     "text": [
      "29500\n"
     ]
    }
   ],
   "execution_count": 2
  },
  {
   "cell_type": "code",
   "source": [
    "# 어제 아아 2잔이랑 아샷추 3잔 결제한 금액이 얼마였지?\n",
    "print(5000 * 2 + 6500 * 3)"
   ],
   "metadata": {
    "colab": {
     "base_uri": "https://localhost:8080/"
    },
    "id": "sLhfYvvY16Vg",
    "executionInfo": {
     "status": "ok",
     "timestamp": 1728872723222,
     "user_tz": -540,
     "elapsed": 400,
     "user": {
      "displayName": "엄살둥이",
      "userId": "05652890156480138654"
     }
    },
    "outputId": "8f3b2528-c206-45bf-ecb5-83c5b8c833ec"
   },
   "execution_count": 2,
   "outputs": [
    {
     "output_type": "stream",
     "name": "stdout",
     "text": [
      "29500\n"
     ]
    }
   ]
  },
  {
   "cell_type": "code",
   "source": [
    "# 미안한데 그 때 아아 2잔이랑 아샷추 3잔 결제한 금액이 얼마였지?\n",
    "print(5000 * 2 + 6500 * 3)"
   ],
   "metadata": {
    "colab": {
     "base_uri": "https://localhost:8080/"
    },
    "id": "VAa6vDui2C9A",
    "executionInfo": {
     "status": "ok",
     "timestamp": 1728872749336,
     "user_tz": -540,
     "elapsed": 417,
     "user": {
      "displayName": "엄살둥이",
      "userId": "05652890156480138654"
     }
    },
    "outputId": "275f1719-bca4-435b-f10b-7a23e61b64a4",
    "jupyter": {
     "is_executing": true
    }
   },
   "outputs": [],
   "execution_count": null
  },
  {
   "cell_type": "markdown",
   "source": [
    "### 변수란? (근본 Of 근본)\n",
    "**파이썬의 변수** : 하나의 값을 저장할 수 있는 공간\n",
    "\n",
    "숫자\n",
    "\n",
    "문자\n",
    "\n",
    "list[]\n",
    "\n",
    "dict{}\n",
    "\n",
    "함수(function)\n",
    "* * *\n",
    "하나의 변수에 하나의 값을 넣을 때\n",
    "\n",
    "변수 이름 = 값\n",
    "- - -\n",
    "두 개의 변수에 하나의 값을 각각 넣을 때\n",
    "\n",
    "변수 이름1, 변수 이름2 = 값1, 값2"
   ],
   "metadata": {
    "id": "NypJk35_2Kz5"
   }
  },
  {
   "cell_type": "code",
   "source": [
    "# 하나의 값을 변수에 넣을 때\n",
    "num = 1\n",
    "print(num)\n",
    "\n",
    "# 두 개의 값을 변수에 넣을 때\n",
    "num1, num2 = 2, 3\n",
    "print(num1)\n",
    "print(num2)\n",
    "\n",
    "print(num1, num2)"
   ],
   "metadata": {
    "colab": {
     "base_uri": "https://localhost:8080/"
    },
    "id": "YIzYVYP_2JUv",
    "executionInfo": {
     "status": "ok",
     "timestamp": 1728873054213,
     "user_tz": -540,
     "elapsed": 2,
     "user": {
      "displayName": "엄살둥이",
      "userId": "05652890156480138654"
     }
    },
    "outputId": "c309b48d-ed57-4429-ec4c-2e6e51568450"
   },
   "execution_count": 5,
   "outputs": [
    {
     "output_type": "stream",
     "name": "stdout",
     "text": [
      "1\n",
      "2\n",
      "3\n",
      "2 3\n"
     ]
    }
   ]
  },
  {
   "cell_type": "markdown",
   "source": [
    "- - -\n",
    "1부터 5까지의 숫자를 더하는 문제를 풀어보겠습니다.\n",
    "\n",
    "단, 다음 숫자를 더하기 위해서 매번 새로운 줄에서 시작해야하는 조건이 있습니다."
   ],
   "metadata": {
    "id": "AZ3yROku3W7_"
   }
  },
  {
   "cell_type": "code",
   "source": [
    "# 변수를 사용하지 않을 때\n",
    "# 이전에 계산된 결과를 저장할 수 있는 방법이 없음\n",
    "print(1+2)\n",
    "print(1+2+3)\n",
    "print(1+2+3+4)\n",
    "print(1+2+3+4+5)"
   ],
   "metadata": {
    "colab": {
     "base_uri": "https://localhost:8080/"
    },
    "id": "D5gguLn73f1v",
    "executionInfo": {
     "status": "ok",
     "timestamp": 1728873149122,
     "user_tz": -540,
     "elapsed": 415,
     "user": {
      "displayName": "엄살둥이",
      "userId": "05652890156480138654"
     }
    },
    "outputId": "2fc6aa16-2df3-45aa-dca7-60c69e7d260a"
   },
   "execution_count": 6,
   "outputs": [
    {
     "output_type": "stream",
     "name": "stdout",
     "text": [
      "3\n",
      "6\n",
      "10\n",
      "15\n"
     ]
    }
   ]
  },
  {
   "cell_type": "code",
   "source": [
    "# 변수를 사용할 때\n",
    "# 이전에 계산된 결과를 저장해서 사용할 수 있음\n",
    "\n",
    "sum = 1 + 2\n",
    "sum = sum + 3\n",
    "sum = sum + 4\n",
    "sum = sum + 5\n",
    "print(sum)"
   ],
   "metadata": {
    "colab": {
     "base_uri": "https://localhost:8080/"
    },
    "id": "l7UzBN8I3q7o",
    "executionInfo": {
     "status": "ok",
     "timestamp": 1728873207889,
     "user_tz": -540,
     "elapsed": 378,
     "user": {
      "displayName": "엄살둥이",
      "userId": "05652890156480138654"
     }
    },
    "outputId": "e9b3df7c-fe1f-4355-c9db-4e850b7ed54b",
    "ExecuteTime": {
     "end_time": "2024-10-15T01:19:40.631917Z",
     "start_time": "2024-10-15T01:19:40.627311Z"
    }
   },
   "outputs": [
    {
     "name": "stdout",
     "output_type": "stream",
     "text": [
      "15\n"
     ]
    }
   ],
   "execution_count": 1
  },
  {
   "cell_type": "markdown",
   "source": [
    "### 변수에 값을 넣는 것 => 할당\n",
    "\n",
    "sum = 1+2 => 1+2의 계산된 결과를 sum이라는 변수에 할당한다.\n",
    "\n",
    "sum은 변수명이고 \"=\"은 같다는 의미가 아니라 할당(assignment)이라고 합니다.  \n",
    "\"=\" : 할당 연산자  \n",
    "\"+\" : 산술 연산자  \n",
    "\"+=\" : 산술 후 바로 할당을 하는 문법  \n",
    "/=, -=, *= 모두 가능합니다."
   ],
   "metadata": {
    "id": "K6AIZgZk4A1N"
   }
  },
  {
   "metadata": {
    "ExecuteTime": {
     "end_time": "2024-10-15T01:19:51.754380Z",
     "start_time": "2024-10-15T01:19:51.751458Z"
    }
   },
   "cell_type": "code",
   "source": [
    "# 변수를 사용하면서 사용 가능한 문법\n",
    "\n",
    "sum2 = 1 + 2\n",
    "sum2 += 3\n",
    "sum2 += 4\n",
    "sum2 += 5\n",
    "print(sum2)"
   ],
   "outputs": [
    {
     "name": "stdout",
     "output_type": "stream",
     "text": [
      "15\n"
     ]
    }
   ],
   "execution_count": 2
  },
  {
   "metadata": {
    "ExecuteTime": {
     "end_time": "2024-10-15T01:23:00.202234Z",
     "start_time": "2024-10-15T01:23:00.199320Z"
    }
   },
   "cell_type": "code",
   "source": [
    "# 주의 !! 선언되지 않은 변수를 사용할 경우 에러 발생\n",
    "\n",
    "sum3 = 0\n",
    "sum3 += 1\n",
    "\n",
    "print(sum3)"
   ],
   "outputs": [
    {
     "name": "stdout",
     "output_type": "stream",
     "text": [
      "1\n"
     ]
    }
   ],
   "execution_count": 3
  },
  {
   "metadata": {
    "ExecuteTime": {
     "end_time": "2024-10-15T01:25:31.985489Z",
     "start_time": "2024-10-15T01:25:31.982725Z"
    }
   },
   "cell_type": "code",
   "source": [
    "# 변수에 어떤 값도 넣지 않고 선언하는 방법\n",
    "\n",
    "nothing = None\n",
    "print(nothing)"
   ],
   "outputs": [
    {
     "name": "stdout",
     "output_type": "stream",
     "text": [
      "None\n"
     ]
    }
   ],
   "execution_count": 5
  },
  {
   "metadata": {
    "ExecuteTime": {
     "end_time": "2024-10-15T01:27:40.577595Z",
     "start_time": "2024-10-15T01:27:40.574593Z"
    }
   },
   "cell_type": "code",
   "source": [
    "# 대소문자를 구분하는 변수\n",
    "BIG = \"크다\"\n",
    "big = \"작다\"\n",
    "\n",
    "print(BIG, big)"
   ],
   "outputs": [
    {
     "name": "stdout",
     "output_type": "stream",
     "text": [
      "크다 작다\n"
     ]
    }
   ],
   "execution_count": 7
  },
  {
   "metadata": {},
   "cell_type": "markdown",
   "source": [
    "스네이크 케이스(snake case)\n",
    "\n",
    "    변수명 : snake_case\n",
    "    _ <- 뱀처럼 생겨서\n",
    "\n",
    "카멜 케이스(camel case)\n",
    "\n",
    "    변수명 : camelCase"
   ]
  },
  {
   "metadata": {
    "ExecuteTime": {
     "end_time": "2024-10-15T01:30:56.816891Z",
     "start_time": "2024-10-15T01:30:56.813468Z"
    }
   },
   "cell_type": "code",
   "source": [
    "# 우리는 변수를 만들 때 스네이크 케이스로 진행합니다. 그리고 언더바는 2개를 적용시켜주세요\n",
    "# 개발에 관련된 여러 조건을 명시하는 것들을 코드 컨벤션이라고 합니다.\n",
    "\n",
    "box__shose = \"스니커즈\"\n",
    "box__hat = \"슈프림 모자\"\n",
    "\n",
    "print(box__shose)\n",
    "print(box__hat)"
   ],
   "outputs": [
    {
     "name": "stdout",
     "output_type": "stream",
     "text": [
      "스니커즈\n",
      "슈프림 모자\n"
     ]
    }
   ],
   "execution_count": 8
  },
  {
   "metadata": {
    "ExecuteTime": {
     "end_time": "2024-10-15T01:32:26.024743Z",
     "start_time": "2024-10-15T01:32:26.020702Z"
    }
   },
   "cell_type": "code",
   "source": [
    "# print() 포메팅 3가지 f-string : print(f' {변수명} ')\n",
    "\n",
    "me = \"나\"\n",
    "print(f'{me}만 빼고 고양이 다 있어')"
   ],
   "outputs": [
    {
     "name": "stdout",
     "output_type": "stream",
     "text": [
      "나만 빼고 고양이 다 있어\n"
     ]
    }
   ],
   "execution_count": 9
  },
  {
   "metadata": {
    "ExecuteTime": {
     "end_time": "2024-10-15T01:38:29.233695Z",
     "start_time": "2024-10-15T01:38:29.230067Z"
    }
   },
   "cell_type": "code",
   "source": [
    "red__been = \"붕어빵(팥)\"\n",
    "red__been__price = 2000\n",
    "cream = \"붕어빵(슈크림)\"\n",
    "cream__price = 2500\n",
    "jab__chae = \"붕어빵(잡채)\"\n",
    "jab__chae_price = 3000\n",
    "order1 = 3\n",
    "order2 = 2\n",
    "\n",
    "print(f'주문이 완료되었습니다. {cream}{order2}개, {jab__chae}{order1}개 총 {order2+order1}개 결제 금액은 {cream__price * order2 + jab__chae_price * order1}원 입니다.')"
   ],
   "outputs": [
    {
     "name": "stdout",
     "output_type": "stream",
     "text": [
      "주문이 완료되었습니다. 붕어빵(슈크림)2개, 붕어빵(잡채)3개 총 5개 결제 금액은 14000원 입니다.\n"
     ]
    }
   ],
   "execution_count": 12
  }
 ]
}
