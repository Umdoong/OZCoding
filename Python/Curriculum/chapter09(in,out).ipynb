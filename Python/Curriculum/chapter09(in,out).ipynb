{
 "cells": [
  {
   "metadata": {},
   "cell_type": "markdown",
   "source": [
    "## 입력과 출력\n",
    "\n",
    "* 입력 : input()\n",
    "* 출력 : print()\n",
    "\n",
    "\n",
    "##### 함수와 메서드\n",
    ">함수 : 어디에 속해있지 않고 단독 모듈이라 함수를 그냥 호출하여 사용이 가능합니다.\n",
    "> 예) print(), input()\n",
    "> https://docs.python.org/ko/3/library/functions.html\n",
    "> \n",
    "> 메소드 : 함수의 클래스 안에 속해 있고 클래스의 멤버 변수들을 이용해서 구현된 것\n",
    "> 예) \"까먹으신건가요?\".count(\"까\") / \"까먹으신건가요?\".index(\"까\")"
   ],
   "id": "d99802aff5a3205f"
  },
  {
   "metadata": {
    "ExecuteTime": {
     "end_time": "2024-10-16T01:10:44.628027Z",
     "start_time": "2024-10-16T01:10:44.624006Z"
    }
   },
   "cell_type": "code",
   "source": [
    "print(\"까먹으신건가요?\".count(\"까\"))\n",
    "print(\"까먹으신건가요?\".index(\"까\"))"
   ],
   "id": "cd9cde4974dca40",
   "outputs": [
    {
     "name": "stdout",
     "output_type": "stream",
     "text": [
      "1\n",
      "0\n"
     ]
    }
   ],
   "execution_count": 2
  },
  {
   "metadata": {
    "ExecuteTime": {
     "end_time": "2024-10-16T01:11:37.340066Z",
     "start_time": "2024-10-16T01:11:37.333570Z"
    }
   },
   "cell_type": "code",
   "source": [
    "num, str = 5, \"5\"\n",
    "\n",
    "print(num, str)"
   ],
   "id": "912e03701fb990e",
   "outputs": [
    {
     "name": "stdout",
     "output_type": "stream",
     "text": [
      "5 5\n"
     ]
    }
   ],
   "execution_count": 3
  },
  {
   "metadata": {
    "ExecuteTime": {
     "end_time": "2024-10-16T01:14:32.917709Z",
     "start_time": "2024-10-16T01:14:29.799703Z"
    }
   },
   "cell_type": "code",
   "source": [
    "hi = input(\"졸라맨\")\n",
    "print(hi)"
   ],
   "id": "33ae2f90d158fc30",
   "outputs": [
    {
     "name": "stdout",
     "output_type": "stream",
     "text": [
      "하이\n"
     ]
    }
   ],
   "execution_count": 7
  },
  {
   "metadata": {},
   "cell_type": "code",
   "outputs": [],
   "execution_count": null,
   "source": [
    "# int(), float(), str(), bool()\n",
    "\n",
    "정수 = int(input())\n",
    "print(정수, type(정수))\n",
    "\n",
    "실수 = float(input())\n",
    "print(실수, type(실수))"
   ],
   "id": "f1568cba71abc3a2"
  },
  {
   "metadata": {},
   "cell_type": "markdown",
   "source": [
    "그 외 입력값의 형변환이 가능한 종류\n",
    "* tuple()\n",
    "* list()\n",
    "* dict()\n",
    "* set()"
   ],
   "id": "86fb804fbb219f12"
  },
  {
   "metadata": {
    "ExecuteTime": {
     "end_time": "2024-10-16T01:29:20.497873Z",
     "start_time": "2024-10-16T01:29:12.585279Z"
    }
   },
   "cell_type": "code",
   "source": [
    "one, two = input().split(\",\")\n",
    "\n",
    "print(one)\n",
    "print(two)"
   ],
   "id": "a235dc17a2138234",
   "outputs": [
    {
     "name": "stdout",
     "output_type": "stream",
     "text": [
      "하이\n",
      " 바이\n"
     ]
    }
   ],
   "execution_count": 16
  },
  {
   "metadata": {
    "ExecuteTime": {
     "end_time": "2024-10-16T01:31:50.211153Z",
     "start_time": "2024-10-16T01:31:47.110551Z"
    }
   },
   "cell_type": "code",
   "source": [
    "# 시퀀스 자료형에 다 지원되는 메소드\n",
    "\n",
    "num1, num2, num3, num4 = input().split(\",\")\n",
    "\n",
    "num1 = int(num1)\n",
    "num2 = int(num2)\n",
    "num3 = int(num3)\n",
    "num4 = int(num4)\n",
    "\n",
    "print(num1)\n",
    "print(num2)\n",
    "print(num3)\n",
    "print(num4)"
   ],
   "id": "5038ccc9394265aa",
   "outputs": [
    {
     "name": "stdout",
     "output_type": "stream",
     "text": [
      "1\n",
      "2\n",
      "3\n",
      "4\n"
     ]
    }
   ],
   "execution_count": 19
  },
  {
   "metadata": {
    "ExecuteTime": {
     "end_time": "2024-10-16T01:32:32.360755Z",
     "start_time": "2024-10-16T01:32:30.558918Z"
    }
   },
   "cell_type": "code",
   "source": [
    "# map()\n",
    "\n",
    "num1, num2, num3, num4 = map(int, input().split(\",\"))\n",
    "\n",
    "print(num1, num2, num3, num4)"
   ],
   "id": "f43557aa5cfc4b0c",
   "outputs": [
    {
     "name": "stdout",
     "output_type": "stream",
     "text": [
      "1 2 3 4\n"
     ]
    }
   ],
   "execution_count": 21
  },
  {
   "metadata": {
    "ExecuteTime": {
     "end_time": "2024-10-16T01:55:28.933866Z",
     "start_time": "2024-10-16T01:55:21.788325Z"
    }
   },
   "cell_type": "code",
   "source": [
    "# 래거시 모드 : 누군가 남겨두고 간 코드\n",
    "# 리팩토링 : 결과의 변경 없이 코드의 구조를 재조정하는 것\n",
    "# input()\n",
    "\n",
    "red__been, cream, jab__chae = input(f'붕어빵(팥, 슈크림, 잡채)순으로 입력해줘 팥은 품절이야').split(',')\n",
    "order1, order2 = map(int, input(f'개수를 쉼표로 구분해서 순서대로 입력해줘').split(','))\n",
    "red__been = 0\n",
    "red__been__price = 2000\n",
    "cream__price = 2500\n",
    "jab__chae_price = 3000\n",
    "\n",
    "\n",
    "\n",
    "\n",
    "print(f'주문이 완료되었습니다. {cream}{order1}개, {jab__chae}{order2}개 총 {order1 + order2}개 결제 금액은 {cream__price * order1 + jab__chae_price * order2}원 입니다.')"
   ],
   "id": "c0bbfb1aa6dc4b90",
   "outputs": [
    {
     "name": "stdout",
     "output_type": "stream",
     "text": [
      "주문이 완료되었습니다. ㅅ2개, ㅈ3개 총 5개 결제 금액은 14000원 입니다.\n"
     ]
    }
   ],
   "execution_count": 29
  },
  {
   "metadata": {
    "ExecuteTime": {
     "end_time": "2024-10-16T01:57:56.183989Z",
     "start_time": "2024-10-16T01:57:56.177069Z"
    }
   },
   "cell_type": "code",
   "source": [
    "# print() 함수의 기능을 이용해보겠습니다.\n",
    "\n",
    "print(\"초코칩\", \"민트\", \"샷추가\", \"휘핑크림\")\n",
    "print(\"초코칩\", \"민트\", \"샷추가\", \"휘핑크림\", sep='/')\n",
    "print(\"초코칩\", \"민트\", \"샷추가\", \"휘핑크림\", sep=':')\n",
    "print(\"초코칩\", \"민트\", \"샷추가\", \"휘핑크림\", sep='    ')\n",
    "print(\"초코칩\", \"민트\", \"샷추가\", \"휘핑크림\", sep='\\n')"
   ],
   "id": "7c4080c762ec4fc3",
   "outputs": [
    {
     "name": "stdout",
     "output_type": "stream",
     "text": [
      "초코칩 민트 샷추가 휘핑크림\n",
      "초코칩/민트/샷추가/휘핑크림\n",
      "초코칩:민트:샷추가:휘핑크림\n",
      "초코칩    민트    샷추가    휘핑크림\n",
      "초코칩\n",
      "민트\n",
      "샷추가\n",
      "휘핑크림\n"
     ]
    }
   ],
   "execution_count": 31
  },
  {
   "metadata": {
    "ExecuteTime": {
     "end_time": "2024-10-16T01:58:51.141358Z",
     "start_time": "2024-10-16T01:58:51.135479Z"
    }
   },
   "cell_type": "code",
   "source": [
    "# end 끝에는 원래 \\n이 있음\n",
    "print(\"초코칩\", \"민트\", \"샷추가\", \"휘핑크림\", end=' ')\n",
    "print(\"초코칩\", \"민트\", \"샷추가\", \"휘핑크림\", end=' ')\n",
    "print(\"초코칩\", \"민트\", \"샷추가\", \"휘핑크림\", end=' ')"
   ],
   "id": "fcc557ef38b7f3f6",
   "outputs": [
    {
     "name": "stdout",
     "output_type": "stream",
     "text": [
      "초코칩 민트 샷추가 휘핑크림 초코칩 민트 샷추가 휘핑크림 초코칩 민트 샷추가 휘핑크림 "
     ]
    }
   ],
   "execution_count": 32
  }
 ],
 "metadata": {
  "kernelspec": {
   "display_name": "Python 3",
   "language": "python",
   "name": "python3"
  },
  "language_info": {
   "codemirror_mode": {
    "name": "ipython",
    "version": 2
   },
   "file_extension": ".py",
   "mimetype": "text/x-python",
   "name": "python",
   "nbconvert_exporter": "python",
   "pygments_lexer": "ipython2",
   "version": "2.7.6"
  }
 },
 "nbformat": 4,
 "nbformat_minor": 5
}
