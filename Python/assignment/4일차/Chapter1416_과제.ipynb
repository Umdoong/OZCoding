{
 "cells": [
  {
   "cell_type": "markdown",
   "metadata": {
    "id": "BX7SgOeWu86I"
   },
   "source": [
    "안녕하세요. 수강생 여러분~! Chapter14 ~ 16 수업은 잘 들으셨나요?\n",
    "\n",
    "Chapter14 ~ 16의 수업 내용을 바탕으로 아래 문제를 풀어주시면 됩니다.\n",
    "\n",
    "[**답변 입력 방법**]\n",
    "\n",
    "문제 아래에 있는 코드 입력창에 정답코드를 작성하신 후 ▷ 버튼을 클릭해 코드를 실행해보세요<br>"
   ]
  },
  {
   "cell_type": "markdown",
   "metadata": {},
   "source": [
    "---"
   ]
  },
  {
   "cell_type": "markdown",
   "metadata": {
    "id": "7kQJMRuFu-6s"
   },
   "source": [
    "[문제1]\n",
    "\n",
    "주어진 정수 x와 자연수 n을 이용해, x부터 시작해 x씩 증가하는 숫자를 n개 지니는 리스트를 출력해주세요   \n",
    "\n",
    "x = 2, n =5"
   ]
  },
  {
   "cell_type": "code",
   "metadata": {
    "id": "juUF2KYbu0DX",
    "ExecuteTime": {
     "end_time": "2024-10-17T15:55:29.838345Z",
     "start_time": "2024-10-17T15:55:29.834741Z"
    }
   },
   "source": [
    "x, n = 2, 5\n",
    "sum = [x]\n",
    "for i in range(x, n):\n",
    "    sum.append(x*i)\n",
    "    \n",
    "print(sum)"
   ],
   "outputs": [
    {
     "name": "stdout",
     "output_type": "stream",
     "text": [
      "[2, 4, 6, 8]\n"
     ]
    }
   ],
   "execution_count": 274
  },
  {
   "cell_type": "markdown",
   "metadata": {},
   "source": [
    "---"
   ]
  },
  {
   "cell_type": "markdown",
   "metadata": {
    "id": "4BPXMLXUvBVL"
   },
   "source": [
    "[문제2]\n",
    "\n",
    "전화번호가 문자열 phone_number로 주어졌을 때, 전화번호의 뒷 4자리를 *으로 가린 문자열이 출력되도록 코드를 작성해주세요\n",
    "\n",
    "phone_number = \"01012347890\"  \n",
    "\n",
    "출력 예시 : \"0101234****\""
   ]
  },
  {
   "cell_type": "code",
   "metadata": {
    "id": "P0fY7CYUvC_j",
    "ExecuteTime": {
     "end_time": "2024-10-17T15:55:31.801564Z",
     "start_time": "2024-10-17T15:55:31.797375Z"
    }
   },
   "source": [
    "phone_num = \"01012347890\"\n",
    "num_list = list(phone_num)\n",
    "for i in range(len(num_list) - 4, len(num_list)):\n",
    "    num_list[i] = '*'\n",
    "    \n",
    "print(num_list)\n",
    "phone_num = ''.join(num_list)\n",
    "print(phone_num)"
   ],
   "outputs": [
    {
     "name": "stdout",
     "output_type": "stream",
     "text": [
      "['0', '1', '0', '1', '2', '3', '4', '*', '*', '*', '*']\n",
      "0101234****\n"
     ]
    }
   ],
   "execution_count": 275
  },
  {
   "cell_type": "markdown",
   "metadata": {},
   "source": [
    "---"
   ]
  },
  {
   "cell_type": "markdown",
   "metadata": {
    "id": "uUdOU9cFvDsq"
   },
   "source": [
    "[문제3]\n",
    "\n",
    "숫자를 건넬 때 일부 자릿수를 영단어로 바꾼 카드를 건네주면 프로도는 원래 숫자를 찾는 게임입니다.\n",
    "\n",
    "다음은 숫자의 일부 자릿수를 영단어로 바꾸는 예시입니다.\n",
    "\n",
    "1478 → \"one4seveneight\"  \n",
    "234567 → \"23four5six7\"  \n",
    "10203 → \"1zerotwozero3\"    \n",
    "\n",
    "이렇게 숫자의 일부 자릿수가 영단어로 바뀌어졌거나,   \n",
    "혹은 바뀌지 않고 그대로인 문자열 s가 주어졌을때\n",
    "s가 의미하는 원래 숫자를 출력하도록 코드를 작성해주세요\n",
    "\n",
    "s = \"77three4one\n",
    "\n",
    "---\n",
    "참고로 각 숫자에 대응되는 영단어는 다음 표와 같습니다.\n",
    "\n",
    "숫자\t영단어  \n",
    "0\tzero  \n",
    "1\tone  \n",
    "2\ttwo  \n",
    "3\tthree  \n",
    "4\tfour  \n",
    "5\tfive  \n",
    "6\tsix  \n",
    "7\tseven  \n",
    "8\teight  \n",
    "9\tnine  "
   ]
  },
  {
   "cell_type": "code",
   "metadata": {
    "id": "2NmqRFgDvFtz",
    "ExecuteTime": {
     "end_time": "2024-10-17T15:55:39.457838Z",
     "start_time": "2024-10-17T15:55:39.453443Z"
    }
   },
   "source": [
    "num = {\n",
    "    \"zero\":0, \"one\":1, \"two\":2, \"three\":3, \"four\":4, \"five\":5, \"six\":6, \"seven\":7, \"eight\":8, \"nine\":9\n",
    "}\n",
    "s = \"77three4one\"\n",
    "\n",
    "for i in num:\n",
    "    s = s.replace(i, str(num[i]))\n",
    "    \n",
    "print(s)\n"
   ],
   "outputs": [
    {
     "name": "stdout",
     "output_type": "stream",
     "text": [
      "77341\n"
     ]
    }
   ],
   "execution_count": 276
  },
  {
   "cell_type": "markdown",
   "metadata": {},
   "source": [
    "---"
   ]
  },
  {
   "cell_type": "markdown",
   "metadata": {
    "id": "J0Tha6AdvGL3"
   },
   "source": [
    "[문제4]\n",
    "\n",
    "행렬의 덧셈은 행과 열의 크기가 같은 두 행렬의 같은 행, 같은 열의 값을 서로 더한 결과가 됩니다. 2개의 행렬 arr1과 arr2가 주어졌을 때, 행렬 덧셈의 결과를 출력하는 코드를 작성해주세요(result와 같은 결과가 출력되도록 작성)\n",
    "\n",
    "arr1 = [[1,2],[2,3]]\n",
    "\n",
    "arr2 = [[3,4],[5,6]]\n",
    "\n",
    "result = [[4,6],[7,9]]"
   ]
  },
  {
   "cell_type": "code",
   "metadata": {
    "id": "ujiXrEhJvIV0",
    "ExecuteTime": {
     "end_time": "2024-10-17T15:55:41.689862Z",
     "start_time": "2024-10-17T15:55:41.685807Z"
    }
   },
   "source": [
    "arr1 = [[1,2],[2,3]]\n",
    "arr2 = [[3,4],[5,6]]\n",
    "result = [[0,0], [0,0]]\n",
    "\n",
    "for i in range(len(arr1)):\n",
    "    for j in range(len(arr1[0])):\n",
    "        result[i][j] = arr1[i][j] + arr2[i][j]\n",
    "        \n",
    "print(result)"
   ],
   "outputs": [
    {
     "name": "stdout",
     "output_type": "stream",
     "text": [
      "[[4, 6], [7, 9]]\n"
     ]
    }
   ],
   "execution_count": 277
  },
  {
   "cell_type": "markdown",
   "metadata": {},
   "source": [
    "---"
   ]
  },
  {
   "cell_type": "markdown",
   "metadata": {
    "id": "eLdrWVkavJEN"
   },
   "source": [
    "[문제5]\n",
    "\n",
    "양의 정수 x가 하샤드 수이려면 x의 자릿수의 합으로 x가 나누어져야 합니다.   \n",
    "예를 들어 18의 자릿수 합은 1+8=9이고, 18은 9로 나누어 떨어지므로 18은 하샤드 수입니다.   \n",
    "주어진 x를 이용해 x가 하샤드 수인지 아닌지 검사하는 코드를 작성해주세요\n",
    "\n",
    "x = 17\n",
    "\n",
    "----\n",
    "\n",
    "입출력 예시\n",
    "x\t결과값  \n",
    "10\ttrue  \n",
    "12\ttrue  \n",
    "11\tfalse  \n",
    "13\tfalse  "
   ]
  },
  {
   "metadata": {
    "id": "EULD-IOrvKmG",
    "ExecuteTime": {
     "end_time": "2024-10-17T15:55:44.051228Z",
     "start_time": "2024-10-17T15:55:44.047362Z"
    }
   },
   "cell_type": "code",
   "source": [
    "x = 17\n",
    "x_list = list(str(x))\n",
    "x_int0 = int(x_list[0])\n",
    "x_int1 = int(x_list[1])\n",
    "x_sum = x_int0 + x_int1\n",
    "\n",
    "if x % x_sum == 0:\n",
    "    print(f'{x}은(는) 하샤드 수입니다.')\n",
    "else:\n",
    "    print(f'{x}은(는) 햐사드 수가 아닙니다.')"
   ],
   "outputs": [
    {
     "name": "stdout",
     "output_type": "stream",
     "text": [
      "17은(는) 햐사드 수가 아닙니다.\n"
     ]
    }
   ],
   "execution_count": 278
  },
  {
   "cell_type": "markdown",
   "metadata": {},
   "source": [
    "---"
   ]
  },
  {
   "cell_type": "markdown",
   "metadata": {
    "id": "GeS6hZhivLMZ"
   },
   "source": [
    "[문제6]\n",
    "\n",
    "String형 배열 seoul의 element중 \"Kim\"의 인덱스 x를 찾아, \"김서방은 x에 있다\"는 String을 출력하는 코드를 작성해주세요.   \n",
    "\n",
    "seoul에 \"Kim\"은 오직 한 번만 나타나며 잘못된 값이 입력되는 경우는 없습니다.\n",
    "\n",
    "seoul = [\"Jane\", \"Kim\"]\n",
    "\n",
    "결과\n",
    "\"김서방은 1에 있다\""
   ]
  },
  {
   "cell_type": "code",
   "metadata": {
    "id": "e4LXat3BvRRg",
    "ExecuteTime": {
     "end_time": "2024-10-17T15:55:46.560162Z",
     "start_time": "2024-10-17T15:55:46.557028Z"
    }
   },
   "source": [
    "seoul = [\"Jane\", \"Kim\"]\n",
    "Kim_gps = seoul.index(\"Kim\")\n",
    "print(f'김서방은 {Kim_gps}에 있다')"
   ],
   "outputs": [
    {
     "name": "stdout",
     "output_type": "stream",
     "text": [
      "김서방은 1에 있다\n"
     ]
    }
   ],
   "execution_count": 279
  },
  {
   "cell_type": "markdown",
   "metadata": {},
   "source": [
    "---"
   ]
  },
  {
   "cell_type": "markdown",
   "metadata": {
    "id": "iZjKl-ZqvOkm"
   },
   "source": [
    "[문제7]\n",
    "\n",
    "0부터 9까지의 숫자 중 일부가 들어있는 정수 배열 numbers가 주어집니다.   \n",
    "numbers에서 찾을 수 없는 0부터 9까지의 숫자를 모두 찾아 더한 수를 출력해주세요\n",
    "\n",
    "numbers = [5,8,1,0,6,9]"
   ]
  },
  {
   "cell_type": "code",
   "metadata": {
    "id": "598DAkIHvQav",
    "ExecuteTime": {
     "end_time": "2024-10-17T15:55:48.834044Z",
     "start_time": "2024-10-17T15:55:48.830620Z"
    }
   },
   "source": [
    "numbers = {5,8,1,0,6,9}\n",
    "ori_num = set(range(0, 10))\n",
    "\n",
    "dif_num = set.difference(ori_num, numbers)\n",
    "print(dif_num)"
   ],
   "outputs": [
    {
     "name": "stdout",
     "output_type": "stream",
     "text": [
      "{2, 3, 4, 7}\n"
     ]
    }
   ],
   "execution_count": 280
  },
  {
   "cell_type": "markdown",
   "metadata": {},
   "source": [
    "#### 프로젝트: 붕어빵 자동 판매 시스템\n",
    "\n",
    "\n",
    "당신은 붕어빵 가게의 주인입니다. \n",
    "\n",
    "손님들이 붕어빵을 주문하면 이를 자동으로 처리하고, 재고를 관리하는 시스템을 만들고자 합니다. 또한, 관리자 모드를 통해 재고를 추가할 수 있는 기능을 구현해야 합니다.\n"
   ]
  },
  {
   "cell_type": "markdown",
   "metadata": {},
   "source": [
    "[문제 1: 붕어빵 재고 확인]\n",
    "\n",
    "붕어빵 가게의 현재 재고를 확인하는 기능을 구현하세요.\n",
    "\n",
    "요구사항:\n",
    "- 현재 붕어빵의 재고를 딕셔너리로 관리합니다.\n",
    "- 딕셔너리에는 붕어빵의 종류와 각각의 재고 개수가 저장됩니다.\n",
    "- 현재 재고를 화면에 출력하세요.\n",
    "\n",
    "붕어빵 재고\n",
    "- 팥붕어빵 : 10개\n",
    "- 슈크림붕어빵 : 8개\n",
    "- 초코붕어빵 : 5개"
   ]
  },
  {
   "cell_type": "code",
   "metadata": {
    "ExecuteTime": {
     "end_time": "2024-10-17T16:01:07.044180Z",
     "start_time": "2024-10-17T16:01:07.040288Z"
    }
   },
   "source": [
    "fish = {\n",
    "    \"팥붕어빵\" : 10,\n",
    "    \"슈크림붕어빵\" : 8,\n",
    "    \"초코붕어빵\" : 5\n",
    "}\n",
    "print(fish)"
   ],
   "outputs": [
    {
     "name": "stdout",
     "output_type": "stream",
     "text": [
      "{'팥붕어빵': 10, '슈크림붕어빵': 8, '초코붕어빵': 5}\n"
     ]
    }
   ],
   "execution_count": 294
  },
  {
   "cell_type": "markdown",
   "metadata": {},
   "source": [
    "[문제 2: 붕어빵 주문 받기]\n",
    "\n",
    "손님이 주문한 붕어빵의 종류와 개수를 입력받는 기능을 구현하세요.\n",
    "\n",
    "요구사항:\n",
    "- 손님이 주문할 붕어빵의 종류와 개수를 입력받습니다.\n",
    "- 주문 내용을 딕셔너리에 저장하세요.\n",
    "- 주문 내역을 출력해주세요."
   ]
  },
  {
   "cell_type": "code",
   "metadata": {
    "ExecuteTime": {
     "end_time": "2024-10-17T15:56:48.918795Z",
     "start_time": "2024-10-17T15:56:34.343503Z"
    }
   },
   "source": [
    "order_menu = input(\"메뉴판(팥붕어빵, 슈크림붕어빵, 초코붕어빵) 쉼표로 구분해서 주문할 것\").split(',')\n",
    "order_num = input(\"주문 개수를 메뉴순서와 맞게 쉼표로 구분해서 주문할 것\").split(',')\n",
    "order = dict(zip(order_menu,  map(int, order_num)))\n",
    "print(order)"
   ],
   "outputs": [
    {
     "name": "stdout",
     "output_type": "stream",
     "text": [
      "{'팥붕어빵': 1, '슈크림붕어빵': 2, '초코붕어빵': 3}\n"
     ]
    }
   ],
   "execution_count": 283
  },
  {
   "cell_type": "markdown",
   "metadata": {},
   "source": [
    "[문제 3: 붕어빵 주문 처리]\n",
    "\n",
    "손님의 주문을 처리하여 붕어빵 재고를 업데이트하는 기능을 구현하세요.\n",
    "\n",
    "요구사항:\n",
    "- 손님의 주문 내용을 기반으로 재고를 업데이트합니다.\n",
    "- 재고가 부족할 경우, 손님에게 재고 부족을 알리고 재고를 감소시키지 않습니다.\n",
    "- 재고가 충분할 경우, 주문한 만큼 재고를 감소시키고 판매를 완료합니다.\n",
    "- 판매가 완료된 경우 판매된 붕어빵 맛과 개수를 출력하세요."
   ]
  },
  {
   "cell_type": "markdown",
   "metadata": {},
   "source": []
  },
  {
   "metadata": {
    "ExecuteTime": {
     "end_time": "2024-10-17T15:56:53.422522Z",
     "start_time": "2024-10-17T15:56:53.418836Z"
    }
   },
   "cell_type": "code",
   "source": [
    "for i in order_menu:\n",
    "    if order[i] <= fish[i]:\n",
    "        fish[i] -= order[i]\n",
    "    elif order[i] > fish[i]:\n",
    "        print(\"재고가 모자랍니다.\")\n",
    "        break\n",
    "print(f'남은 재고 : {fish}')"
   ],
   "outputs": [
    {
     "name": "stdout",
     "output_type": "stream",
     "text": [
      "남은 재고 : {'팥붕어빵': 9, '슈크림붕어빵': 6, '초코붕어빵': 2}\n"
     ]
    }
   ],
   "execution_count": 284
  },
  {
   "cell_type": "markdown",
   "metadata": {},
   "source": [
    "[문제 4: 여러 손님 주문 처리]\n",
    "\n",
    "여러 손님들의 주문을 처리할 수 있도록 시스템을 확장하세요.\n",
    "\n",
    "요구사항:\n",
    "- 손님이 \"종료\"를 입력할 때까지 주문을 계속 받습니다.\n",
    "- 각 주문마다 재고를 업데이트합니다.\n",
    "- 현재 재고를 화면에 출력합니다."
   ]
  },
  {
   "cell_type": "code",
   "metadata": {
    "ExecuteTime": {
     "end_time": "2024-10-17T16:01:44.189193Z",
     "start_time": "2024-10-17T16:01:11.518946Z"
    }
   },
   "source": [
    "while True:\n",
    "    order_menu = input(\"메뉴판(팥붕어빵, 슈크림붕어빵, 초코붕어빵) 쉼표로 구분해서 주문할 것\").split(',')\n",
    "    \n",
    "    if \"종료\" in order_menu:\n",
    "        print(\"종료되었습니다.\")\n",
    "        break\n",
    "        \n",
    "    elif not all(menu in fish for menu in order_menu): # all 전부 True면 True인데 not붙어서 False\n",
    "            print(\"없는 메뉴입니다.\")\n",
    "            break\n",
    "    else:\n",
    "        order_num = input(\"주문 개수를 메뉴순서와 맞게 쉼표로 구분해서 주문할 것\").split(',')\n",
    "\n",
    "\n",
    "    order = dict(zip(order_menu, map(int, order_num)))\n",
    "\n",
    "        \n",
    "    for i in order_menu:\n",
    "        if order[i] <= fish[i]:\n",
    "            fish[i] -= order[i]\n",
    "            print(f'{i}이 {order[i]}개 판매되었습니다. ')\n",
    "        elif order[i] > fish[i]:\n",
    "            print(\"재고가 모자랍니다.\")\n",
    "            break\n",
    "    \n",
    "    print(f'남은 재고 : {fish}')\n",
    "    print()\n",
    "            "
   ],
   "outputs": [
    {
     "name": "stdout",
     "output_type": "stream",
     "text": [
      "팥붕어빵이 2개 판매되었습니다. \n",
      "슈크림붕어빵이 1개 판매되었습니다. \n",
      "초코붕어빵이 1개 판매되었습니다. \n",
      "남은 재고 : {'팥붕어빵': 8, '슈크림붕어빵': 7, '초코붕어빵': 4}\n",
      "\n",
      "팥붕어빵이 2개 판매되었습니다. \n",
      "슈크림붕어빵이 1개 판매되었습니다. \n",
      "남은 재고 : {'팥붕어빵': 6, '슈크림붕어빵': 6, '초코붕어빵': 4}\n",
      "\n",
      "종료되었습니다.\n"
     ]
    }
   ],
   "execution_count": 295
  },
  {
   "metadata": {},
   "cell_type": "markdown",
   "source": [
    "[문제 5: 관리자 모드]\n",
    "\n",
    "관리자 모드를 통해 붕어빵 재고를 추가할 수 있는 기능을 구현하세요.\n",
    "\n",
    "요구사항:\n",
    "- 관리자는 특정 붕어빵의 재고를 추가할 수 있습니다.\n",
    "- \"종료\"를 입력하면 관리자 모드를 종료합니다.\n",
    "- 추가된 재고를 업데이트하고 현재 재고를 화면에 출력합니다."
   ]
  },
  {
   "metadata": {
    "ExecuteTime": {
     "end_time": "2024-10-17T16:02:23.475712Z",
     "start_time": "2024-10-17T16:01:55.868611Z"
    }
   },
   "cell_type": "code",
   "source": [
    "while True:\n",
    "    print(f'현재 재고 : {fish}')\n",
    "    order_menu = input(\"메뉴판(팥붕어빵, 슈크림붕어빵, 초코붕어빵) 쉼표로 구분해서 적을 것\").split(',')\n",
    "    if \"종료\" in order_menu:\n",
    "        print(\"종료되었습니다.\")\n",
    "        break\n",
    "    order_num = input(\"주문 개수를 메뉴순서와 맞게 쉼표로 구분해서 추가할 것\").split(',')\n",
    "    \n",
    "    master_order = dict(zip(order_menu, map(int, order_num)))\n",
    "    \n",
    "    for menu, num in master_order.items():\n",
    "        if menu in fish:\n",
    "            fish[menu] += num\n",
    "            print(f'{menu}이 {num}개 추가되었습니다.')\n",
    "        else:\n",
    "            print(f'{menu}는 메뉴에 없습니다.')"
   ],
   "outputs": [
    {
     "name": "stdout",
     "output_type": "stream",
     "text": [
      "현재 재고 : {'팥붕어빵': 6, '슈크림붕어빵': 6, '초코붕어빵': 4}\n",
      "팥붕어빵이 10개 추가되었습니다.\n",
      "슈크림붕어빵이 10개 추가되었습니다.\n",
      "초코붕어빵이 10개 추가되었습니다.\n",
      "현재 재고 : {'팥붕어빵': 16, '슈크림붕어빵': 16, '초코붕어빵': 14}\n",
      "종료되었습니다.\n"
     ]
    }
   ],
   "execution_count": 297
  },
  {
   "cell_type": "markdown",
   "metadata": {},
   "source": [
    "[문제 6: 매출 확인]\n",
    "\n",
    "붕어빵 판매 가격을 설정하고, 판매한 붕어빵의 매출을 계산하세요.\n",
    "\n",
    "요구사항:\n",
    "- 각 붕어빵의 가격을 딕셔너리로 관리합니다.\n",
    "- 판매된 붕어빵의 종류와 개수를 딕셔너리로 관리합니다.\n",
    "- 총 매출을 계산하여 출력합니다.\n",
    "\n",
    "초기 설정:\n",
    "- 가격\n",
    "    - \"팥붕어빵\": 1000\n",
    "    - \"슈크림붕어빵\": 1200\n",
    "    - \"초코붕어빵\": 1500\n",
    "\n",
    "- 판매 개수\n",
    "    - \"팥붕어빵\": 0\n",
    "    - \"슈크림붕어빵\": 0\n",
    "    - \"초코붕어빵\": 0"
   ]
  },
  {
   "cell_type": "code",
   "metadata": {
    "ExecuteTime": {
     "end_time": "2024-10-17T16:13:41.325943Z",
     "start_time": "2024-10-17T16:13:09.160601Z"
    }
   },
   "source": [
    "# 위에서 사용한 주문 수가 반복문으로 인해 계속 덮어씌워지고 거기에 total을 만들기엔 문제에 어긋나는 느낌이라 여기서 복붙\n",
    "fish = {\n",
    "    \"팥붕어빵\" : 10,\n",
    "    \"슈크림붕어빵\" : 8,\n",
    "    \"초코붕어빵\" : 5\n",
    "}\n",
    "price = {\n",
    "    \"팥붕어빵\" : 1000, \"슈크림붕어빵\" : 1200, \"초코붕어빵\" : 1500\n",
    "}\n",
    "total_sales = 0\n",
    "while True:\n",
    "    \n",
    "    order_menu = input(\"메뉴판(팥붕어빵, 슈크림붕어빵, 초코붕어빵) 쉼표로 구분해서 주문할 것\").split(',') # 메뉴 입력\n",
    "    \n",
    "    if \"종료\" in order_menu: #종료\n",
    "        print(\"종료되었습니다.\")\n",
    "        break\n",
    "        \n",
    "    elif not all(menu in fish for menu in order_menu): # all 전부 True면 True인데 not붙어서 False / 없는 메뉴 검사\n",
    "            print(\"없는 메뉴입니다.\")\n",
    "            break\n",
    "    else:\n",
    "        order_num = input(\"주문 개수를 메뉴순서와 맞게 쉼표로 구분해서 주문할 것\").split(',') # 개수 입력\n",
    "    \n",
    "    \n",
    "    order = dict(zip(order_menu, map(int, order_num))) # 메뉴와 개수를 order에 딕셔너리 형태로 저장\n",
    "    \n",
    "    for For_menu, For_num in order.items():\n",
    "        if For_num < fish[For_menu]:\n",
    "            fish[For_menu] -= For_num\n",
    "            total_sales += For_num * price[For_menu]\n",
    "            \n",
    "    print(f'남은 재고 : {fish}') #남은 재고 출력\n",
    "    print(f'판매된 붕어빵 : {order}')\n",
    "    print(f'붕어빵 매출 : {total_sales}원')\n",
    "    print()\n",
    "    \n",
    "# 각 붕어빵의 가격을 딕셔너리로 관리합니다.\n",
    "# 판매된 붕어빵의 종류와 개수를 딕셔너리로 관리합니다.\n",
    "# 총 매출을 계산하여 출력합니다.\n",
    "            \n",
    "            \n"
   ],
   "outputs": [
    {
     "name": "stdout",
     "output_type": "stream",
     "text": [
      "남은 재고 : {'팥붕어빵': 8, '슈크림붕어빵': 6, '초코붕어빵': 3}\n",
      "판매된 붕어빵 : {'팥붕어빵': 2, '슈크림붕어빵': 2, '초코붕어빵': 2}\n",
      "붕어빵 매출 : 7400원\n",
      "\n",
      "남은 재고 : {'팥붕어빵': 5, '슈크림붕어빵': 5, '초코붕어빵': 3}\n",
      "판매된 붕어빵 : {'팥붕어빵': 3, '슈크림붕어빵': 1}\n",
      "붕어빵 매출 : 11600원\n",
      "\n",
      "종료되었습니다.\n"
     ]
    }
   ],
   "execution_count": 299
  }
 ],
 "metadata": {
  "colab": {
   "authorship_tag": "ABX9TyMLQjyUmELFyKkx1AyovOFZ",
   "provenance": []
  },
  "kernelspec": {
   "display_name": "Python 3 (ipykernel)",
   "name": "python3",
   "language": "python"
  },
  "language_info": {
   "codemirror_mode": {
    "name": "ipython",
    "version": 3
   },
   "file_extension": ".py",
   "mimetype": "text/x-python",
   "name": "python",
   "nbconvert_exporter": "python",
   "pygments_lexer": "ipython3",
   "version": "3.11.7"
  }
 },
 "nbformat": 4,
 "nbformat_minor": 0
}
