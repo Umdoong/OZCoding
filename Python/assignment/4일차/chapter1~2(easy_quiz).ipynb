{
 "cells": [
  {
   "metadata": {},
   "cell_type": "markdown",
   "source": "# 파이썬 1~2일차 쪽지시험",
   "id": "5ce5aa2babe14282"
  },
  {
   "metadata": {},
   "cell_type": "markdown",
   "source": [
    "## 문제 1\n",
    "### 오즈코딩스쿨에서 코딩을 처음 시작한 박상훈!\n",
    "### 박상훈에게는 덩치, 애기라는 도마뱀이 있습니다.\n",
    "### 도마뱀의 나이는 각각 1살 2살 입니다.\n",
    "### 각 도마뱀의 이름으로 변수를 선언하고 각 도마뱀의 나이를 할당해주세요!!"
   ],
   "id": "136e2d85abe685b9"
  },
  {
   "metadata": {
    "ExecuteTime": {
     "end_time": "2024-10-17T08:36:34.020070Z",
     "start_time": "2024-10-17T08:36:34.016950Z"
    }
   },
   "cell_type": "code",
   "source": [
    "# 정답 입력\n",
    "덩치, 애기 = 1, 2"
   ],
   "id": "8e5a1ab9c30b38a7",
   "outputs": [],
   "execution_count": 48
  },
  {
   "metadata": {},
   "cell_type": "markdown",
   "source": [
    "## 문제 2\n",
    "### 박상훈의 `도마뱀 변수`들을 사용하여 `도마뱀 리스트`를 만들어 주세요!"
   ],
   "id": "94e68ef24ba3e5f7"
  },
  {
   "metadata": {
    "ExecuteTime": {
     "end_time": "2024-10-17T08:36:34.065857Z",
     "start_time": "2024-10-17T08:36:34.060438Z"
    }
   },
   "cell_type": "code",
   "source": [
    "# 정담 입력\n",
    "lizard_list = [덩치, 애기]\n",
    "print(type(lizard_list)) # 리스트 타입 확인\n",
    "print(lizard_list)"
   ],
   "id": "b8334aff8ce27138",
   "outputs": [
    {
     "name": "stdout",
     "output_type": "stream",
     "text": [
      "<class 'list'>\n",
      "[1, 2]\n"
     ]
    }
   ],
   "execution_count": 49
  },
  {
   "metadata": {},
   "cell_type": "markdown",
   "source": [
    "## 문제 3\n",
    "### 박상훈이 도마뱀을 새로 샀어요!\n",
    "### 도마뱀의 이름은 마고, 나이는 2살이에요!\n",
    "### `도마뱀 리스트`에 가장 끝에 추가해주세요!!"
   ],
   "id": "454fe842db180fc"
  },
  {
   "metadata": {
    "ExecuteTime": {
     "end_time": "2024-10-17T08:36:34.109212Z",
     "start_time": "2024-10-17T08:36:34.104255Z"
    }
   },
   "cell_type": "code",
   "source": [
    "# 정답 입력\n",
    "마고 = 2\n",
    "lizard_list.append(마고)\n",
    "print(lizard_list)"
   ],
   "id": "3ec1ef1be2927b78",
   "outputs": [
    {
     "name": "stdout",
     "output_type": "stream",
     "text": [
      "[1, 2, 2]\n"
     ]
    }
   ],
   "execution_count": 50
  },
  {
   "metadata": {},
   "cell_type": "markdown",
   "source": [
    "## 문제 4\n",
    "### 박상훈의 도마뱀들의 나이를 더해 주세요!!"
   ],
   "id": "20ccbdf20f857d13"
  },
  {
   "metadata": {
    "ExecuteTime": {
     "end_time": "2024-10-17T08:36:34.162604Z",
     "start_time": "2024-10-17T08:36:34.159138Z"
    }
   },
   "cell_type": "code",
   "source": [
    "# 정답 입력\n",
    "print(sum(lizard_list))"
   ],
   "id": "3ebc179d264d3866",
   "outputs": [
    {
     "name": "stdout",
     "output_type": "stream",
     "text": [
      "5\n"
     ]
    }
   ],
   "execution_count": 51
  },
  {
   "metadata": {},
   "cell_type": "markdown",
   "source": [
    "## 문제 5\n",
    "### 박상훈의 `도마뱀 리스트`를 사용하여 \"사육장\"이라는 딕셔너리를 만들어주세요!"
   ],
   "id": "eea768f4f558a28a"
  },
  {
   "metadata": {
    "ExecuteTime": {
     "end_time": "2024-10-17T08:36:34.203324Z",
     "start_time": "2024-10-17T08:36:34.198313Z"
    }
   },
   "cell_type": "code",
   "source": [
    "# 정답 입력\n",
    "lizard_name = ['덩치', '애기', '마고']\n",
    "사육장 = dict(zip(lizard_name, lizard_list))\n",
    "print(사육장)"
   ],
   "id": "49874bd7d6ee7c2d",
   "outputs": [
    {
     "name": "stdout",
     "output_type": "stream",
     "text": [
      "{'덩치': 1, '애기': 2, '마고': 2}\n"
     ]
    }
   ],
   "execution_count": 52
  },
  {
   "metadata": {},
   "cell_type": "markdown",
   "source": [
    "## 문제 6\n",
    "### 사육장 딕셔너리를 `key, value` 형태로 출력해주세요!"
   ],
   "id": "a7b973b398f00642"
  },
  {
   "metadata": {
    "ExecuteTime": {
     "end_time": "2024-10-17T08:36:34.268343Z",
     "start_time": "2024-10-17T08:36:34.264611Z"
    }
   },
   "cell_type": "code",
   "source": [
    "# 정답 입력\n",
    "print(사육장.keys())\n",
    "print(사육장.values())"
   ],
   "id": "94544cb2f847228f",
   "outputs": [
    {
     "name": "stdout",
     "output_type": "stream",
     "text": [
      "dict_keys(['덩치', '애기', '마고'])\n",
      "dict_values([1, 2, 2])\n"
     ]
    }
   ],
   "execution_count": 53
  },
  {
   "metadata": {},
   "cell_type": "markdown",
   "source": "",
   "id": "fec443543704aada"
  },
  {
   "metadata": {},
   "cell_type": "markdown",
   "source": [
    "## 문제 7\n",
    "### 도마뱀들의 나이를 `실수형태`로 출력해주세요!"
   ],
   "id": "a9aa1a28e60e6bf8"
  },
  {
   "metadata": {
    "ExecuteTime": {
     "end_time": "2024-10-17T08:36:34.308217Z",
     "start_time": "2024-10-17T08:36:34.302696Z"
    }
   },
   "cell_type": "code",
   "source": [
    "# 정답 입력\n",
    "Float사육장 = dict(zip(lizard_name, list(map(float, 사육장.values()))))\n",
    "print(Float사육장)"
   ],
   "id": "2183407c40686977",
   "outputs": [
    {
     "name": "stdout",
     "output_type": "stream",
     "text": [
      "{'덩치': 1.0, '애기': 2.0, '마고': 2.0}\n"
     ]
    }
   ],
   "execution_count": 54
  },
  {
   "metadata": {},
   "cell_type": "markdown",
   "source": [
    "## 문제 8\n",
    "### 1년이 지났습니다.\n",
    "### 도마뱀들이 1살씩 나이를 먹었어요\n",
    "### 도마뱀들의 나이를 바꿔주세요!"
   ],
   "id": "43428aabdee55513"
  },
  {
   "metadata": {
    "ExecuteTime": {
     "end_time": "2024-10-17T08:36:34.384093Z",
     "start_time": "2024-10-17T08:36:34.377877Z"
    }
   },
   "cell_type": "code",
   "source": [
    "# 정답 입력\n",
    "after_year = []\n",
    "for i in lizard_list:\n",
    "    after_year.append(i+1)\n",
    "\n",
    "after_year사육장 = dict(zip(lizard_name, after_year))\n",
    "print(after_year사육장)"
   ],
   "id": "286dc862809e7e80",
   "outputs": [
    {
     "name": "stdout",
     "output_type": "stream",
     "text": [
      "{'덩치': 2, '애기': 3, '마고': 3}\n"
     ]
    }
   ],
   "execution_count": 55
  },
  {
   "metadata": {},
   "cell_type": "markdown",
   "source": [
    "## 문제 9\n",
    "### n년이 지났을 때 도마뱀의 나이가 알고 싶어 졌어요!!\n",
    "### `input` 을 이용해서 n년차 도마뱀들의 나이를 출력해주세요!"
   ],
   "id": "ed5d1e1503e37223"
  },
  {
   "metadata": {
    "ExecuteTime": {
     "end_time": "2024-10-17T08:36:37.843327Z",
     "start_time": "2024-10-17T08:36:34.415683Z"
    }
   },
   "cell_type": "code",
   "source": [
    "# 정답 입력\n",
    "any_year = []\n",
    "how_much = int(input())\n",
    "\n",
    "i=0\n",
    "while len(after_year) > i:    # 1년이 지나서 1살씩 먹었으니 문제 8번의 리스트를 기준으로 계산\n",
    "    any_year.append(after_year[i] + how_much)\n",
    "    i += 1\n",
    "\n",
    "any_year사육장 = dict(zip(lizard_name, any_year))\n",
    "print(any_year사육장)   # 10000년이 지나 덩치, 애기, 마고는 드래곤이 되었다.\n",
    "\n",
    "#이렇게 푸는 게 아니었다면 나중에 저에게 알려주세요 ㅠㅠ 편하게 가는 함수가 있나요...?"
   ],
   "id": "7a8db95dd6192d42",
   "outputs": [
    {
     "name": "stdout",
     "output_type": "stream",
     "text": [
      "{'덩치': 10002, '애기': 10003, '마고': 10003}\n"
     ]
    }
   ],
   "execution_count": 56
  },
  {
   "metadata": {},
   "cell_type": "markdown",
   "source": [
    "## 문제 10\n",
    "### 5년이 지났습니다\n",
    "### 우리 도마뱀들이 너무 커서 사육장을 분리해야해요!\n",
    "### 딕셔너리로 나누었던 것을 사육장1, 2, 3 `리스트`로 변경하고\n",
    "### 각 도마뱀들을 넣어주세요!"
   ],
   "id": "3e3fd38bd44d9b2e"
  },
  {
   "metadata": {
    "ExecuteTime": {
     "end_time": "2024-10-17T08:36:38.034885Z",
     "start_time": "2024-10-17T08:36:38.029631Z"
    }
   },
   "cell_type": "code",
   "source": [
    "# 정답 입력\n",
    "분리_사육장 = [{ i : j } for i, j in after_year사육장.items()] # 임시 사육장에 귀요미들을 각각 분리해서 담아준다\n",
    "\n",
    "임시_사육장, 사육장1, 사육장2, 사육장3 = [], [], [], [] # 사육장들 생성\n",
    "\n",
    "i = 0\n",
    "while i < len(분리_사육장): # 같은 공간에서 분리돼있던 귀요미들을 임시 사육장으로 옮긴다 \n",
    "    임시_사육장.append(분리_사육장[i])\n",
    "    i += 1\n",
    "    \n",
    "사육장1, 사육장2, 사육장3 = 임시_사육장 # 임시 사육장에 있는 귀요미들을 각 사육장으로 옮겨준다\n",
    "print(list(사육장1)) # 나이를 볼 수 없어서 슬프지만 문제대로 사육장 1~3을 리스트로 변경한다\n",
    "print(list(사육장2))\n",
    "print(list(사육장3))\n"
   ],
   "id": "95ad0c7878164214",
   "outputs": [
    {
     "name": "stdout",
     "output_type": "stream",
     "text": [
      "['덩치']\n",
      "['애기']\n",
      "['마고']\n"
     ]
    }
   ],
   "execution_count": 57
  },
  {
   "metadata": {},
   "cell_type": "markdown",
   "source": "",
   "id": "e9add10bf3ea4774"
  }
 ],
 "metadata": {
  "kernelspec": {
   "display_name": "Python 3",
   "language": "python",
   "name": "python3"
  },
  "language_info": {
   "codemirror_mode": {
    "name": "ipython",
    "version": 2
   },
   "file_extension": ".py",
   "mimetype": "text/x-python",
   "name": "python",
   "nbconvert_exporter": "python",
   "pygments_lexer": "ipython2",
   "version": "2.7.6"
  }
 },
 "nbformat": 4,
 "nbformat_minor": 5
}
