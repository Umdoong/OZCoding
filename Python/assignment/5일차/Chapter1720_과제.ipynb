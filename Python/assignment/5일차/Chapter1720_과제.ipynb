{
 "cells": [
  {
   "cell_type": "markdown",
   "metadata": {
    "id": "aLkxKxnFLowa"
   },
   "source": [
    "안녕하세요. 수강생 여러분~! Chapter17 ~ 20 수업은 잘 들으셨나요?\n",
    "\n",
    "Chapter17 ~ 20의 수업 내용을 바탕으로 아래 문제를 풀어주시면 됩니다.\n",
    "\n",
    "[**답변 입력 방법**]\n",
    "\n",
    "문제 아래에 있는 코드 입력창에 정답코드를 작성하신 후 ▷ 버튼을 클릭해 코드를 실행해보세요<br>"
   ]
  },
  {
   "cell_type": "markdown",
   "metadata": {
    "id": "pYJ1dSggLwcG"
   },
   "source": [
    "[문제1]\n",
    "\n",
    "print_even 리스트 내에 있는 값 중 짝수만 화면에 출력되도록 print_score 함수를 생성 후 결과값을 출력해주세요\n",
    "\n",
    "print_even ([1, 3, 2, 10, 12, 11, 15])"
   ]
  },
  {
   "cell_type": "code",
   "metadata": {
    "id": "PTqEeebbLmCA",
    "ExecuteTime": {
     "end_time": "2024-10-18T04:43:02.642138Z",
     "start_time": "2024-10-18T04:43:02.638738Z"
    }
   },
   "source": [
    "print_even = [1, 3, 2, 10, 12, 11, 15] # 주어진 수\n",
    "\n",
    "def print_score(num_list): # num_list 매개변수를 받아\n",
    "    even_list = [] # 짝수를 담을 리스트 생성\n",
    "    for num in num_list: # 주어진 수를 num에 하나씩 담아서 확인\n",
    "        if num % 2 == 0: # num에 담긴 수가 짝수인지 확인\n",
    "            even_list.append(num) # 짝수면 even_list에 추가\n",
    "    print(even_list)\n",
    "    \n",
    "print_score(print_even)"
   ],
   "outputs": [
    {
     "name": "stdout",
     "output_type": "stream",
     "text": [
      "[2, 10, 12]\n"
     ]
    }
   ],
   "execution_count": 9
  },
  {
   "cell_type": "markdown",
   "metadata": {},
   "source": [
    "---"
   ]
  },
  {
   "cell_type": "markdown",
   "metadata": {
    "id": "ZkGserEsQS0L"
   },
   "source": [
    "[문제2]\n",
    "\n",
    "비어있는 오즈 (oz) 클래스를 \"정의\" 해보세요."
   ]
  },
  {
   "cell_type": "code",
   "metadata": {
    "id": "dJbcWWlwL0iK",
    "ExecuteTime": {
     "end_time": "2024-10-18T04:45:02.038242Z",
     "start_time": "2024-10-18T04:45:02.035804Z"
    }
   },
   "source": [
    "class OZ():\n",
    "    pass"
   ],
   "outputs": [],
   "execution_count": 15
  },
  {
   "cell_type": "markdown",
   "metadata": {},
   "source": [
    "---"
   ]
  },
  {
   "cell_type": "markdown",
   "metadata": {
    "id": "Ofy86rZfL1Mg"
   },
   "source": [
    "[문제3]\n",
    "\n",
    "오즈(oz) 클래스의 인스턴스를 \"생성\" 하고 이를 coding 변수로 할당해보세요."
   ]
  },
  {
   "cell_type": "code",
   "metadata": {
    "id": "5NhWiuULL2Xa",
    "ExecuteTime": {
     "end_time": "2024-10-18T04:47:17.103122Z",
     "start_time": "2024-10-18T04:47:17.098548Z"
    }
   },
   "source": [
    "oz = OZ()\n",
    "coding = oz"
   ],
   "outputs": [],
   "execution_count": 16
  },
  {
   "cell_type": "markdown",
   "metadata": {},
   "source": [
    "---"
   ]
  },
  {
   "cell_type": "markdown",
   "metadata": {
    "id": "5T6EMx8EL26b"
   },
   "source": [
    "[문제4]\n",
    "\n",
    "오즈(oz) 클래스에 \"클래스 정복\"을 출력하는 기본 생성자를 추가해주세요"
   ]
  },
  {
   "cell_type": "code",
   "metadata": {
    "id": "Zq35PXA0L3-m",
    "ExecuteTime": {
     "end_time": "2024-10-18T04:49:28.663166Z",
     "start_time": "2024-10-18T04:49:28.657058Z"
    }
   },
   "source": [
    "class OZ():\n",
    "    def __init__(self):\n",
    "        print(\"클래스 정복\")\n",
    "        \n",
    "oz = OZ()"
   ],
   "outputs": [
    {
     "name": "stdout",
     "output_type": "stream",
     "text": [
      "클래스 정복\n"
     ]
    }
   ],
   "execution_count": 22
  },
  {
   "cell_type": "markdown",
   "metadata": {},
   "source": [
    "---"
   ]
  },
  {
   "cell_type": "markdown",
   "metadata": {
    "id": "htuycQWSL4l-"
   },
   "source": [
    "[문제5]\n",
    "\n",
    "오즈 (oz) 클래스에 (이름, 나이, 코딩레벨)을 받는 생성자를 추가해주세요\n",
    "\n",
    "coding = oz(\"김코\", 30, \"A\")\n"
   ]
  },
  {
   "cell_type": "code",
   "metadata": {
    "id": "A7h3I8CWL5ox",
    "ExecuteTime": {
     "end_time": "2024-10-18T04:52:43.518202Z",
     "start_time": "2024-10-18T04:52:43.512911Z"
    }
   },
   "source": [
    "class OZ():\n",
    "    def __init__(self, name, age, level):\n",
    "        self.name = name\n",
    "        self.age = age\n",
    "        self.level = level\n",
    "        \n",
    "coding = OZ(\"김코\", 30, \"A\")\n",
    "print(coding.name, coding.age, coding.level)"
   ],
   "outputs": [
    {
     "name": "stdout",
     "output_type": "stream",
     "text": [
      "김코 30 A\n"
     ]
    }
   ],
   "execution_count": 25
  },
  {
   "cell_type": "markdown",
   "metadata": {},
   "source": [
    "---"
   ]
  },
  {
   "cell_type": "markdown",
   "metadata": {
    "id": "ZGDLHI5xL6Bd"
   },
   "source": [
    "[문제6]\n",
    "\n",
    "5번 문제에서 생성한 인스턴스의 이름, 나이, 성별을 출력해주세요.\n",
    "인스턴스 변수에 접근하여 값을 출력하면 됩니다  : )\n",
    "\n",
    "출력 결과  \n",
    "이름 : 김코  \n",
    "나이 : 30  \n",
    "코딩레벨 : A  "
   ]
  },
  {
   "cell_type": "code",
   "metadata": {
    "id": "qCrPejI_L8Wr",
    "ExecuteTime": {
     "end_time": "2024-10-18T04:56:11.114265Z",
     "start_time": "2024-10-18T04:56:11.110236Z"
    }
   },
   "source": [
    "print(f'이름 : {coding.name}')\n",
    "print('나이 : %d'%coding.age)\n",
    "print('코딩레벨 : {0}'.format(coding.level))"
   ],
   "outputs": [
    {
     "name": "stdout",
     "output_type": "stream",
     "text": [
      "이름 : 김코\n",
      "나이 : 30\n",
      "코딩레벨 : A\n"
     ]
    }
   ],
   "execution_count": 29
  },
  {
   "cell_type": "markdown",
   "metadata": {},
   "source": [
    "---"
   ]
  },
  {
   "cell_type": "markdown",
   "metadata": {
    "id": "RmtPk-A1L8z4"
   },
   "source": [
    "[뮨제7]\n",
    "\n",
    "오즈 (oz) 클래스에서 이름, 나이, 성별을 출력하는 who() 메소드를 추가하고 who()메소드를 이용해 아래 출력 결과를 만들어주세요\n",
    "\n",
    "\n",
    "출력 결과 : 이름: 김코, 나이: 30, 코딩레벨: A"
   ]
  },
  {
   "cell_type": "code",
   "metadata": {
    "id": "fvrvm87vL_HZ",
    "ExecuteTime": {
     "end_time": "2024-10-18T05:02:43.444278Z",
     "start_time": "2024-10-18T05:02:43.439371Z"
    }
   },
   "source": [
    "class OZ():\n",
    "    def who(self, name, age, level):\n",
    "        self.name = name\n",
    "        self.age = age\n",
    "        self.level = level\n",
    "        print('이름:{0}, 나이:{1}, 코딩레벨:{2}'.format(name, age, level))\n",
    "\n",
    "coding = OZ()\n",
    "coding.who(\"김코\", 30, \"A\")"
   ],
   "outputs": [
    {
     "name": "stdout",
     "output_type": "stream",
     "text": [
      "이름:김코, 나이:30, 코딩레벨:A\n"
     ]
    }
   ],
   "execution_count": 31
  },
  {
   "cell_type": "markdown",
   "metadata": {},
   "source": [
    "#### 리팩토링 과제\n",
    "\n",
    "Day4에서 만든 \"붕어빵 자동 판매 시스템\"은 절차적 코드로 구현되어있습니다.\n",
    "\n",
    "Day5에서 배운 함수, 클래스 개념을 적용시켜 객체지향적으로 리팩토링을 진행해주세요\n"
   ]
  },
  {
   "cell_type": "markdown",
   "metadata": {},
   "source": [
    "과제_1: BungeoppangShop 클래스 만들기\n",
    "\n",
    "- __init__: 초기 재고, 가격, 판매량을 설정합니다.\n",
    "- check_stock: 현재 재고를 출력합니다.\n",
    "- process_order: 주문을 처리하고 재고를 업데이트합니다.\n",
    "- admin_mode: 관리자 모드에서 재고를 추가합니다.\n",
    "- calculate_total_sales: 총 매출을 계산하고 출력합니다."
   ]
  },
  {
   "cell_type": "code",
   "execution_count": null,
   "metadata": {},
   "outputs": [],
   "source": [
    "# 리팩토링 과제 힌트\n",
    "# 구조는 아래와 같습니다.\n",
    "class BungeoppangShop:\n",
    "    def __init__(self):\n",
    "\n",
    "    def check_stock(self):\n",
    "\n",
    "    def process_order(self, bread_type, bread_count):\n",
    "\n",
    "    def admin_mode(self):\n",
    "\n",
    "    def calculate_total_sales(self):\n",
    "\n",
    "def main():\n",
    "\n",
    "if __name__ == \"__main__\":\n",
    "    main()"
   ]
  },
  {
   "cell_type": "markdown",
   "metadata": {},
   "source": [
    "[과제 2: 초기화 메서드 __init__]\n",
    "\n",
    "목표: __init__ 메서드를 구현하여 붕어빵 가게의 초기 재고, 가격, 판매량을 설정합니다.\n",
    "\n",
    "설명: self.stock, self.prices, self.sales 딕셔너리를 초기화하세요.\n",
    "- stock \n",
    "    - \"팥붕어빵\": 10\n",
    "    - \"슈크림붕어빵\": 8\n",
    "    - \"초코붕어빵\": 5\n",
    "\n",
    "- prices\n",
    "    - \"팥붕어빵\": 1000\n",
    "    - \"슈크림붕어빵\": 1200\n",
    "    - \"초코붕어빵\": 1500\n",
    "\n",
    "- sales\n",
    "    - \"팥붕어빵\": 0,\n",
    "    - \"슈크림붕어빵\": 0,\n",
    "    - \"초코붕어빵\": 0"
   ]
  },
  {
   "cell_type": "code",
   "metadata": {
    "ExecuteTime": {
     "end_time": "2024-10-18T07:00:17.875798Z",
     "start_time": "2024-10-18T07:00:17.871472Z"
    }
   },
   "source": [
    "stock = { \"팥붕어빵\": 10, \"슈크림붕어빵\": 8, \"초코붕어빵\": 5 } # 재고\n",
    "prices = { \"팥붕어빵\": 1000, \"슈크림붕어빵\": 1200, \"초코붕어빵\": 1500 } # 가격\n",
    "sales = { \"팥붕어빵\": 0, \"슈크림붕어빵\": 0, \"초코붕어빵\": 0 } # 판매량\n",
    "\n",
    "class BungeoppangShop:\n",
    "    def __init__(self, stock, prices, sales): # 생성자, stock(초기 재고), prices, slaes를 초기화 하는 역할\n",
    "        self.stock = stock\n",
    "        self.prices = prices\n",
    "        self.sales = sales\n",
    "\n",
    "ppang = BungeoppangShop(stock, prices, sales)\n",
    "print(ppang.stock)\n",
    "print(ppang.prices)\n",
    "print(ppang.sales)"
   ],
   "outputs": [
    {
     "name": "stdout",
     "output_type": "stream",
     "text": [
      "{'팥붕어빵': 10, '슈크림붕어빵': 8, '초코붕어빵': 5}\n",
      "{'팥붕어빵': 1000, '슈크림붕어빵': 1200, '초코붕어빵': 1500}\n",
      "{'팥붕어빵': 0, '슈크림붕어빵': 0, '초코붕어빵': 0}\n"
     ]
    }
   ],
   "execution_count": 84
  },
  {
   "cell_type": "markdown",
   "metadata": {},
   "source": [
    "[과제 3: 재고 확인 메서드 check_stock]\n",
    "\n",
    "목표: check_stock 함수를 구현하여 현재 붕어빵 재고를 출력합니다.\n",
    "\n",
    "설명: self.stock 딕셔너리를 순회하며 각 붕어빵의 종류와 재고를 출력하세요.\n"
   ]
  },
  {
   "cell_type": "code",
   "metadata": {
    "ExecuteTime": {
     "end_time": "2024-10-18T05:42:28.411956Z",
     "start_time": "2024-10-18T05:42:28.407335Z"
    }
   },
   "source": [
    "class BungeoppangShop:\n",
    "    def __init__(self, stock, prices, sales): # 생성자, stock(초기 재고), prices, slaes를 초기화 하는 역할\n",
    "        self.stock = stock\n",
    "        self.prices = prices\n",
    "        self.sales = sales\n",
    "        \n",
    "    def check_stock(self): # 현재 붕어빵 재고 출력\n",
    "        for i in self.stock:\n",
    "            print(f'{i} {stock[i]}개')\n",
    "            \n",
    "ppang = BungeoppangShop(stock, prices, sales)\n",
    "ppang.check_stock()\n",
    "        "
   ],
   "outputs": [
    {
     "name": "stdout",
     "output_type": "stream",
     "text": [
      "팥붕어빵 10개\n",
      "슈크림붕어빵 8개\n",
      "초코붕어빵 5개\n"
     ]
    }
   ],
   "execution_count": 45
  },
  {
   "cell_type": "markdown",
   "metadata": {},
   "source": [
    "[과제 4: 주문 처리 메서드 process_order]\n",
    "\n",
    "목표: process_order 함수를 구현하여 손님의 주문을 처리하고 재고를 업데이트합니다.\n",
    "\n",
    "설명: bread_type과 bread_count를 매개변수로 받아, 재고를 확인하고 충분한 경우 재고를 감소시키고 판매량을 증가시킵니다. 재고가 부족하거나 잘못된 붕어빵 종류인 경우 적절한 메시지를 출력하세요."
   ]
  },
  {
   "cell_type": "code",
   "metadata": {
    "ExecuteTime": {
     "end_time": "2024-10-18T06:16:28.020353Z",
     "start_time": "2024-10-18T06:16:23.329230Z"
    }
   },
   "source": [
    "class BungeoppangShop:\n",
    "    def __init__(self, stock, prices, sales): # 생성자, stock(초기 재고), prices, slaes를 초기화 하는 역할\n",
    "        self.stock = stock\n",
    "        self.prices = prices\n",
    "        self.sales = sales\n",
    "        \n",
    "    def check_stock(self): # 현재 붕어빵 재고 출력\n",
    "        for i in self.stock:\n",
    "            print(f'{i} {stock[i]}개')\n",
    "            \n",
    "    def process_order(self, bread_type, bread_count):\n",
    "        self.bread_type = bread_type\n",
    "        self.bread_count = bread_count\n",
    "        \n",
    "        if not self.bread_type in self.stock.keys(): # 메뉴가 있으면 not True - > elif문으로 이동\n",
    "            print(\"메뉴가 없습니다.\") # 메뉴가 있는지 가장 먼저 검사하고 싶어서 not 사용\n",
    "            \n",
    "        elif self.stock[self.bread_type] >= self.bread_count: # 주문한 개수가 재고 개수 이하일 때\n",
    "                self.stock[self.bread_type] -= self.bread_count # 재고 개수 주문한 개수만큼 감소\n",
    "                self.sales[self.bread_type] += self.bread_count # 판매량 주문한 개수만큼 증가\n",
    "                print(f'{self.bread_type}이 {self.bread_count}개 판매되었습니다.')\n",
    "                \n",
    "        elif self.stock[self.bread_type] < self.bread_count: # 주문한 개수가 재고 개수 초과일 때\n",
    "                print(\"재고가 모자랍니다.\")\n",
    "        \n",
    "        print(f'총 판매량 : {sales}')\n",
    "\n",
    "        \n",
    "ppang = BungeoppangShop(stock, prices, sales) # 객체 생성\n",
    "ppang.process_order(input(\"메뉴를 입력해주세요(메뉴판 | 팥붕어빵, 슈크림붕어빵, 초코붕어빵\"), int(input(\"메뉴 개수를 입력해주세요\"))) # 메뉴와 개수 입력\n",
    "ppang.check_stock() # 현재 재고 확인"
   ],
   "outputs": [
    {
     "name": "stdout",
     "output_type": "stream",
     "text": [
      "팥붕어빵이 1개 판매되었습니다.\n",
      "총 판매량 : {'팥붕어빵': 2, '슈크림붕어빵': 0, '초코붕어빵': 0}\n",
      "팥붕어빵 8개\n",
      "슈크림붕어빵 8개\n",
      "초코붕어빵 5개\n"
     ]
    }
   ],
   "execution_count": 62
  },
  {
   "cell_type": "markdown",
   "metadata": {},
   "source": [
    "[과제 5: 관리자 모드 메서드 admin_mode]\n",
    "\n",
    "목표: admin_mode 메서드를 구현하여 관리자 모드에서 재고를 추가할 수 있도록 합니다.\n",
    "\n",
    "설명: bread_type과 additional_stock을 입력받아 재고를 추가합니다. 잘못된 입력 값이 들어온 경우 적절한 메시지를 출력하세요."
   ]
  },
  {
   "cell_type": "code",
   "metadata": {
    "ExecuteTime": {
     "end_time": "2024-10-18T06:46:38.786Z",
     "start_time": "2024-10-18T06:46:34.963884Z"
    }
   },
   "source": [
    "class BungeoppangShop:\n",
    "    def __init__(self, stock, prices, sales): # 생성자, stock(초기 재고), prices, slaes를 초기화 하는 역할\n",
    "        self.stock = stock\n",
    "        self.prices = prices\n",
    "        self.sales = sales\n",
    "        \n",
    "    def check_stock(self): # 현재 붕어빵 재고 출력\n",
    "        for i in self.stock:\n",
    "            print(f'{i} {stock[i]}개')\n",
    "            \n",
    "    def process_order(self, bread_type, bread_count):\n",
    "        self.bread_type = bread_type\n",
    "        self.bread_count = bread_count\n",
    "        \n",
    "        if not self.bread_type in self.stock.keys(): # 메뉴가 있으면 not True - > elif문으로 이동\n",
    "            print(\"메뉴가 없습니다.\") # 메뉴가 있는지 가장 먼저 검사하고 싶어서 not 사용\n",
    "            \n",
    "        elif self.stock[self.bread_type] >= self.bread_count: # 주문한 개수가 재고 개수 이하일 때\n",
    "                self.stock[self.bread_type] -= self.bread_count # 재고 개수 주문한 개수만큼 감소\n",
    "                self.sales[self.bread_type] += self.bread_count # 판매량 주문한 개수만큼 증가\n",
    "                print(f'{self.bread_type}이 {self.bread_count}개 판매되었습니다.')\n",
    "                \n",
    "        elif self.stock[self.bread_type] < self.bread_count: # 주문한 개수가 재고 개수 초과일 때\n",
    "                print(\"재고가 모자랍니다.\")\n",
    "        \n",
    "        print(f'총 판매량 : {sales}')\n",
    "        \n",
    "    def admin_mode(self, bread_type, additional_stock): # 붕어빵 추가하는 관리자 모드\n",
    "        self.bread_type = bread_type\n",
    "        self.additional_stock = additional_stock\n",
    "        \n",
    "        try: # 붕어빵 입력 시 에러 예외 처리\n",
    "            self.stock[bread_type] += int(self.additional_stock)\n",
    "        except ValueError:\n",
    "            print(\"잘못된 입력입니다.\\n숫자로 적어주세요.\")\n",
    "        except KeyError:\n",
    "            print(\"없는 메뉴입니다.\")\n",
    "        else:\n",
    "            print(f'{self.bread_type}이 {self.additional_stock}만큼 증가했습니다.')\n",
    "\n",
    "        print(f'현재 잔고 : {stock}')\n",
    "ppang = BungeoppangShop(stock, prices, sales)\n",
    "ppang.admin_mode(input(\"메뉴를 입력해주세요(메뉴판 | 팥붕어빵, 슈크림붕어빵, 초코붕어빵\"), input(\"추가 개수를 입력해주세요\"))"
   ],
   "outputs": [
    {
     "name": "stdout",
     "output_type": "stream",
     "text": [
      "없는 메뉴입니다.\n",
      "현재 잔고 : {'팥붕어빵': 16, '슈크림붕어빵': 8, '초코붕어빵': 10}\n"
     ]
    }
   ],
   "execution_count": 75
  },
  {
   "cell_type": "markdown",
   "metadata": {},
   "source": [
    "\n",
    "[과제 6: 매출 계산 메서드 calculate_total_sales]\n",
    "\n",
    "목표: calculate_total_sales 메서드를 구현하여 총 매출을 계산하고 출력합니다.\n",
    "\n",
    "설명: self.sales와 self.prices를 사용하여 총 매출을 계산하고 출력하세요."
   ]
  },
  {
   "cell_type": "code",
   "metadata": {
    "ExecuteTime": {
     "end_time": "2024-10-18T07:00:30.200645Z",
     "start_time": "2024-10-18T07:00:24.435534Z"
    }
   },
   "source": [
    "class BungeoppangShop:\n",
    "    def __init__(self, stock, prices, sales): # 생성자, stock(초기 재고), prices, slaes를 초기화 하는 역할\n",
    "        self.stock = stock\n",
    "        self.prices = prices\n",
    "        self.sales = sales\n",
    "        \n",
    "    def check_stock(self): # 현재 붕어빵 재고 출력\n",
    "        for i in self.stock:\n",
    "            print(f'{i} {stock[i]}개')\n",
    "            \n",
    "    def process_order(self, bread_type, bread_count):\n",
    "        self.bread_type = bread_type\n",
    "        self.bread_count = int(bread_count)\n",
    "        \n",
    "        if not self.bread_type in self.stock.keys(): # 메뉴가 있으면 not True - > elif문으로 이동\n",
    "            print(\"메뉴가 없습니다.\") # 메뉴가 있는지 가장 먼저 검사하고 싶어서 not 사용\n",
    "            \n",
    "        elif self.stock[self.bread_type] >= self.bread_count: # 주문한 개수가 재고 개수 이하일 때\n",
    "                self.stock[self.bread_type] -= self.bread_count # 재고 개수 주문한 개수만큼 감소\n",
    "                self.sales[self.bread_type] += self.bread_count # 판매량 주문한 개수만큼 증가\n",
    "                print(f'{self.bread_type}이 {self.bread_count}개 판매되었습니다.')\n",
    "                \n",
    "        elif self.stock[self.bread_type] < self.bread_count: # 주문한 개수가 재고 개수 초과일 때\n",
    "                print(\"재고가 모자랍니다.\")\n",
    "        \n",
    "        print(f'총 판매량 : {sales}')\n",
    "        \n",
    "    def admin_mode(self, bread_type, additional_stock): # 붕어빵 추가하는 관리자 모드\n",
    "        self.bread_type = bread_type\n",
    "        self.additional_stock = additional_stock\n",
    "        \n",
    "        try: # 붕어빵 입력 시 에러 예외 처리\n",
    "            self.stock[bread_type] += int(self.additional_stock)\n",
    "        except ValueError:\n",
    "            print(\"잘못된 입력입니다.\\n숫자로 적어주세요.\")\n",
    "        except KeyError:\n",
    "            print(\"없는 메뉴입니다.\")\n",
    "        else:\n",
    "            print(f'{self.bread_type}이 {self.additional_stock}만큼 증가했습니다.')\n",
    "\n",
    "        print(f'현재 잔고 : {stock}')\n",
    "        \n",
    "    def calculate_total_sales(self):\n",
    "        total_sales = 0\n",
    "        for i in prices:\n",
    "            total_sales += self.sales[i] * prices[i]\n",
    "        print(f'총 매출은 : {total_sales}원 입니다.')\n",
    "        \n",
    "ppang = BungeoppangShop(stock, prices, sales)\n",
    "ppang.process_order(input(\"메뉴를 입력해주세요(메뉴판 | 팥붕어빵, 슈크림붕어빵, 초코붕어빵\"), input(\"메뉴 개수를 입력해주세요\")) # 메뉴와 개수 입력\n",
    "ppang.calculate_total_sales()\n",
    "ppang.check_stock()"
   ],
   "outputs": [
    {
     "name": "stdout",
     "output_type": "stream",
     "text": [
      "팥붕어빵이 2개 판매되었습니다.\n",
      "총 판매량 : {'팥붕어빵': 2, '슈크림붕어빵': 0, '초코붕어빵': 0}\n",
      "총 매출은 : 2000원 입니다.\n",
      "팥붕어빵 8개\n",
      "슈크림붕어빵 8개\n",
      "초코붕어빵 5개\n"
     ]
    }
   ],
   "execution_count": 85
  },
  {
   "cell_type": "markdown",
   "metadata": {},
   "source": [
    "[과제 8: 메인 함수 main]\n",
    "\n",
    "목표: main 함수를 작성하여 프로그램의 주요 로직을 실행합니다.\n",
    "\n",
    "설명:\n",
    "- BungeoppangShop 객체를 생성합니다.\n",
    "- 사용자에게 모드를 선택하도록 요청합니다.\n",
    "- \"주문\" 모드에서는 손님의 주문을 처리하고, \"관리자\" 모드에서는 재고를 추가할 수 있습니다.\n",
    "- 프로그램이 종료될 때 총 매출을 계산하고 데이터를 저장합니다.\n"
   ]
  },
  {
   "metadata": {
    "ExecuteTime": {
     "end_time": "2024-10-18T08:07:38.292757Z",
     "start_time": "2024-10-18T08:07:38.288795Z"
    }
   },
   "cell_type": "code",
   "source": [
    "#데이터 초기화용 코드\n",
    "stock = { \"팥붕어빵\": 10, \"슈크림붕어빵\": 8, \"초코붕어빵\": 5 } # 재고\n",
    "prices = { \"팥붕어빵\": 1000, \"슈크림붕어빵\": 1200, \"초코붕어빵\": 1500 } # 가격\n",
    "sales = { \"팥붕어빵\": 0, \"슈크림붕어빵\": 0, \"초코붕어빵\": 0 } # 판매량"
   ],
   "outputs": [],
   "execution_count": 138
  },
  {
   "cell_type": "code",
   "metadata": {
    "ExecuteTime": {
     "end_time": "2024-10-18T08:09:52.525893Z",
     "start_time": "2024-10-18T08:07:42.368254Z"
    }
   },
   "source": [
    "# 최종 수정본\n",
    "class BungeoppangShop:\n",
    "    def __init__(self, stock, prices, sales): # 생성자, stock(초기 재고), prices, sales를 초기화 하는 역할\n",
    "        self.stock = stock\n",
    "        self.prices = prices\n",
    "        self.sales = sales\n",
    "    \n",
    "    def menu_list(self): # 메뉴판\n",
    "        print(f'----------\\n메뉴판\\n{self.prices}')\n",
    "        \n",
    "    def check_stock(self): # 현재 붕어빵 재고 출력\n",
    "        print(\"----------\\n현재 재고\")\n",
    "        for i in self.stock:\n",
    "            print(f'{i} {stock[i]}개')\n",
    "        \n",
    "    def process_order(self, bread_type, bread_count): # 주문\n",
    "        try:\n",
    "            self.bread_type = bread_type\n",
    "            self.bread_count = int(bread_count)\n",
    "        except ValueError:\n",
    "            print(\"잘못된 입력입니다. 숫자로 적어주세요.\")\n",
    "        except KeyError:\n",
    "            print(\"없는 메뉴입니다.\")\n",
    "        \n",
    "        if not self.bread_type in self.stock.keys(): # 메뉴가 있으면 not True - > elif문으로 이동\n",
    "            print(\"메뉴가 없습니다.\") # 메뉴가 있는지 가장 먼저 검사하고 싶어서 not 사용\n",
    "            \n",
    "        elif self.stock[self.bread_type] >= self.bread_count: # 주문한 개수가 재고 개수 이하일 때\n",
    "                self.stock[self.bread_type] -= self.bread_count # 재고 개수 주문한 개수만큼 감소\n",
    "                self.sales[self.bread_type] += self.bread_count # 판매량 주문한 개수만큼 증가\n",
    "                print(f'----------\\n판매완료\\n{self.bread_type}이 {self.bread_count}개 판매되었습니다.')\n",
    "                print(f'----------\\n총 판매량\\n{sales}')\n",
    "                \n",
    "        elif self.stock[self.bread_type] < self.bread_count: # 주문한 개수가 재고 개수 초과일 때\n",
    "                print(\"재고가 모자랍니다.\")      \n",
    "        \n",
    "    def admin_mode(self, bread_type, additional_stock): # 붕어빵 추가하는 관리자 모드\n",
    "        self.bread_type = bread_type\n",
    "        self.additional_stock = additional_stock\n",
    "        \n",
    "        try: # 붕어빵 입력 시 에러 예외 처리\n",
    "            self.stock[bread_type] += int(self.additional_stock)\n",
    "        except ValueError:\n",
    "            print(\"잘못된 입력입니다. 숫자로 적어주세요.\")\n",
    "        except KeyError:\n",
    "            print(\"없는 메뉴입니다.\")\n",
    "        else:\n",
    "            print(f'----------\\n재고주문\\n{self.bread_type}이 {self.additional_stock}만큼 증가했습니다.')\n",
    "\n",
    "        self.check_stock()\n",
    "        \n",
    "    def calculate_total_sales(self): # 총 매출을 계산하는 함수\n",
    "        total_sales = 0\n",
    "        for i in prices:\n",
    "            total_sales += self.sales[i] * prices[i]\n",
    "        print(f'----------\\n총 매출\\n{total_sales}원 입니다.')\n",
    "        \n",
    "        \n",
    "def main():\n",
    "    ppang = BungeoppangShop(stock, prices, sales)\n",
    "    \n",
    "    while True:\n",
    "        check_mode = [\"메뉴\", \"주문\", \"관리자\", \"종료\"] # 잘못된 모드 필터\n",
    "        mode = input(\"모드|메뉴, 주문, 관리자, 종료|\")\n",
    "        \n",
    "        if not mode in check_mode:\n",
    "            print(\"\\n잘못된 모드입니다.\")\n",
    "        \n",
    "        else:\n",
    "            \n",
    "            if mode == \"종료\":\n",
    "                ppang.calculate_total_sales()\n",
    "                print(\"\\n시스템이 종료됩니다.\")\n",
    "                break\n",
    "            \n",
    "            if mode == \"메뉴\":\n",
    "                ppang.menu_list()\n",
    "               \n",
    "            if mode == \"주문\":\n",
    "                ppang.process_order(input(\"메뉴를 입력해주세요(메뉴판|팥붕어빵, 슈크림붕어빵, 초코붕어빵|\"), input(\"메뉴 개수를 입력해주세요\"))\n",
    "                \n",
    "            if mode == \"관리자\":\n",
    "                admin = input(\"관리자 모드|재고추가, 재고확인|\")\n",
    "                if admin == \"재고추가\":\n",
    "                    ppang.admin_mode(input(\"추가할 재고 메뉴를 입력해주세요|팥붕어빵, 슈크림붕어빵, 초코붕어빵|\"), input(\"얼마나 추가할지 입력해주세요\"))\n",
    "                \n",
    "                if admin == \"재고확인\":\n",
    "                    ppang.check_stock()\n",
    "                \n",
    "if __name__ == \"__main__\":\n",
    "    main()"
   ],
   "outputs": [
    {
     "name": "stdout",
     "output_type": "stream",
     "text": [
      "----------\n",
      "메뉴판\n",
      "{'팥붕어빵': 1000, '슈크림붕어빵': 1200, '초코붕어빵': 1500}\n",
      "----------\n",
      "재고주문\n",
      "팥붕어빵이 5만큼 증가했습니다.\n",
      "----------\n",
      "현재 재고\n",
      "팥붕어빵 15개\n",
      "슈크림붕어빵 8개\n",
      "초코붕어빵 5개\n",
      "----------\n",
      "판매완료\n",
      "팥붕어빵이 10개 판매되었습니다.\n",
      "----------\n",
      "총 판매량\n",
      "{'팥붕어빵': 10, '슈크림붕어빵': 0, '초코붕어빵': 0}\n",
      "----------\n",
      "현재 재고\n",
      "팥붕어빵 5개\n",
      "슈크림붕어빵 8개\n",
      "초코붕어빵 5개\n",
      "\n",
      "잘못된 모드입니다.\n",
      "메뉴가 없습니다.\n",
      "재고가 모자랍니다.\n",
      "----------\n",
      "총 매출\n",
      "10000원 입니다.\n",
      "\n",
      "시스템이 종료됩니다.\n"
     ]
    }
   ],
   "execution_count": 139
  }
 ],
 "metadata": {
  "colab": {
   "authorship_tag": "ABX9TyMfxSNOybrh/E7+DQqfYMY3",
   "provenance": []
  },
  "kernelspec": {
   "display_name": "Python 3 (ipykernel)",
   "name": "python3",
   "language": "python"
  },
  "language_info": {
   "codemirror_mode": {
    "name": "ipython",
    "version": 3
   },
   "file_extension": ".py",
   "mimetype": "text/x-python",
   "name": "python",
   "nbconvert_exporter": "python",
   "pygments_lexer": "ipython3",
   "version": "3.11.7"
  }
 },
 "nbformat": 4,
 "nbformat_minor": 0
}
