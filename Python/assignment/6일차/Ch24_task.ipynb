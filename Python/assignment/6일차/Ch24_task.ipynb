{
 "cells": [
  {
   "cell_type": "markdown",
   "metadata": {},
   "source": [
    "사용자의 이름, 나이, 성별을 출력하는 함수 print_info를 작성하세요. 이 때, 모든 매개변수는 키워드 매개변수로만 받도록 하세요."
   ]
  },
  {
   "metadata": {
    "ExecuteTime": {
     "end_time": "2024-10-21T09:28:14.843987Z",
     "start_time": "2024-10-21T09:28:14.839184Z"
    }
   },
   "cell_type": "code",
   "source": [
    "def print_info(name = None, age = None, gender = None):\n",
    "    print(f'이름:{name},나이:{age}살,성별:{gender}')\n",
    "    \n",
    "print_info(name='홍길동', age=999, gender='남자')\n",
    " \n",
    "# def print_info(**kwargs):\n",
    "#     for key, value in kwargs.items():\n",
    "#         print(f\"{key}: {value}\")\n",
    "# \n",
    "# # 사용 예시\n",
    "# print_info(name=\"은지\", age=30, gender=\"여성\")"
   ],
   "outputs": [
    {
     "name": "stdout",
     "output_type": "stream",
     "text": [
      "이름:홍길동,나이:999살,성별:남자\n"
     ]
    }
   ],
   "execution_count": 2
  },
  {
   "cell_type": "markdown",
   "metadata": {},
   "source": []
  }
 ],
 "metadata": {
  "language_info": {
   "name": "python"
  },
  "kernelspec": {
   "name": "python3",
   "language": "python",
   "display_name": "Python 3 (ipykernel)"
  }
 },
 "nbformat": 4,
 "nbformat_minor": 2
}
