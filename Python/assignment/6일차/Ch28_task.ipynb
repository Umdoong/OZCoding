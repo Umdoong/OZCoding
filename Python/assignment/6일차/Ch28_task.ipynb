{
 "cells": [
  {
   "cell_type": "markdown",
   "metadata": {},
   "source": [
    "사용자로부터 3개의 숫자를 입력받아, 이를 튜플로 만든 후 최소값과 최대값을 출력하는 함수 min_max를 작성하세요."
   ]
  },
  {
   "metadata": {
    "ExecuteTime": {
     "end_time": "2024-10-21T12:46:41.879513Z",
     "start_time": "2024-10-21T12:46:41.875241Z"
    }
   },
   "cell_type": "code",
   "source": [
    "def min_max(i, j, k):\n",
    "    num = (i, j, k)\n",
    "    print(type(num))\n",
    "    print(min(num))\n",
    "    print(max(num))\n",
    "    \n",
    "min_max(1,5,10)"
   ],
   "outputs": [
    {
     "name": "stdout",
     "output_type": "stream",
     "text": [
      "<class 'tuple'>\n",
      "1\n",
      "10\n"
     ]
    }
   ],
   "execution_count": 1
  },
  {
   "cell_type": "markdown",
   "metadata": {},
   "source": ""
  }
 ],
 "metadata": {
  "language_info": {
   "name": "python"
  },
  "kernelspec": {
   "name": "python3",
   "language": "python",
   "display_name": "Python 3 (ipykernel)"
  }
 },
 "nbformat": 4,
 "nbformat_minor": 2
}
