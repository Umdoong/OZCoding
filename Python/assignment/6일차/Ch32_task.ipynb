{
 "cells": [
  {
   "cell_type": "markdown",
   "metadata": {},
   "source": [
    "두 문자열을 받아서 긴 문자열을 반환하는 함수 longer_string을 작성하세요. 만약 두 문자열의 길이가 같다면, 첫 번째 문자열을 반환하세요."
   ]
  },
  {
   "metadata": {
    "ExecuteTime": {
     "end_time": "2024-10-21T12:33:27.215304Z",
     "start_time": "2024-10-21T12:33:27.210239Z"
    }
   },
   "cell_type": "code",
   "source": [
    "def longer_string(str1, str2):\n",
    "    if len(str1) > len(str2):\n",
    "        return str1\n",
    "    if len(str1) < len(str2):\n",
    "        return str2\n",
    "    if len(str1) == len(str2):\n",
    "        return str1\n",
    "    \n",
    "print(longer_string(\"123\", \"1234\"))\n",
    "print(longer_string(\"일이삼사\", \"일이삼\"))\n",
    "print(longer_string(\"123\", \"일이삼\"))"
   ],
   "outputs": [
    {
     "name": "stdout",
     "output_type": "stream",
     "text": [
      "1234\n",
      "일이삼사\n",
      "123\n"
     ]
    }
   ],
   "execution_count": 3
  },
  {
   "cell_type": "markdown",
   "metadata": {},
   "source": []
  }
 ],
 "metadata": {
  "language_info": {
   "name": "python"
  },
  "kernelspec": {
   "name": "python3",
   "language": "python",
   "display_name": "Python 3 (ipykernel)"
  }
 },
 "nbformat": 4,
 "nbformat_minor": 2
}
