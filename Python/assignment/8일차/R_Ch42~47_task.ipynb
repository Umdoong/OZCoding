{
 "cells": [
  {
   "cell_type": "markdown",
   "metadata": {},
   "source": [
    "## [문제] 1\n",
    "\n",
    "'Person'이라는 클래스를 선언하세요. 이 클래스는 name (이름)과 age (나이) 두 개의 속성을 갖습니다.<br>\n",
    "\n",
    "그리고 'greet'라는 메소드를 갖고 있으며, 이 메소드는 \"안녕하세요, 제 이름은 [name]입니다. \n",
    "\n",
    "나이는 [age]살입니다.\"라는 메시지를 반환합니다.<br>\n",
    "이 클래스를 사용하여 '홍길동'이라는 이름과 20살의 나이를 가진 'Person' 객체를 생성하고, 'greet' 메소드를 호출하여 메시지를 출력하세요."
   ]
  },
  {
   "metadata": {
    "ExecuteTime": {
     "end_time": "2024-10-23T06:04:21.038341Z",
     "start_time": "2024-10-23T06:04:21.034388Z"
    }
   },
   "cell_type": "code",
   "source": [
    "# 정답 입력\n",
    "class Person:\n",
    "    def __init__(self, name, age):\n",
    "        self.__name = name\n",
    "        self.__age = age\n",
    "\n",
    "    def greet(self):\n",
    "        print(f'안녕하세요, 제 이름은 {self.__name}입니다.\\n나이는 {self.__age}살입니다.')\n",
    "\n",
    "person = Person('홍길동', 20)\n",
    "\n",
    "person.greet()"
   ],
   "outputs": [
    {
     "name": "stdout",
     "output_type": "stream",
     "text": [
      "안녕하세요, 제 이름은 홍길동입니다.\n",
      "나이는 20살입니다.\n"
     ]
    }
   ],
   "execution_count": 2
  },
  {
   "cell_type": "markdown",
   "metadata": {},
   "source": []
  },
  {
   "metadata": {},
   "cell_type": "markdown",
   "source": [
    "## [문제] 2\n",
    "\n",
    "'Rectangle' 클래스를 작성하세요. \n",
    "\n",
    "이 클래스는 높이(height)와 너비(width)를 속성으로 가지며, 생성자(__init__)를 통해 이 두 속성을 초기화합니다. \n",
    "\n",
    "'area' 메소드를 추가하여 사각형의 면적을 계산하고 반환하도록 하세요. 높이가 10, 너비가 5인 사각형 객체를 생성하고,<br> \n",
    "이 객체를 사용하여 면적을 계산해 출력하세요."
   ]
  },
  {
   "metadata": {
    "ExecuteTime": {
     "end_time": "2024-10-23T06:09:19.411694Z",
     "start_time": "2024-10-23T06:09:19.406352Z"
    }
   },
   "cell_type": "code",
   "source": [
    "# 정답 입력\n",
    "\n",
    "class Rectangle:\n",
    "    def __init__(self, width, height):\n",
    "        self.__width = width\n",
    "        self.__height = height\n",
    "        \n",
    "    def area(self):\n",
    "        return self.__width * self.__height\n",
    "    \n",
    "rectangle = Rectangle(5, 10)\n",
    "print(rectangle.area())"
   ],
   "outputs": [
    {
     "name": "stdout",
     "output_type": "stream",
     "text": [
      "50\n"
     ]
    }
   ],
   "execution_count": 3
  },
  {
   "metadata": {},
   "cell_type": "markdown",
   "source": [
    "## [문제] 3\n",
    "\n",
    "'Book' 클래스를 선언하세요. \n",
    "\n",
    "이 클래스는 title (제목)과 author (저자) 두 개의 속성을 갖습니다. \n",
    "\n",
    "__str__ 특수 메소드를 오버라이드하여, 객체를 문자열로 변환할 때 \"제목: [title], 저자: [author]\" 형식의 문자열을 반환하도록 하세요. \n",
    "\n",
    "'Book' 객체를 하나 생성하고, print 함수를 사용하여 해당 객체의 문자열 표현을 출력하세요."
   ]
  },
  {
   "metadata": {
    "ExecuteTime": {
     "end_time": "2024-10-23T06:13:10.063224Z",
     "start_time": "2024-10-23T06:13:10.058228Z"
    }
   },
   "cell_type": "code",
   "source": [
    "# 정답 입력\n",
    "\n",
    "class Book:\n",
    "    def __init__(self, title, author):\n",
    "        self.__title = title\n",
    "        self.__author = author\n",
    "        \n",
    "    def __str__(self):\n",
    "        return f'제목: [{self.__title}], 저자: [{self.__author}]'\n",
    "    \n",
    "book = Book('소년이 온다', '한강')\n",
    "\n",
    "print(str(book))"
   ],
   "outputs": [
    {
     "name": "stdout",
     "output_type": "stream",
     "text": [
      "제목: [소년이 온다], 저자: [한강]\n"
     ]
    }
   ],
   "execution_count": 4
  },
  {
   "metadata": {},
   "cell_type": "markdown",
   "source": [
    "## [문제] 4\n",
    "\n",
    "'Employee' 클래스를 선언하세요. \n",
    "\n",
    "이 클래스는 월급인상률을 의미하는 클래스 변수로 'raise_amount'를 갖고 있으며, 기본값은 1.04입니다. 다음 급여는 기본 급여에 월급인상률을 곱한 값으로 결정합니다.\n",
    "\n",
    "또한, 각 직원의 이름(name)과 급여(salary)를 속성으로 가지며, 'apply_raise' 메소드를 통해 급여에 'raise_amount'를 적용할 수 있어야 합니다.\n",
    "\n",
    "'Employee' 클래스의 객체 두 개를 생성하고, 한 객체에만 'raise_amount'를 변경한 후, 두 객체의 급여를 증가시켜보세요.<br>\n",
    "그리고 각 객체의 새로운 급여를 출력하세요."
   ]
  },
  {
   "metadata": {
    "ExecuteTime": {
     "end_time": "2024-10-23T08:03:08.720497Z",
     "start_time": "2024-10-23T08:03:08.716155Z"
    }
   },
   "cell_type": "code",
   "source": [
    "# 정답 입력\n",
    "\n",
    "class Employee: # 클래스 선언\n",
    "    raise_amount = 1.04 # 클래스 변수 기본값 1.04\n",
    "    \n",
    "    def __init__(self, name: str, salary: int): # 각 직원의 이름과 급여를 속성으로 가짐, 타입 어노테이션으로 힌트 줌\n",
    "        if isinstance(name, str) and isinstance(salary, int): # 타입에 맞게 들어왔는지 검사, isinstance로 객체가 클래스 기반인지 확인하여 타입을 검사\n",
    "            self.__name = name\n",
    "            self.__salary = salary\n",
    "    \n",
    "    def apply_raise(self): # apply_raise 메소드를 통해 급여에 raise_amount를 적용할 수 있어야함\n",
    "        return self.__salary * self.raise_amount\n",
    "    \n",
    "회사원A = Employee('철수', 300) # Employee 클래스의 객체 두 개를 생성하고\n",
    "회사원B = Employee('민수', 500)\n",
    "\n",
    "회사원A.raise_amount = 2 # 한 객체에만 raise_amount를 변경한 후\n",
    "\n",
    "# 두 객체의 급여를 증가 후 새로운 급여 출력\n",
    "print(회사원A.apply_raise()) # 월급이 2배나 오르다니...어디 회사야!!\n",
    "print(회사원B.apply_raise())\n",
    "    "
   ],
   "outputs": [
    {
     "name": "stdout",
     "output_type": "stream",
     "text": [
      "600\n",
      "520.0\n"
     ]
    }
   ],
   "execution_count": 58
  },
  {
   "metadata": {},
   "cell_type": "markdown",
   "source": [
    "## [문제] 5\n",
    "\n",
    "'Account' 클래스를 작성하세요. \n",
    "\n",
    "이 클래스는 소유자(owner)와 잔액(balance)을 속성으로 가지며, 잔액은 프라이빗 변수로 선언합니다. \n",
    "\n",
    "'deposit'와 'withdraw' 두 개의 메소드를 통해 잔액을 조작할 수 있도록 하세요. \n",
    "\n",
    "이 때, 잔액은 음수가 될 수 없도록 체크해야 합니다. 'Account' 객체를 생성하고,<br>\n",
    "입금 및 출금 작업을 시뮬레이션한 후, 최종 잔액을 출력하세요."
   ]
  },
  {
   "metadata": {
    "ExecuteTime": {
     "end_time": "2024-10-23T08:05:25.856864Z",
     "start_time": "2024-10-23T08:05:25.849761Z"
    }
   },
   "cell_type": "code",
   "source": [
    "# 정답 입력\n",
    "class Account:\n",
    "    def __init__(self, owner, balance):\n",
    "        self.__owner = owner # 소유자도 프라이빗으로 할 거지롱\n",
    "        self.__balance = balance\n",
    "        \n",
    "    def deposit(self, money): # 예금을 위한 메소드\n",
    "        if money > 0: # 0원을 예금하게 둘 순 없지!\n",
    "            self.__balance += money\n",
    "            print(f'예금이 완료되었습니다. 잔액은 {self.__balance}원 입니다.')\n",
    "            return self.__balance\n",
    "    \n",
    "    def withdraw(self, money): # 예금을 위한 메소드\n",
    "        try: # 숫자만 들어올 수 있도록 검사\n",
    "            money = int(money)\n",
    "        except:\n",
    "            print('숫자를 입력해주세요')\n",
    "            \n",
    "        if 0 < money <= self.__balance: # 잔액확인\n",
    "            self.__balance -= money\n",
    "            print(f'출금이 완료되었습니다. 잔액은 {self.__balance}원 입니다.')\n",
    "            return self.__balance\n",
    "        else:\n",
    "            self.__balance = self.__balance\n",
    "            print(f'잔액이 모자랍니다. 잔액은 {self.__balance}원 입니다.')\n",
    "            \n",
    "account = Account('김오즈', 1000000) # 잔액 100만원\n",
    "account.deposit(1000000) # 예금 100만원, 잔액 200만원\n",
    "account.withdraw(3000000) # 출금 300만원, 잔액이 모자라서 잔액은 그대로 200만원\n",
    "account.withdraw(2000000) # 출금 200만원, 잔액 0원\n",
    "    "
   ],
   "outputs": [
    {
     "name": "stdout",
     "output_type": "stream",
     "text": [
      "예금이 완료되었습니다. 잔액은 2000000원 입니다.\n",
      "잔액이 모자랍니다. 잔액은 2000000원 입니다.\n",
      "출금이 완료되었습니다. 잔액은 0원 입니다.\n"
     ]
    },
    {
     "data": {
      "text/plain": [
       "0"
      ]
     },
     "execution_count": 61,
     "metadata": {},
     "output_type": "execute_result"
    }
   ],
   "execution_count": 61
  },
  {
   "metadata": {},
   "cell_type": "markdown",
   "source": [
    "## [문제] 6\n",
    "\n",
    "'Vehicle'이라는 기본 클래스를 선언하세요. \n",
    "\n",
    "이 클래스는 make (제조사)와 model (모델명) 두 개의 속성을 갖고, 생성자(__init__)를 통해 이 두 속성을 초기화합니다. 'display_info'라는 메소드를 추가하여, \"이 차량은 [make]에서 제조한 [model]입니다.\"라는 메시지를 반환하도록 하세요.\n",
    "\n",
    "'Truck'과 'Car' 두 개의 하위 클래스를 생성하고, 각 클래스는 'Vehicle' 클래스로부터 상속받습니다. \n",
    "\n",
    "'Truck' 클래스에는 추가로 'payload' (적재량) 속성을, 'Car' 클래스에는 'seats' (좌석 수) 속성을 추가합니다. 각각의 하위 클래스에서 'display_info' 메소드는 기본 클래스의 메소드를 그대로 사용합니다.\n",
    "\n",
    "'Truck'과 'Car' 객체 각각을 생성하고, 'display_info' 메소드를 호출하여 정보를 출력하세요. \n",
    "\n",
    "또한, 각 객체의 추가 속성(적재량, 좌석 수)에 대한 정보도 출력하세요.\n",
    "\n",
    "이 문제는 클래스의 상속 개념을 이해하고, 기본 클래스의 속성과 메소드를 하위 클래스가 어떻게 활용할 수 있는지 보여줍니다. \n",
    "\n",
    "오버라이드는 필요하지 않으며, 각 하위 클래스의 고유한 속성을 추가하는 방법에 초점을 맞춥니다."
   ]
  },
  {
   "metadata": {
    "ExecuteTime": {
     "end_time": "2024-10-23T07:30:33.545246Z",
     "start_time": "2024-10-23T07:30:33.537378Z"
    }
   },
   "cell_type": "code",
   "source": [
    "# 정답 입력\n",
    "class Vehicle:\n",
    "    def __init__(self, make, model): # 제조사와 모델명 두 개의 속성을 갖고 init으로 초기화\n",
    "        self.__make = make\n",
    "        self.__model = model\n",
    "        \n",
    "    def display_info(self):\n",
    "        return f'이 차량은 {self.__make}에서 제조한 {self.__model}입니다'\n",
    "    \n",
    "class Truck(Vehicle):\n",
    "    def __init__(self, make, model, payload): # 적재량 속성\n",
    "        super().__init__(make, model)\n",
    "        self.payload = payload # 프라이빗 변수는 호출이 불가능해서 프라이빗으로 하지 않음\n",
    "        \n",
    "class Car(Vehicle):\n",
    "    def __init__(self, make, model, seats): # 좌석 수\n",
    "        super().__init__(make, model)\n",
    "        self.__seats = seats\n",
    "    \n",
    "    def display_seats(self): # 프라이빗 변수는 호출이 불가능하기 때문에 따로 속성을 출력해주는 메소드를 만들어 주는 방식으로 해봄\n",
    "        return f'좌석 수는 {self.__seats} 입니다.'\n",
    "        \n",
    "truck = Truck('volvo', 'FH16', '100t')\n",
    "print(truck.display_info()) # 자식 클래스로 부모 클래스의 메소드를 쓸 수 있다.\n",
    "print(f'적재량은 : {truck.payload}입니다.') # 속성을 출력하는 연습\n",
    "\n",
    "car = Car('붕붕카', 'MK-1', '1개')\n",
    "print(car.display_info())\n",
    "print(f'좌석 수는 : {car.display_seats()}')# 자식 클래스 자신의 메소드도 쓸 수 있다."
   ],
   "outputs": [
    {
     "name": "stdout",
     "output_type": "stream",
     "text": [
      "이 차량은 volvo에서 제조한 FH16입니다\n",
      "적재량은 : 100t입니다.\n",
      "이 차량은 붕붕카에서 제조한 MK-1입니다\n",
      "좌석 수는 : 좌석 수는 1개 입니다.\n"
     ]
    }
   ],
   "execution_count": 37
  }
 ],
 "metadata": {
  "language_info": {
   "name": "python"
  },
  "kernelspec": {
   "name": "python3",
   "language": "python",
   "display_name": "Python 3 (ipykernel)"
  }
 },
 "nbformat": 4,
 "nbformat_minor": 2
}
