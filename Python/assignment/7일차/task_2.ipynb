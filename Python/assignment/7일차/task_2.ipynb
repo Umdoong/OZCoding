{
 "cells": [
  {
   "cell_type": "markdown",
   "metadata": {},
   "source": [
    "파일을 읽어서 내용을 출력하는 프로그램을 작성하세요. \n",
    "\n",
    "- 파일이 존재하지 않을 때 발생하는 FileNotFoundError를 처리\n",
    "- 파일이 존재하지 않을 경우 \"파일을 찾을 수 없습니다.\"라는 메시지를 출력"
   ]
  },
  {
   "metadata": {
    "ExecuteTime": {
     "end_time": "2024-10-22T05:06:07.808540Z",
     "start_time": "2024-10-22T05:06:07.804852Z"
    }
   },
   "cell_type": "code",
   "source": [
    "try:\n",
    "    f = open('myfile.txt', 'r')\n",
    "    r = f.read()\n",
    "except FileNotFoundError:\n",
    "    print('파일을 찾을 수 없습니다.')\n",
    "else:\n",
    "    print(r)\n",
    "    f.close()"
   ],
   "outputs": [
    {
     "name": "stdout",
     "output_type": "stream",
     "text": [
      "안녕하세요 수강생 여러분!! \n",
      "이 파일을 읽어주시면 됩니다. \n"
     ]
    }
   ],
   "execution_count": 5
  },
  {
   "metadata": {
    "ExecuteTime": {
     "end_time": "2024-10-22T05:06:24.341498Z",
     "start_time": "2024-10-22T05:06:24.338095Z"
    }
   },
   "cell_type": "code",
   "source": [
    "try:\n",
    "    f = open('file.txt', 'r')\n",
    "    r = f.read()\n",
    "except FileNotFoundError:\n",
    "    print('파일을 찾을 수 없습니다.')\n",
    "else:\n",
    "    print(r)\n",
    "    f.close()"
   ],
   "outputs": [
    {
     "name": "stdout",
     "output_type": "stream",
     "text": [
      "파일을 찾을 수 없습니다.\n"
     ]
    }
   ],
   "execution_count": 6
  }
 ],
 "metadata": {
  "language_info": {
   "name": "python"
  },
  "kernelspec": {
   "name": "python3",
   "language": "python",
   "display_name": "Python 3 (ipykernel)"
  }
 },
 "nbformat": 4,
 "nbformat_minor": 2
}
