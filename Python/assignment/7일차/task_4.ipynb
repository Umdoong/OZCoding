{
 "cells": [
  {
   "cell_type": "markdown",
   "metadata": {},
   "source": [
    "사용자 정의 예외 NegativeNumberError를 생성하고, 사용자로부터 숫자를 입력받아 음수일 경우 NegativeNumberError를 발생시키는 프로그램을 작성하세요. \n",
    "\n",
    "- 예외 처리 구문을 사용하여 음수 입력 시 \"양수를 입력해주세요.\"라는 메시지를 출력"
   ]
  },
  {
   "metadata": {
    "ExecuteTime": {
     "end_time": "2024-10-22T05:53:07.372784Z",
     "start_time": "2024-10-22T05:53:06.436204Z"
    }
   },
   "cell_type": "code",
   "source": [
    "class NegativeNumberError(Exception): # 예외 클래스를 상속받아 예외 생성\n",
    "    pass # 내용은 일단 패스\n",
    "\n",
    "try:\n",
    "    num = int(input())\n",
    "    if num < 0:\n",
    "        raise NegativeNumberError\n",
    "except NegativeNumberError:\n",
    "    print('양수를 입력해주세요.')\n",
    "else:\n",
    "    print('양수')\n",
    "    \n",
    "\"\"\"\n",
    "class NegativeNumberError(Exception):\n",
    "    def __init__(self, message) -> None:\n",
    "        self.contact_name = \"NegativeNumberError\"\n",
    "        self.message = message\n",
    "        super().__init__(message)\n",
    "    \n",
    "    def __str__(self) -> str:\n",
    "        return f\"{self.contact_name} : {self.message}\"\n",
    "\n",
    "try:\n",
    "    number = int(input(\"양수를 입력하세요: \"))\n",
    "    if number < 0:\n",
    "        raise NegativeNumberError(\"음수가 입력되었습니다. 양수를 입력해주세요!\")\n",
    "except NegativeNumberError as e:\n",
    "    print(e)\n",
    "\"\"\""
   ],
   "outputs": [
    {
     "name": "stdout",
     "output_type": "stream",
     "text": [
      "양수\n"
     ]
    }
   ],
   "execution_count": 9
  }
 ],
 "metadata": {
  "language_info": {
   "name": "python"
  },
  "kernelspec": {
   "name": "python3",
   "language": "python",
   "display_name": "Python 3 (ipykernel)"
  }
 },
 "nbformat": 4,
 "nbformat_minor": 2
}
