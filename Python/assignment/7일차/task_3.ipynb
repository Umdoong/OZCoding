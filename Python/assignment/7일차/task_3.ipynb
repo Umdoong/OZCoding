{
 "cells": [
  {
   "cell_type": "markdown",
   "metadata": {},
   "source": [
    "사용자로부터 여러 개의 숫자를 입력받아 리스트에 저장한 후, 사용자가 'done'이라고 입력할 때까지 계속 입력받으세요. \n",
    "\n",
    "- 입력 중 숫자가 아닌 값이 입력되면 ValueError를 처리\n",
    "- 숫자 외 값이 입력된 경우 어떤 값이 잘못 입력되었는지 사용자에게 알려주는 문구 출력<br>\n",
    "  (예: f\"잘못된 값: {변수}. 숫자를 입력해주세요.\")\n",
    "\n"
   ]
  },
  {
   "metadata": {
    "ExecuteTime": {
     "end_time": "2024-10-22T05:36:46.285015Z",
     "start_time": "2024-10-22T05:36:38.227638Z"
    }
   },
   "cell_type": "code",
   "source": [
    "n = []\n",
    "while True:\n",
    "\n",
    "    numbers = input().split(',')\n",
    "    if 'done' in numbers:\n",
    "        break\n",
    "        \n",
    "    try:\n",
    "        for number in numbers:\n",
    "            int(number)\n",
    "            n.append(number)\n",
    "    except ValueError as exception:\n",
    "        print(f'잘못된 값 : {exception}, 숫자를 입력해주세요')\n",
    "    else:\n",
    "        print(n)\n",
    "    \n",
    "    "
   ],
   "outputs": [
    {
     "name": "stdout",
     "output_type": "stream",
     "text": [
      "잘못된 값 : invalid literal for int() with base 10: 'asd', 숫자를 입력해주세요\n",
      "잘못된 값 : invalid literal for int() with base 10: '아니', 숫자를 입력해주세요\n"
     ]
    }
   ],
   "execution_count": 28
  },
  {
   "cell_type": "markdown",
   "metadata": {},
   "source": ""
  }
 ],
 "metadata": {
  "language_info": {
   "name": "python"
  },
  "kernelspec": {
   "name": "python3",
   "language": "python",
   "display_name": "Python 3 (ipykernel)"
  }
 },
 "nbformat": 4,
 "nbformat_minor": 2
}
