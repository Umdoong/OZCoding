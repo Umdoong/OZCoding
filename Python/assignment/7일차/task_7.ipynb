{
 "cells": [
  {
   "cell_type": "markdown",
   "metadata": {},
   "source": [
    "함수 실행 시간을 측정하는 데코레이터 timer_decorator를 작성하세요. \n",
    "\n",
    "임의의 함수가 실행되는 시간을 측정하여 \"함수 실행 시간: x.xx초\" 형태로 출력하세요."
   ]
  },
  {
   "metadata": {
    "ExecuteTime": {
     "end_time": "2024-10-22T06:48:08.697173Z",
     "start_time": "2024-10-22T06:48:08.500482Z"
    }
   },
   "cell_type": "code",
   "source": [
    "import time\n",
    "import math\n",
    "\n",
    "def timer_devorator(function):\n",
    "    def wrapper(arg):\n",
    "        start = time.time()\n",
    "        result = function(arg) # 불러온 함수를 재사용 할 수 있게 만들기 위해 result에 담아서 반환\n",
    "        end = time.time()\n",
    "        print(f'{end - start: .5f} sec')\n",
    "        return result\n",
    "    return wrapper\n",
    "\n",
    "@timer_devorator\n",
    "def test(num):\n",
    "    math.factorial(num)\n",
    "\n",
    "test(99999)"
   ],
   "outputs": [
    {
     "name": "stdout",
     "output_type": "stream",
     "text": [
      " 0.19086 sec\n"
     ]
    }
   ],
   "execution_count": 2
  },
  {
   "cell_type": "markdown",
   "metadata": {},
   "source": []
  }
 ],
 "metadata": {
  "language_info": {
   "name": "python"
  },
  "kernelspec": {
   "name": "python3",
   "language": "python",
   "display_name": "Python 3 (ipykernel)"
  }
 },
 "nbformat": 4,
 "nbformat_minor": 2
}
