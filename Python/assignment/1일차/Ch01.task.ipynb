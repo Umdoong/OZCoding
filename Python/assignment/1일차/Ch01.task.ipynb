{
 "cells": [
  {
   "cell_type": "markdown",
   "metadata": {},
   "source": [
    "<span style=\"font-size:100%\">\n",
    "\n",
    "수업은 모두 열심히 들으셨나요?\n",
    "\n",
    "간혹 강의에서 언급되지 않은 내용이 문제로 나올 수 있습니다.<br>\n",
    "그럴땐 강의 내용 외 문제는 구글링을 통해 해결해주세요<br></span>\n",
    "<span style=\"font-size:80%\">\n",
    "(구글링 또한 개발자가 갖쳐야할 역량 중에 하나랍니다 😊)\n",
    "</span>\n",
    "\n",
    "---"
   ]
  },
  {
   "cell_type": "markdown",
   "metadata": {},
   "source": [
    "<span style=\"font-size:80%\">[문제1]<br><br></span>\n",
    "```인터프리트 방식에 대해 설명하고 2개 이상의 장점을 설명해주세요```"
   ]
  },
  {
   "cell_type": "markdown",
   "metadata": {},
   "source": [
    "<span style=\"color:red\">답변</span>"
   ]
  },
  {
   "cell_type": "markdown",
   "metadata": {},
   "source": [
    "현대에서 사용하는 프로그래밍 언어를 기계어로 바꿔주는 방식에는 크게 2가지가 있습니다.\n",
    "\n",
    "1.컴파일러를 이용하는 방식 (C, C++, Java)\n",
    "\n",
    "    컴파일러가 프로그램 전체를 스캔하여 프로그래밍 언어를 한 번에 기계어로 바꿔주는 방식입니다.\n",
    "    코드 전체를 스캔하여 한 번에 기계어로 바꿔 주기 때문에 초기 실행 속도도 느리고\n",
    "    고급 언어(프로그래밍 언어)를 기계어로 바꿔 주는 과정에서\n",
    "    객체 코드를 묶어서 하나의 실행 파일로 만드는 'Linking'이라는 작업을 해야하기 때문에\n",
    "    인터프리터에 비해 메모리 사용량이 많다는 단점이 있지만\n",
    "    이후에는 만들어 둔 실행 파일만 실행하면 되기 때문에 전체적으로 보면 인터프리터보다 빠르다고 볼 수 있고\n",
    "    오류를 검사할 때 전체 코드를 검사한 후에 오류 메세지를 생성하기 때문에\n",
    "    프로그램 실행 전에 오류를 발견할 수 있다는 장점이 있습니다.\n",
    "    \n",
    "    \n",
    "   \n",
    "2.인터프리터 방식 (Python, JS, Ruby)\n",
    "\n",
    "    프로그램 실행 시 한 번에 한 문장씩 기계어로 번역하는 방식입니다.\n",
    "    즉, 번역과 실행을 거의 동시에 합니다.\n",
    "    그렇기 때문에 실행 파일을 만들어 두고 실행만 하면 되는 컴파일러 방식에 비해 실행 시간이 더 오래 걸리고\n",
    "    오류 메세지 또한 프로그램을 실행해 봐야지만 알 수 있다는 단점이 있습니다.\n",
    "    하지만 인터프리터는 Linking작업을 하지 않아도 되기 때문에\n",
    "    메모리 사용량이 컴파일러를 사용하는 방식에 비해 훨씬 효율적이고\n",
    "    코드를 변경했을 때 컴파일을 할 필요 없이 바로 실행이 가능하기 때문에\n",
    "    유연하고 빠른 개발이 가능하다는 장점이 있습니다.\n",
    "    "
   ]
  },
  {
   "cell_type": "markdown",
   "metadata": {},
   "source": [
    "---"
   ]
  },
  {
   "cell_type": "markdown",
   "metadata": {},
   "source": [
    "<span style=\"font-size:80%\">[문제2]<br><br></span>\n",
    "```동적 타입 방식의 장점과 단점을 간략히 설명해주세요```"
   ]
  },
  {
   "cell_type": "markdown",
   "metadata": {},
   "source": [
    "<span style=\"color:red\">답변</span>"
   ]
  },
  {
   "cell_type": "markdown",
   "metadata": {},
   "source": [
    "1.정적 타입 언어(C, C++, C#, Java)\n",
    "\n",
    "    코드를 작성할 때 미리 타입을 직접 지정 해줍니다.\n",
    "    코드의 가독성이 뛰어나고 타입 에러로 인한 문제에 대해 안전성이 뛰어나다는 장점이 있지만\n",
    "    코딩 시 매번 타입을 결정해 주는 번거로움이 있고 유연하지 못합니다.\n",
    "    \n",
    "2.동적 타입 언어(Python, JS, Ruby)\n",
    "\n",
    "    코드를 작성할 때 변수의 타입을 자동적으로 판단해서 지정해줍니다.\n",
    "    매번 타입을 결정해주지 않아도 돼서 빠른 개발이 가능하고 유연한 장점이 있지만\n",
    "    타입 에러에 취약해진다는 단점이 있습니다.\n",
    "    "
   ]
  },
  {
   "cell_type": "markdown",
   "metadata": {},
   "source": [
    "---"
   ]
  },
  {
   "cell_type": "markdown",
   "metadata": {},
   "source": [
    "<span style=\"font-size:80%\">[문제3]<br><br></span>\n",
    "```Python으로 정적타입 방식의 코드를 작성할 수 있는 방법을 구글링을 통해 검색 후 설명해주세요```"
   ]
  },
  {
   "metadata": {},
   "cell_type": "markdown",
   "source": "<span style=\"color:red\">답변</span>"
  },
  {
   "cell_type": "markdown",
   "metadata": {},
   "source": [
    "파이썬은 기본적으로 동적 타입의 언어지만 정적 타입으로도 코드를 작성할 수 있습니다.\n",
    "\n",
    "이를 도와 주는 것이 'Type Hinting'이라는 것인데 파이썬 코드에 정적 타입을 선택적으로 제공하는 기능입니다.\n",
    "\n",
    "대부분의 IDE(통합 개발 환경)에서 지원하고 있었지만 파이썬 3.5버전 부터 typing이란 자체 내장 모듈을 지원하고 있습니다.\n",
    "- - -\n",
    "예시)   \n",
    "#### 간단한 기본 타입은 module없이 가능한 것 같습니다.\n",
    "\n",
    "    x: int = 1;\n",
    "    \n",
    "    y: float = 1.0\n",
    "    \n",
    "x에는 1을 int로 할당하고 y는 1.0을 float으로 할당합니다\n",
    "\n",
    "<br>\n",
    "\n",
    "#### 모듈 사용 시\n",
    "\n",
    "    from typing import List\n",
    "    \n",
    "    def function(num: List[int]) -> float:\n",
    "    \n",
    "    num이라는 매개변수를 int타입의 List로 받아 float타입으로 반환하는 코드입니다.\n",
    "\n",
    "<br>\n",
    "\n",
    "#### pip 패키지 관리자를 통해 mypy를 설치 후 검사하는 방법\n",
    "\n",
    "    pip install mypy - 설치\n",
    "    \n",
    "    mypy \"파일명\" - 타입체크 실행\n",
    "    \n",
    "    타입 오류가 있을 시 오류 메세지로 알려줌---"
   ]
  },
  {
   "cell_type": "markdown",
   "metadata": {},
   "source": [
    "<span style=\"font-size:80%\">[문제4]<br><br></span>\n",
    "```프로세스와 스레드의 차이점을 설명해주세요```"
   ]
  },
  {
   "cell_type": "markdown",
   "metadata": {},
   "source": [
    "<span style=\"color:red\">답변</span>"
   ]
  },
  {
   "cell_type": "markdown",
   "metadata": {},
   "source": [
    "프로세스\n",
    "    \n",
    "    OS에게 자원을 할당 받아 현재 실행 중인 프로그램을 의미합니다.\n",
    "\n",
    "스레드\n",
    "\n",
    "    프로세스가 실행 중일 때 할당된 메모리 내에서 실행되고 있는 실행의 흐름 단위를 얘기합니다."
   ]
  },
  {
   "cell_type": "markdown",
   "metadata": {},
   "source": [
    "---"
   ]
  },
  {
   "cell_type": "markdown",
   "metadata": {},
   "source": [
    "<span style=\"font-size:80%\">[문제5]<br><br></span>\n",
    "```Python 2버전대와 3버전대의 차이를 성명해주세요```"
   ]
  },
  {
   "cell_type": "markdown",
   "metadata": {},
   "source": [
    "<span style=\"color:red\">답변</span>"
   ]
  },
  {
   "cell_type": "markdown",
   "metadata": {},
   "source": [
    "언어의 차이\n",
    "    \n",
    "    Python 3에서 기본적으로 문자열은 Unicode입니다\n",
    "    하지만 Python 2에서는 기본적으로 아스키 코드를 저장하고 있고 유니코드로 저장하고 싶다면 \"u\"를 붙여야 합니다.\n",
    "    ASCII는 표현 가능한 문자의 수가 128개 뿐이므로 언어적 불편함이 존재합니다.\n",
    "    \n",
    "문법의 차이\n",
    "\n",
    "    Python2에서는 print\"hello\"지만\n",
    "    Python3에서는 print(\"hello\")로 써야됩니다.\n",
    "    \n",
    "향상된 정수 나눗셈 기능\n",
    "\n",
    "    Python2에서는 정수에 나눗셈을 하면 가장 가까운 정수까지 반올림을 하고 소숫점 이하는 반올림하지 않습니다\n",
    "    ex) 5 / 2 -> 2 , 5.0 / 2.0 -> 2.5\n",
    "    \n",
    "    Python3에서는 정수끼리 나눗셈을 해도 타입을 자동으로 float으로 변환해줍니다\n",
    "    ex) 5 / 2 -> 2.5\n",
    "    \n",
    "이외에도 많은 기능적 차이가 있습니다."
   ]
  },
  {
   "cell_type": "markdown",
   "metadata": {},
   "source": [
    "---"
   ]
  },
  {
   "cell_type": "markdown",
   "metadata": {},
   "source": [
    "<span style=\"font-size:80%\">[문제6]<br><br></span>\n",
    "```Python에서 메모리 관리는 어떻게 이루어지는지 설명해주세요```"
   ]
  },
  {
   "cell_type": "markdown",
   "metadata": {},
   "source": [
    "<span style=\"color:red\">답변</span>"
   ]
  },
  {
   "cell_type": "markdown",
   "metadata": {},
   "source": [
    "파이썬은 Garbage Collection을 지원합니다.\n",
    "\n",
    "Garbage Collection이란 메모리를 효율적으로 관리하기 위한 기능으로써\n",
    "\n",
    "객체를 참조하는 변수가 0이면 다시는 사용하지 않을 객체라는 의미이므로\n",
    "\n",
    "객체를 메모리에서 지워 메모리 누수를 방지해줍니다"
   ]
  }
 ],
 "metadata": {
  "language_info": {
   "name": "python"
  }
 },
 "nbformat": 4,
 "nbformat_minor": 2
}
