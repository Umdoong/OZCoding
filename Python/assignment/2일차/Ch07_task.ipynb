{
 "cells": [
  {
   "cell_type": "markdown",
   "metadata": {},
   "source": [
    "<span style=\"font-size:100%\">\n",
    "\n",
    "수업은 모두 열심히 들으셨나요?\n",
    "\n",
    "간혹 강의에서 언급되지 않은 내용이 문제로 나올 수 있습니다.<br>\n",
    "그럴땐 강의 내용 외 문제는 구글링을 통해 해결해주세요<br></span>\n",
    "<span style=\"font-size:80%\">\n",
    "(구글링 또한 개발자가 갖쳐야할 역량 중에 하나랍니다 😊)\n",
    "</span>\n",
    "\n",
    "---"
   ]
  },
  {
   "cell_type": "markdown",
   "metadata": {},
   "source": [
    "<span style=\"font-size:80%\">[문제1]<br><br></span>\n",
    "```변수 퀴즈에 들어있는 정답 \"어중이떠중이\"를 출력하기 위한 슬라이싱으로 올바른 것을 모두 골라주세요```\n",
    "\n",
    "퀴즈 = \"스님이 공중에 뜬다를 4글자로 말하면? 어중이떠중이\"\n",
    "\n",
    "1. print(퀴즈[22:27])\n",
    "2. print(퀴즈[22:])\n",
    "3. print(퀴즈[22:28])\n",
    "4. print(퀴즈[28])"
   ]
  },
  {
   "cell_type": "markdown",
   "metadata": {},
   "source": [
    "<span style=\"color:red\">답변</span>"
   ]
  },
  {
   "cell_type": "markdown",
   "metadata": {},
   "source": [
    "2, 3번\n",
    "\n",
    "슬라이싱의 문법은 [start index:end index:step]로 이루어져 있는데  \n",
    "start index부터 end index의 바로 앞까지 step만큼 건너뛰면서 잘라줍니다.  \n",
    "end index의 바로 앞까지 자르는 이유는 0부터 시작하는 인덱스 구조와 잘 어울리기 때문인데 길이를 측정하는 식을 보면  \n",
    "마지막 인덱스 - 시작 인덱스 = 인덱스 길이가 되는 것을 볼 수 있습니다.  \n",
    "ex) [0:5]의 길이 5 - 0 = 5 / 0, 1, 2, 3, 4 총 5개\n",
    "\n",
    "또 슬라이싱 표기법 중 :의 앞을 비워두면 처음부터, 뒤를 비워두면 끝까지라는 의미가 있습니다."
   ]
  },
  {
   "cell_type": "markdown",
   "metadata": {},
   "source": [
    "----"
   ]
  },
  {
   "cell_type": "markdown",
   "metadata": {},
   "source": [
    "<span style=\"font-size:80%\">[문제2]<br><br></span>\n",
    "```과일 변수에 들어있는 p의 개수를 구하는 코드로 올바른 것을 골라주세요```\n",
    "\n",
    "과일 = \"apple\" \n",
    "\n",
    "1. 과일.count('p')\n",
    "2. count(과일, 'p')\n",
    "3. 과일.index('p')\n",
    "4. count('p')"
   ]
  },
  {
   "cell_type": "markdown",
   "metadata": {},
   "source": [
    "<span style=\"color:red\">답변</span>"
   ]
  },
  {
   "cell_type": "markdown",
   "metadata": {},
   "source": [
    "1번\n",
    "\n",
    "과일에 있는 p를 count해줍니다."
   ]
  },
  {
   "cell_type": "markdown",
   "metadata": {},
   "source": [
    "----"
   ]
  },
  {
   "cell_type": "markdown",
   "metadata": {},
   "source": [
    "<span style=\"font-size:80%\">[문제3]<br><br></span>\n",
    "``` bool 타입에 해당하는 것만 골라주세요```\n",
    "\n",
    "1. true\n",
    "2. True\n",
    "3. False\n",
    "4. 0\n",
    "5. 1"
   ]
  },
  {
   "cell_type": "markdown",
   "metadata": {},
   "source": [
    "<span style=\"color:red\">답변</span>"
   ]
  },
  {
   "cell_type": "markdown",
   "metadata": {},
   "source": [
    "2,3 번\n",
    "\n",
    "파이썬 문법에 따르면 true는 bool 타입이 아닙니다.\n",
    "\n",
    "또 문제에서 1이나 0이 bool타입인 것이 참이 되려면 bool(1)이나 bool(0)으로 객관식이 나왔어야합니다.\n",
    "\n",
    "bool클래스는 int클래스를 상속하고 있습니다.\n",
    "\n",
    "그래서 대부분의 연산에서 True와 False는 1과 0처럼 작동합니다.\n"
   ]
  },
  {
   "metadata": {
    "ExecuteTime": {
     "end_time": "2024-10-15T08:36:51.186435Z",
     "start_time": "2024-10-15T08:36:51.179721Z"
    }
   },
   "cell_type": "code",
   "source": [
    "#bool이 int의 자식클래스인지 확인\n",
    "print(issubclass(bool, int))\n",
    "\n",
    "# bool(1)과 True는 같은 객체임\n",
    "print(True is bool(1))\n",
    "\n",
    "#정수 1이랑은 다른 객체임\n",
    "print(True is 1)\n",
    "\n",
    "#하지만 같은 값으로 취급\n",
    "print(True == 1)\n",
    "\n",
    "#타입 증명\n",
    "print(type(True))\n",
    "print(type(1))\n",
    "print(type(bool(1)))"
   ],
   "outputs": [
    {
     "name": "stdout",
     "output_type": "stream",
     "text": [
      "True\n",
      "True\n",
      "False\n",
      "True\n",
      "<class 'bool'>\n",
      "<class 'int'>\n",
      "<class 'bool'>\n"
     ]
    },
    {
     "name": "stderr",
     "output_type": "stream",
     "text": [
      "<>:8: SyntaxWarning: \"is\" with 'int' literal. Did you mean \"==\"?\n",
      "<>:8: SyntaxWarning: \"is\" with 'int' literal. Did you mean \"==\"?\n",
      "/var/folders/0g/xh1h9gwx3kd7gjsmgnx6zt_80000gn/T/ipykernel_3998/1304859037.py:8: SyntaxWarning: \"is\" with 'int' literal. Did you mean \"==\"?\n",
      "  print(True is 1)\n"
     ]
    }
   ],
   "execution_count": 14
  },
  {
   "cell_type": "markdown",
   "metadata": {},
   "source": [
    "----"
   ]
  },
  {
   "cell_type": "markdown",
   "metadata": {},
   "source": [
    "<span style=\"font-size:80%\">[문제4]<br><br></span>\n",
    "```문자열의 길이를 구하는 방법으로 올바른 것을 고르세요```\n",
    "\n",
    "라라랜드 =  \"사람들은 다른 사람들의 열정에 끌리게 되어있어 자신이 잊은 걸 상기시켜 주니까\"\n",
    "\n",
    "1. 라라랜드.len()\n",
    "2. length(라라랜드)\n",
    "3. len(라라랜드)\n",
    "4. count(라라랜드)"
   ]
  },
  {
   "cell_type": "markdown",
   "metadata": {},
   "source": "<span style=\"color:red\">답변</span>"
  },
  {
   "cell_type": "markdown",
   "metadata": {},
   "source": [
    "3번\n",
    "\n",
    "자바같은 곳에서는 변수명.length()를 이용해 길이를 구할 수 있지만\n",
    "파이썬의 문법은 len(변수명)입니다."
   ]
  },
  {
   "cell_type": "markdown",
   "metadata": {},
   "source": [
    "----"
   ]
  },
  {
   "cell_type": "markdown",
   "metadata": {},
   "source": [
    "<span style=\"font-size:80%\">[문제5]<br><br></span>\n",
    "```우영우 변수에 출력 값이 반대로 나오게 코드를 작성해주세요```\n",
    "\n",
    "우영우 = \"기러기토마토스위스역삼역\"\n",
    "\n",
    "출력값 : 역삼역스위스토마토기러기\n"
   ]
  },
  {
   "cell_type": "markdown",
   "metadata": {},
   "source": [
    "<span style=\"color:red\">답변</span>"
   ]
  },
  {
   "metadata": {
    "ExecuteTime": {
     "end_time": "2024-10-15T07:28:47.669516Z",
     "start_time": "2024-10-15T07:28:47.664396Z"
    }
   },
   "cell_type": "code",
   "source": [
    "우영우 = \"기러기토마토스위스역삼역\"\n",
    "print(우영우[::-1])"
   ],
   "outputs": [
    {
     "name": "stdout",
     "output_type": "stream",
     "text": [
      "역삼역스위스토마토기러기\n"
     ]
    }
   ],
   "execution_count": 9
  },
  {
   "cell_type": "markdown",
   "metadata": {},
   "source": [
    "슬라이싱의 step부분에 -1을 넣으면 역순이 됩니다.  \n",
    "마찬가지로 index부분에 음수를 넣으면 거꾸로 인덱스를 잘라옵니다."
   ]
  },
  {
   "metadata": {
    "ExecuteTime": {
     "end_time": "2024-10-15T07:33:25.389331Z",
     "start_time": "2024-10-15T07:33:25.382187Z"
    }
   },
   "cell_type": "code",
   "source": [
    "print(우영우[-5:-2])\n",
    "print(우영우[-5:])"
   ],
   "outputs": [
    {
     "name": "stdout",
     "output_type": "stream",
     "text": [
      "위스역\n",
      "위스역삼역\n"
     ]
    }
   ],
   "execution_count": 33
  }
 ],
 "metadata": {
  "language_info": {
   "name": "python"
  },
  "kernelspec": {
   "name": "python3",
   "language": "python",
   "display_name": "Python 3 (ipykernel)"
  }
 },
 "nbformat": 4,
 "nbformat_minor": 2
}
