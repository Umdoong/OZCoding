{
 "cells": [
  {
   "cell_type": "markdown",
   "metadata": {},
   "source": [
    "<span style=\"font-size:100%\">\n",
    "\n",
    "수업은 모두 열심히 들으셨나요?\n",
    "\n",
    "간혹 강의에서 언급되지 않은 내용이 문제로 나올 수 있습니다.<br>\n",
    "그럴땐 강의 내용 외 문제는 구글링을 통해 해결해주세요<br></span>\n",
    "<span style=\"font-size:80%\">\n",
    "(구글링 또한 개발자가 갖쳐야할 역량 중에 하나랍니다 😊)\n",
    "</span>\n",
    "\n",
    "---"
   ]
  },
  {
   "cell_type": "markdown",
   "metadata": {},
   "source": [
    "<span style=\"font-size:80%\">[문제1]<br><br></span>\n",
    "```Python으로 변수를 생성하는 방법으로 올바른 것을 고르세요```\n",
    "\n",
    "1. number == 20\n",
    "2. 100 == number\n",
    "3. number(7)\n",
    "4. number = 7"
   ]
  },
  {
   "cell_type": "markdown",
   "metadata": {},
   "source": [
    "<span style=\"color:red\">답변</span>"
   ]
  },
  {
   "cell_type": "markdown",
   "metadata": {},
   "source": [
    "4번\n",
    "\n",
    "1번과 2번은 값이 같은지 비교하는 연산자  \n",
    "3번은 number의 인자로 7을 쓰겠다는 의미입니다."
   ]
  },
  {
   "cell_type": "markdown",
   "metadata": {},
   "source": [
    "----"
   ]
  },
  {
   "cell_type": "markdown",
   "metadata": {},
   "source": [
    "<span style=\"font-size:80%\">[문제2]<br><br></span>\n",
    "```다음 중 올바르지 않은 것을 골라주세요```\n",
    "\n",
    "이름 = \"김오즈\"<br>\n",
    "나이 = 14<br>\n",
    "소속 = \"마법중\"<br>\n",
    "등급 = 3<br>\n",
    "\n",
    "1. 이름 + 소속\n",
    "2. 나이 + 등급\n",
    "3. 소속 + 등급"
   ]
  },
  {
   "cell_type": "markdown",
   "metadata": {},
   "source": [
    "<span style=\"color:red\">답변</span>"
   ]
  },
  {
   "cell_type": "markdown",
   "metadata": {},
   "source": "3번 String과 int는 더할 수 없습니다."
  },
  {
   "cell_type": "markdown",
   "metadata": {},
   "source": [
    "----"
   ]
  },
  {
   "cell_type": "markdown",
   "metadata": {},
   "source": [
    "<span style=\"font-size:80%\">[문제3]<br><br></span>\n",
    "```아래 변수의 type으로 올바른것을 골라주세요```\n",
    "\n",
    "퀴즈 = \"스페인에서 카리나를 보고 하는 말은?\"<br>\n",
    "type(퀴즈)"
   ]
  },
  {
   "cell_type": "markdown",
   "metadata": {},
   "source": [
    "<span style=\"color:red\">답변</span>"
   ]
  },
  {
   "cell_type": "markdown",
   "metadata": {},
   "source": "String타"
  },
  {
   "cell_type": "markdown",
   "metadata": {},
   "source": [
    "----"
   ]
  },
  {
   "cell_type": "markdown",
   "metadata": {},
   "source": [
    "<span style=\"font-size:80%\">[문제4]<br><br></span>\n",
    "```다음 중 변수 이름으로 사용할 수 없는 것을 모두 골라주세요```\n",
    "\n",
    "1. 78abc\n",
    "2. ABC\n",
    "3. _ABC\n",
    "4. _hello%2\n",
    "5. for"
   ]
  },
  {
   "cell_type": "markdown",
   "metadata": {},
   "source": [
    "<span style=\"color:red\">답변</span>"
   ]
  },
  {
   "cell_type": "markdown",
   "metadata": {},
   "source": [
    "1, 4, 5\n",
    "\n",
    "숫자로 시작 불가능  \n",
    "_를 제외한 특수문자 불가능  \n",
    "for처럼 기능있는 단어 불가능"
   ]
  },
  {
   "cell_type": "markdown",
   "metadata": {},
   "source": [
    "----"
   ]
  },
  {
   "cell_type": "markdown",
   "metadata": {},
   "source": [
    "<span style=\"font-size:80%\">[문제5]<br><br></span>\n",
    "```다음 중 변수와 연산자의 사용 방법으로 올바르지 않은 것을 모두 골라주세요```\n",
    "\n",
    "x = 3\n",
    "y = 7\n",
    "\n",
    "1. x = x + y\n",
    "2. x // 2\n",
    "3. z >< x\n",
    "4. y += x\n",
    "5. ++x"
   ]
  },
  {
   "cell_type": "markdown",
   "metadata": {},
   "source": [
    "<span style=\"color:red\">답변</span>"
   ]
  },
  {
   "cell_type": "markdown",
   "metadata": {},
   "source": [
    "3, 5\n",
    "\n",
    "3번 >,<를 같이 쓰는 부등호는 말도 안되고  \n",
    "5번은 증감연산자로 Java에는 있는데 Python에는 없는 것으로 알고 있습니다."
   ]
  }
 ],
 "metadata": {
  "language_info": {
   "name": "python"
  }
 },
 "nbformat": 4,
 "nbformat_minor": 2
}
