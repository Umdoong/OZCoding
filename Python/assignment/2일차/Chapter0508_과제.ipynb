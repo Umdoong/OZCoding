{
 "cells": [
  {
   "cell_type": "markdown",
   "metadata": {
    "id": "WXEwMsfUct7U"
   },
   "source": [
    "안녕하세요.<br><br>\n",
    "수강생 여러분~! Chapter05 ~ 08 수업은 잘 들으셨나요?\n",
    "\n",
    "Chapter05 ~ 08의 수업 내용을 바탕으로 아래 문제를 풀어주시면 됩니다.\n",
    "\n",
    "[**답변 입력 방법**]\n",
    "\n",
    "문제 아래에 있는 코드 입력창에 정답코드를 작성하신 후 ▷ 버튼을 클릭해 코드를 실행해보세요<br>"
   ]
  },
  {
   "cell_type": "markdown",
   "metadata": {
    "id": "qoyC9wF-3hvs"
   },
   "source": [
    "-----"
   ]
  },
  {
   "cell_type": "markdown",
   "metadata": {
    "id": "rAD_O3Gmc_43"
   },
   "source": [
    "[문제1]\n",
    "\n",
    "변수명 게임에 들어 있는 값 중 '홀'만 출력되도록 코드를 작성해 주세요\n",
    "\n",
    "게임 = \"홀짝홀짝홀짝\"\n",
    "\n",
    "출력 예시 : \"홀홀홀\"\n"
   ]
  },
  {
   "cell_type": "code",
   "metadata": {
    "id": "74wtVQFFc_h1",
    "ExecuteTime": {
     "end_time": "2024-10-15T07:17:58.128676Z",
     "start_time": "2024-10-15T07:17:58.122589Z"
    }
   },
   "source": [
    "from jedi.inference.value.klass import ClassName\n",
    "\n",
    "게임 = \"홀짝홀짝홀짝\"\n",
    "print(게임[::2])"
   ],
   "outputs": [
    {
     "name": "stdout",
     "output_type": "stream",
     "text": [
      "홀홀홀\n"
     ]
    }
   ],
   "execution_count": 2
  },
  {
   "cell_type": "markdown",
   "metadata": {},
   "source": [
    "---"
   ]
  },
  {
   "cell_type": "markdown",
   "metadata": {
    "id": "3uK_auXYdgk2"
   },
   "source": [
    "[문제2]\n",
    "\n",
    "변수명 전화번호에 들어 있는 번호를 모두 붙여서 출력되도록 코드를 작성해주세요\n",
    "\n",
    "전화번호 = \"010-1234-5678\"\n",
    "\n",
    "출력 예시 : \"01012345678\""
   ]
  },
  {
   "cell_type": "code",
   "metadata": {
    "id": "9kvBxa6PdhgA",
    "ExecuteTime": {
     "end_time": "2024-10-15T08:54:10.406485Z",
     "start_time": "2024-10-15T08:54:10.402511Z"
    }
   },
   "source": [
    "전화번호 = \"010-1234-5678\"\n",
    "\n",
    "#slice를 이용 (VOD에서 배운 내용)\n",
    "print(f'{전화번호[0:3]}{전화번호[4:8]}{전화번호[9:]}')\n",
    "\n",
    "#join과 split을 이용 / split으로 -을 빼고 리스트로 반환 후 join을 통해 다시 리스트를 문자열로 바꾸는데 구분자는 공란으로 둠\n",
    "print(''.join(전화번호.split('-')))\n",
    "\n",
    "#replace함수로도 쉽게 변환이 가능하다\n",
    "print(전화번호.replace('-', ''))"
   ],
   "outputs": [
    {
     "name": "stdout",
     "output_type": "stream",
     "text": [
      "01012345678\n",
      "01012345678\n",
      "01012345678\n"
     ]
    }
   ],
   "execution_count": 4
  },
  {
   "cell_type": "markdown",
   "metadata": {},
   "source": [
    "----"
   ]
  },
  {
   "cell_type": "markdown",
   "metadata": {
    "id": "2Jte2VLKdiPm"
   },
   "source": [
    "[문제3]\n",
    "\n",
    "창의성, 시장성, 안정성, 수익성에 대한 각각의 평가 중 아래 기준에 부합하지 못하면 창업지원을 받을 수 없습니다.\n",
    "\n",
    "- 수익성 60점 이상\n",
    "- 창의성과 시장성 50점 이상\n",
    "- 시장성과 수익성을 더한 값의 절반이 안정성 보다 높아야 함\n",
    "\n",
    "다음 점수가 입력되었을때 창업 지원이 가능한지 여부를 True 또는 False로 출력해주세요\n",
    "\n",
    "---\n",
    "\n",
    "창의성 : 62\n",
    "시장성 : 71\n",
    "안정성 : 68\n",
    "수익성 : 66"
   ]
  },
  {
   "cell_type": "code",
   "metadata": {
    "id": "XJhvRO-2djBh",
    "ExecuteTime": {
     "end_time": "2024-10-15T08:52:33.914840Z",
     "start_time": "2024-10-15T08:52:33.908812Z"
    }
   },
   "source": [
    "Creativity = 62\n",
    "Marketability = 71\n",
    "Stability = 68\n",
    "Profitability = 66\n",
    "\n",
    "print(Profitability >= 60 and Creativity >= 50 and Marketability >= 50 and ((Marketability + Profitability) / 2) > Stability)"
   ],
   "outputs": [
    {
     "name": "stdout",
     "output_type": "stream",
     "text": [
      "True\n"
     ]
    }
   ],
   "execution_count": 3
  },
  {
   "cell_type": "markdown",
   "metadata": {},
   "source": [
    "#### 모험가들의 레벨업 도전\n",
    "\n",
    "[배경 이야기]\n",
    "\n",
    "당신은 마법사, 전사, 도적, 힐러 네 명의 모험가를 이끄는 리더입니다. \n",
    "\n",
    "각 캐릭터는 힘, 민첩, 지능, 체력이라는 능력치를 가지고 있습니다. 이 능력치들을 이용해 다양한 도전을 해결하고 사냥을 통해 경험치를 얻어 레벨업을 해야 합니다.\n",
    "\n",
    "[동료 캐릭터와 능력치 정보]\n",
    "\n",
    "마법사: 힘(10), 민첩(20), 지능(80), 체력(50)\n",
    "\n",
    "전사: 힘(80), 민첩(30), 지능(20), 체력(100)\n",
    "\n",
    "도적: 힘(40), 민첩(80), 지능(30), 체력(60)\n",
    "\n",
    "힐러: 힘(20), 민첩(40), 지능(70), 체력(70)"
   ]
  },
  {
   "metadata": {
    "ExecuteTime": {
     "end_time": "2024-10-15T05:33:04.034834Z",
     "start_time": "2024-10-15T05:33:04.031345Z"
    }
   },
   "cell_type": "code",
   "source": [
    "#아직 안배운 딕셔너리지만 예습을 통해 알고 있으니 활용해보고 싶었습니다.\n",
    "Warrior = {\n",
    "    'name': 'Warrior',\n",
    "    'str' : 80,\n",
    "    'dex' : 30,\n",
    "    'int' : 20,\n",
    "    'con' : 100\n",
    "}\n",
    "\n",
    "Wizard = {\n",
    "    'name': 'Wizard',\n",
    "    'str' : 10,\n",
    "    'dex' : 20,\n",
    "    'int' : 80,\n",
    "    'con' : 50\n",
    "}\n",
    "\n",
    "Bandit = {\n",
    "    'name': 'Bandit',\n",
    "    'str' : 40,\n",
    "    'dex' : 80,\n",
    "    'int' : 30,\n",
    "    'con' : 60\n",
    "}\n",
    "\n",
    "Healer = {\n",
    "    'name': 'Healer',\n",
    "    'str' : 20,\n",
    "    'dex' : 40,\n",
    "    'int' : 70,\n",
    "    'con' : 70\n",
    "}"
   ],
   "outputs": [],
   "execution_count": 39
  },
  {
   "cell_type": "markdown",
   "metadata": {},
   "source": [
    "[문제 1: 첫 번째 사냥]\n",
    "\n",
    "마법사는 몬스터를 사냥하기 위해 마법을 사용합니다. \n",
    "\n",
    "마법을 사용하려면 지능이 50 이상이어야 합니다. 마법사의 지능이 50 이상인지 확인하세요."
   ]
  },
  {
   "cell_type": "code",
   "metadata": {
    "ExecuteTime": {
     "end_time": "2024-10-15T05:34:29.460323Z",
     "start_time": "2024-10-15T05:34:29.457074Z"
    }
   },
   "source": [
    "if(Wizard['int'] >= 50):\n",
    "    print(f'{Wizard['int']}의 지능을 가진 우리팀 마법사...!!\\n마법을 사용할 수 있다!')\n",
    "else:\n",
    "    print(\"나약한 파티는 전멸했다.\")"
   ],
   "outputs": [
    {
     "name": "stdout",
     "output_type": "stream",
     "text": [
      "80의 지능을 가진 우리팀 마법사...!!\n",
      "마법을 사용할 수 있다!\n"
     ]
    }
   ],
   "execution_count": 41
  },
  {
   "cell_type": "markdown",
   "metadata": {},
   "source": [
    "[문제 2: 두 번째 사냥]\n",
    "\n",
    "전사는 강력한 공격을 하기 위해 자신의 힘을 사용합니다. 전사의 힘이 60 이상이고 체력이 80 이상인지 확인하세요."
   ]
  },
  {
   "cell_type": "code",
   "metadata": {
    "ExecuteTime": {
     "end_time": "2024-10-15T05:34:43.987999Z",
     "start_time": "2024-10-15T05:34:43.983814Z"
    }
   },
   "source": [
    "if(Warrior['str'] >= 60 and Warrior['con'] >= 80):\n",
    "    print(f'{Warrior['str']}의 힘과 {Warrior['con']}의 체력을 가진 우리 팀 전사는 짱짱 쎄다...\\n공격할 수 있다!!')\n",
    "else:\n",
    "    print(\"나약한 파티는 전멸했다.\")"
   ],
   "outputs": [
    {
     "name": "stdout",
     "output_type": "stream",
     "text": [
      "80의 힘과 100의 체력을 가진 우리 팀 전사는 짱짱 쎄다...\n",
      "공격할 수 있다!!\n"
     ]
    }
   ],
   "execution_count": 42
  },
  {
   "cell_type": "markdown",
   "metadata": {},
   "source": [
    "[문제 3: 세 번째 사냥]\n",
    "\n",
    "도적은 민첩함을 이용해 몬스터를 회피하고 공격합니다. 도적의 민첩이 70 이상이거나 힘이 50 이상인지 확인하세요."
   ]
  },
  {
   "cell_type": "code",
   "metadata": {
    "ExecuteTime": {
     "end_time": "2024-10-15T05:35:10.082749Z",
     "start_time": "2024-10-15T05:35:10.079656Z"
    }
   },
   "source": [
    "if(Bandit['dex'] >= 70 or Bandit['str'] >= 50):\n",
    "    print(\"도적 : 크킄... 어이 그건 내 잔상이라구?\")\n",
    "else:\n",
    "    print(\"미안해 제발 그만 때려줘!!\")"
   ],
   "outputs": [
    {
     "name": "stdout",
     "output_type": "stream",
     "text": [
      "도적 : 크킄... 어이 그건 내 잔상이라구?\n"
     ]
    }
   ],
   "execution_count": 45
  },
  {
   "cell_type": "markdown",
   "metadata": {},
   "source": [
    "[문제 4: 네 번째 사냥]\n",
    "\n",
    "힐러는 파티의 체력을 회복시키기 위해 마법을 사용합니다. 힐러의 지능이 60 이상이고, 체력이 50 이상인지 확인하세요."
   ]
  },
  {
   "cell_type": "code",
   "metadata": {
    "ExecuteTime": {
     "end_time": "2024-10-15T05:35:16.207133Z",
     "start_time": "2024-10-15T05:35:16.203688Z"
    }
   },
   "source": [
    "if(Healer['int'] >= 60 and Healer['con'] >= 50):\n",
    "    print(f'어이 힐러 \"물\"')\n",
    "else:\n",
    "    print(\"무능한 힐러를 데려와서 전멸했다.\")"
   ],
   "outputs": [
    {
     "name": "stdout",
     "output_type": "stream",
     "text": [
      "어이 힐러 \"물\"\n"
     ]
    }
   ],
   "execution_count": 46
  },
  {
   "cell_type": "markdown",
   "metadata": {},
   "source": [
    "[문제 5: 레벨업]\n",
    "\n",
    "모든 캐릭터가 사냥을 성공적으로 마쳤습니다. 이제 경험치를 얻어 레벨업을 해야 합니다. 각 캐릭터의 경험치는 다음과 같습니다\n",
    "\n",
    "[경험치]\n",
    "\n",
    "마법사: 120\n",
    "\n",
    "전사: 150\n",
    "\n",
    "도적: 110\n",
    "\n",
    "힐러: 90\n",
    "\n",
    "각 캐릭터의 경험치가 100 이상인지 print()를 이용해 확인해주세요"
   ]
  },
  {
   "metadata": {
    "ExecuteTime": {
     "end_time": "2024-10-15T05:33:08.549132Z",
     "start_time": "2024-10-15T05:33:08.543763Z"
    }
   },
   "cell_type": "code",
   "source": [
    "#딕셔너리에 경험치를 추가\n",
    "Warrior['exp'] = 120\n",
    "Wizard['exp'] = 150\n",
    "Bandit['exp'] = 110\n",
    "Healer['exp'] = 90\n",
    "\n",
    "#딕셔너리를 리스트에 담기\n",
    "Class = [ Warrior, Wizard, Bandit, Healer ]\n",
    "\n",
    "#for문을 통해 하나씩 뽑아내기\n",
    "for Cls in Class:\n",
    "    if(Cls['exp'] >= 100):\n",
    "        print(f'{Cls['name']}가 레벨업에 성공했습니다!')\n",
    "    else:\n",
    "        print(f'{Cls['name']}의 경험치는 {Cls['exp']}이므로 레벨업하기에 모자랍니다!')\n",
    "        \n",
    "#딕셔너리, for문, if문 그리고 f-string을 알고 있음에도 쉽지 않았다"
   ],
   "outputs": [
    {
     "name": "stdout",
     "output_type": "stream",
     "text": [
      "Warrior가 레벨업에 성공했습니다!\n",
      "Wizard가 레벨업에 성공했습니다!\n",
      "Bandit가 레벨업에 성공했습니다!\n",
      "Healer의 경험치는 90이므로 레벨업하기에 모자랍니다!\n"
     ]
    }
   ],
   "execution_count": 40
  }
 ],
 "metadata": {
  "colab": {
   "authorship_tag": "ABX9TyP7YKA5FdtGggYfD74V7SMJ",
   "provenance": []
  },
  "kernelspec": {
   "display_name": "Python 3 (ipykernel)",
   "name": "python3",
   "language": "python"
  },
  "language_info": {
   "name": "python"
  }
 },
 "nbformat": 4,
 "nbformat_minor": 0
}
