{
 "cells": [
  {
   "cell_type": "markdown",
   "metadata": {},
   "source": [
    "### 1. 사용자 추가하기\n",
    "\n",
    "문제 : 사용자 3명을 추가해주세요"
   ]
  },
  {
   "cell_type": "markdown",
   "metadata": {},
   "source": [
    "- `username` : 박지수\n",
    "    - `email` : jisoo_2@naver.com\n",
    "    - `phone_number` : 010-2354-2234\n",
    "    - `password`(’pw123’)"
   ]
  },
  {
   "cell_type": "code",
   "execution_count": null,
   "metadata": {},
   "outputs": [],
   "source": [
    "from email.headerregistry import Address\n",
    "\n",
    "import accounts.models import Account\n",
    "park = Account.objects.create(username='박지수', email='jisoo_2@naver.com', phone_number='010-2354-2234')\n",
    "park.set_password('pw123')\n",
    "park.save()"
   ]
  },
  {
   "cell_type": "markdown",
   "metadata": {},
   "source": [
    "- username : 강철\n",
    "    - `email` : ggch@naver.com\n",
    "    - `phone_number` : 010-1114-6443\n",
    "    - `password`(’pwpw’)"
   ]
  },
  {
   "cell_type": "code",
   "execution_count": null,
   "metadata": {},
   "outputs": [],
   "source": [
    "import accounts.models import Account\n",
    "Account.objects.create(username='강철', email='ggch@naver.com', phone_number='010-1114-6443').set_password('pwpw')"
   ]
  },
  {
   "cell_type": "markdown",
   "metadata": {},
   "source": [
    "- username : 민현지\n",
    "    - `email` : master_g@gmail.com\n",
    "    - `phone_number` : 010-8495-3456"
   ]
  },
  {
   "cell_type": "code",
   "execution_count": null,
   "metadata": {},
   "outputs": [],
   "source": [
    "import accounts.models import Account\n",
    "Account.objects.create(username='민현지', email='master_g@gmail.com', phone_number='010-8495-3456')"
   ]
  },
  {
   "cell_type": "markdown",
   "metadata": {},
   "source": [
    "### 2.특정 사용자 조회하기"
   ]
  },
  {
   "cell_type": "markdown",
   "metadata": {},
   "source": [
    "문제: '박지수' 사용자의 전체 정보를 조회하세요."
   ]
  },
  {
   "cell_type": "code",
   "execution_count": null,
   "metadata": {},
   "outputs": [],
   "source": [
    "from accounts.models import Account\n",
    "Account.objects.filter(username='박지수')"
   ]
  },
  {
   "cell_type": "markdown",
   "metadata": {},
   "source": [
    "문제 : ‘강철’ 사용자의 이메일 주소를 'steel_kang@naver.com'으로 변경해주세요"
   ]
  },
  {
   "cell_type": "code",
   "execution_count": null,
   "metadata": {},
   "outputs": [],
   "source": [
    "from accounts.models import Account\n",
    "kang = Account.objects.filter(username='강철')\n",
    "kang.email = 'steel_kang@naver.com'\n",
    "kang.save()"
   ]
  },
  {
   "cell_type": "markdown",
   "metadata": {},
   "source": [
    "문제 : '민현지' 사용자의 비밀번호를 'newpassword'로 변경해주세요"
   ]
  },
  {
   "cell_type": "code",
   "execution_count": null,
   "metadata": {},
   "outputs": [],
   "source": [
    "from accounts.models import Account\n",
    "min = Account.objects.filter(username='민현지')\n",
    "min.set_password('newpassword')\n",
    "min.save()"
   ]
  },
  {
   "cell_type": "markdown",
   "metadata": {},
   "source": [
    "문제 : 모든 사용자의 이름과 이메일 주소 조회 후 출력해주세요"
   ]
  },
  {
   "cell_type": "code",
   "execution_count": null,
   "metadata": {},
   "outputs": [],
   "source": [
    "from accounts.models import Account\n",
    "users = Account.objects.all()\n",
    "for user in users:\n",
    "\tprint(user.username, user.email)"
   ]
  },
  {
   "cell_type": "markdown",
   "metadata": {},
   "source": [
    "문제 : 전화번호가 등록된 사용자만 조회 후 출력해주세요"
   ]
  },
  {
   "cell_type": "code",
   "execution_count": null,
   "metadata": {},
   "outputs": [],
   "source": [
    "from accounts.models import Account\n",
    "users_phone = Account.objects.exclude(phone_number__isnull=True).exclude(phone_number='')\n",
    "# phone_number 필드가 null이거나 비어있으면('') 제외하고 나머지 값을 조회\n",
    "for user in users_phone:\n",
    "\tprint(user.username, user.phone_number)"
   ]
  },
  {
   "cell_type": "markdown",
   "metadata": {},
   "source": [
    "문제 : 특정 이메일 도메인(@gmail.com)을 가진 사용자를 조회 후 출력해주세요"
   ]
  },
  {
   "cell_type": "code",
   "execution_count": null,
   "metadata": {},
   "outputs": [],
   "source": [
    "from accounts.models import Account\n",
    "gmail_users = Account.objects.filter(email__endswich='@gmail.com')\n",
    "for user in gmail_users:\n",
    "\tprint(user.username, user.email)"
   ]
  },
  {
   "cell_type": "markdown",
   "metadata": {},
   "source": [
    "문제 : 사용자 이름에 '지'가 포함된 사용자를 조회 후 출력해주세요"
   ]
  },
  {
   "cell_type": "code",
   "execution_count": null,
   "metadata": {},
   "outputs": [],
   "source": [
    "from accounts.models import Account\n",
    "user_ji = Account.objects.filter(username__contains='지')\n",
    "for user in user_ji:\n",
    "\tprint(user.username)"
   ]
  },
  {
   "cell_type": "markdown",
   "metadata": {},
   "source": [
    "문제 : 최근 등록된 사용자 2명을 조회 후 출력해주세요"
   ]
  },
  {
   "cell_type": "code",
   "execution_count": null,
   "metadata": {},
   "outputs": [],
   "source": [
    "from accounts.models import Account\n",
    "recent_user_two = Account.objects.all().order_by('-date_joined')[:2]\n",
    "for user in recent_user_two:\n",
    "\tprint(user.username, user.date_joined)"
   ]
  },
  {
   "cell_type": "markdown",
   "metadata": {},
   "source": [
    "### 3.특정 사용자 조회하기\n",
    "\n",
    "1. 관계 설정된 모델에 데이터 추가하기"
   ]
  },
  {
   "cell_type": "markdown",
   "metadata": {},
   "source": [
    "- 박지수 사용자의 address 정보를 추가해주세요\n",
    "    - `user` : jisoo\n",
    "    - `street` : 23-2\n",
    "    - `city` : 서울시\n",
    "    - `state` : 영등포구\n",
    "    - `postal_code` : 04231\n",
    "    - `country` : 대한민국"
   ]
  },
  {
   "cell_type": "code",
   "execution_count": null,
   "metadata": {},
   "outputs": [],
   "source": [
    "from accounts.models import Account\n",
    "jisoo = Account.objects.get(username='박지수')\n",
    "jisoo_address = Address(\n",
    "\tuser = jisoo,\n",
    "\tstreet = \"23-2\",\n",
    "\tcity = \"서울시\",\n",
    "\tstate = \"영등포구\"\n",
    "\tpostal_code = \"04231\",\n",
    "\tcountry = \"대한민국\"\n",
    ")\n",
    "jisoo_address.save()"
   ]
  },
  {
   "cell_type": "markdown",
   "metadata": {},
   "source": [
    "- 민현지 사용자의 address 정보를 추가해주세요\n",
    "    - `user` : hyunji\n",
    "    - `street` : 43-1\n",
    "    - `city` : 부산특별시\n",
    "    - `state` : 사직동\n",
    "    - `postal_code` : 61234\n",
    "    - `country` : 대한민국"
   ]
  },
  {
   "cell_type": "code",
   "execution_count": null,
   "metadata": {},
   "outputs": [],
   "source": [
    "from accounts.models import Account\n",
    "hyunji = Account.objects.get(username=\"민현지\")\n",
    "hyunji_address = Address(\n",
    "\tuser = hyunji,\n",
    "\tstreet = \"43-1\",\n",
    "\tcity = \"부산특별시\",\n",
    "\tstate = \"사직동\",\n",
    "\tpostal_code = \"61234\",\n",
    "\tcountry = \"대한민국\"\n",
    ")\n",
    "hyunji_address.save()"
   ]
  },
  {
   "cell_type": "markdown",
   "metadata": {},
   "source": [
    "- 강철 사용자의 address 정보를 추가해주세요\n",
    "    - `user` : kang_chul\n",
    "    - `street` : 99-2\n",
    "    - `city` : 서울\n",
    "    - `state` : 강남구\n",
    "    - `postal_code` : 68975\n",
    "    - `country` : 대한민국"
   ]
  },
  {
   "cell_type": "code",
   "metadata": {
    "ExecuteTime": {
     "end_time": "2024-12-10T12:53:51.209450Z",
     "start_time": "2024-12-10T12:53:51.039732Z"
    }
   },
   "source": [
    "from accounts.models import Account\n",
    "kangchul = Account.objects.get(username = \"강철\")\n",
    "kangchul_address = Address(\n",
    "\tuser = kangchul,\n",
    "\tstreet = \"99-2\",\n",
    "\tcity = \"서울\",\n",
    "\tstate = \"강남구\",\n",
    "\tpostal_code = \"68975\",\n",
    "\tcountry = \"대한민국\"\n",
    ")\n",
    "kangchul_address.save()"
   ],
   "outputs": [
    {
     "ename": "ModuleNotFoundError",
     "evalue": "No module named 'accounts'",
     "output_type": "error",
     "traceback": [
      "\u001B[0;31m---------------------------------------------------------------------------\u001B[0m",
      "\u001B[0;31mModuleNotFoundError\u001B[0m                       Traceback (most recent call last)",
      "Cell \u001B[0;32mIn[1], line 1\u001B[0m\n\u001B[0;32m----> 1\u001B[0m \u001B[38;5;28;01mfrom\u001B[39;00m \u001B[38;5;21;01maccounts\u001B[39;00m\u001B[38;5;21;01m.\u001B[39;00m\u001B[38;5;21;01mmodels\u001B[39;00m \u001B[38;5;28;01mimport\u001B[39;00m Account\n\u001B[1;32m      2\u001B[0m kangchul \u001B[38;5;241m=\u001B[39m Account\u001B[38;5;241m.\u001B[39mobjects\u001B[38;5;241m.\u001B[39mget(username \u001B[38;5;241m=\u001B[39m \u001B[38;5;124m\"\u001B[39m\u001B[38;5;124m강철\u001B[39m\u001B[38;5;124m\"\u001B[39m)\n\u001B[1;32m      3\u001B[0m kangchul_address \u001B[38;5;241m=\u001B[39m Address(\n\u001B[1;32m      4\u001B[0m \tuser \u001B[38;5;241m=\u001B[39m kangchul,\n\u001B[1;32m      5\u001B[0m \tstreet \u001B[38;5;241m=\u001B[39m \u001B[38;5;124m\"\u001B[39m\u001B[38;5;124m99-2\u001B[39m\u001B[38;5;124m\"\u001B[39m,\n\u001B[0;32m   (...)\u001B[0m\n\u001B[1;32m      9\u001B[0m \tcountry \u001B[38;5;241m=\u001B[39m \u001B[38;5;124m\"\u001B[39m\u001B[38;5;124m대한민국\u001B[39m\u001B[38;5;124m\"\u001B[39m\n\u001B[1;32m     10\u001B[0m )\n",
      "\u001B[0;31mModuleNotFoundError\u001B[0m: No module named 'accounts'"
     ]
    }
   ],
   "execution_count": 1
  },
  {
   "cell_type": "markdown",
   "metadata": {},
   "source": [
    "### 4. 관계 설정된 모델에 데이터 조회하기\n",
    "\n",
    "'박지수' 사용자에 연결된 모든 주소 정보를 조회 후 출력해주세요"
   ]
  },
  {
   "cell_type": "code",
   "execution_count": null,
   "metadata": {},
   "outputs": [],
   "source": [
    "from accounts.models import Account\n",
    "from addresses.models import Address\n",
    "jisoo = Account.objects.get(username=\"박지수\")\n",
    "address_jisoo = Address.objects.filter(user=jisoo)\n",
    "for address in address_jisoo:\n",
    "\tprint(address)"
   ]
  },
  {
   "cell_type": "markdown",
   "metadata": {},
   "source": [
    "### 5.사용자 정보 삭제하기\n",
    "\n",
    "‘강철’ 사용자의 장보를 삭제해주세요"
   ]
  },
  {
   "cell_type": "markdown",
   "metadata": {},
   "source": [
    "from accunts.models import Account\n",
    "kangchul = Account.objects.get(username=\"강철\")\n",
    "kangchul.delete()"
   ]
  }
 ],
 "metadata": {
  "language_info": {
   "name": "python"
  },
  "kernelspec": {
   "name": "python3",
   "language": "python",
   "display_name": "Python 3 (ipykernel)"
  }
 },
 "nbformat": 4,
 "nbformat_minor": 2
}
